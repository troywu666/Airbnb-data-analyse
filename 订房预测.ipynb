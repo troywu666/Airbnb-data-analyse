{
 "cells": [
  {
   "cell_type": "markdown",
   "metadata": {
    "toc": true
   },
   "source": [
    "<h1>Table of Contents<span class=\"tocSkip\"></span></h1>\n",
    "<div class=\"toc\"><ul class=\"toc-item\"><li><span><a href=\"#Data_Exploring\" data-toc-modified-id=\"Data_Exploring-1\"><span class=\"toc-item-num\">1&nbsp;&nbsp;</span>Data_Exploring</a></span><ul class=\"toc-item\"><li><span><a href=\"#Explore-Each-Feature\" data-toc-modified-id=\"Explore-Each-Feature-1.1\"><span class=\"toc-item-num\">1.1&nbsp;&nbsp;</span>Explore Each Feature</a></span><ul class=\"toc-item\"><li><span><a href=\"#date_account_created\" data-toc-modified-id=\"date_account_created-1.1.1\"><span class=\"toc-item-num\">1.1.1&nbsp;&nbsp;</span>date_account_created</a></span></li><li><span><a href=\"#timestamp_first_active\" data-toc-modified-id=\"timestamp_first_active-1.1.2\"><span class=\"toc-item-num\">1.1.2&nbsp;&nbsp;</span>timestamp_first_active</a></span></li><li><span><a href=\"#age\" data-toc-modified-id=\"age-1.1.3\"><span class=\"toc-item-num\">1.1.3&nbsp;&nbsp;</span>age</a></span></li><li><span><a href=\"#Categorical-features\" data-toc-modified-id=\"Categorical-features-1.1.4\"><span class=\"toc-item-num\">1.1.4&nbsp;&nbsp;</span>Categorical features</a></span></li></ul></li></ul></li><li><span><a href=\"#Feature_Enginnering\" data-toc-modified-id=\"Feature_Enginnering-2\"><span class=\"toc-item-num\">2&nbsp;&nbsp;</span>Feature_Enginnering</a></span><ul class=\"toc-item\"><li><span><a href=\"#session数据集\" data-toc-modified-id=\"session数据集-2.1\"><span class=\"toc-item-num\">2.1&nbsp;&nbsp;</span>session 数据集</a></span></li><li><span><a href=\"#train和test数据集\" data-toc-modified-id=\"train和test数据集-2.2\"><span class=\"toc-item-num\">2.2&nbsp;&nbsp;</span>train 和 test 数据集</a></span><ul class=\"toc-item\"><li><span><a href=\"#timestamp_first_active\" data-toc-modified-id=\"timestamp_first_active-2.2.1\"><span class=\"toc-item-num\">2.2.1&nbsp;&nbsp;</span>timestamp_first_active</a></span></li><li><span><a href=\"#date_account_created\" data-toc-modified-id=\"date_account_created-2.2.2\"><span class=\"toc-item-num\">2.2.2&nbsp;&nbsp;</span>date_account_created</a></span></li><li><span><a href=\"#time-span-between-dac-and-tfa\" data-toc-modified-id=\"time-span-between-dac-and-tfa-2.2.3\"><span class=\"toc-item-num\">2.2.3&nbsp;&nbsp;</span>time span between dac and tfa</a></span></li><li><span><a href=\"#age\" data-toc-modified-id=\"age-2.2.4\"><span class=\"toc-item-num\">2.2.4&nbsp;&nbsp;</span>age</a></span></li><li><span><a href=\"#categorical-features\" data-toc-modified-id=\"categorical-features-2.2.5\"><span class=\"toc-item-num\">2.2.5&nbsp;&nbsp;</span>categorical features</a></span></li><li><span><a href=\"#merge-with-session\" data-toc-modified-id=\"merge-with-session-2.2.6\"><span class=\"toc-item-num\">2.2.6&nbsp;&nbsp;</span>merge with session</a></span></li><li><span><a href=\"#split-train-and-test-datasets\" data-toc-modified-id=\"split-train-and-test-datasets-2.2.7\"><span class=\"toc-item-num\">2.2.7&nbsp;&nbsp;</span>split train and test datasets</a></span></li></ul></li></ul></li><li><span><a href=\"#Modeling\" data-toc-modified-id=\"Modeling-3\"><span class=\"toc-item-num\">3&nbsp;&nbsp;</span>Modeling</a></span><ul class=\"toc-item\"><li><span><a href=\"#Airbnb-Evaluation:-NDCG\" data-toc-modified-id=\"Airbnb-Evaluation:-NDCG-3.1\"><span class=\"toc-item-num\">3.1&nbsp;&nbsp;</span>Airbnb Evaluation: NDCG</a></span></li><li><span><a href=\"#logistic-regression\" data-toc-modified-id=\"logistic-regression-3.2\"><span class=\"toc-item-num\">3.2&nbsp;&nbsp;</span>logistic regression</a></span><ul class=\"toc-item\"><li><span><a href=\"#模型拟合\" data-toc-modified-id=\"模型拟合-3.2.1\"><span class=\"toc-item-num\">3.2.1&nbsp;&nbsp;</span>模型拟合</a></span></li><li><span><a href=\"#迭代次数对比\" data-toc-modified-id=\"迭代次数对比-3.2.2\"><span class=\"toc-item-num\">3.2.2&nbsp;&nbsp;</span>迭代次数对比</a></span></li></ul></li><li><span><a href=\"#Tree-method\" data-toc-modified-id=\"Tree-method-3.3\"><span class=\"toc-item-num\">3.3&nbsp;&nbsp;</span>Tree method</a></span><ul class=\"toc-item\"><li><span><a href=\"#随机森林模型不同数量分类器效果对比\" data-toc-modified-id=\"随机森林模型不同数量分类器效果对比-3.3.1\"><span class=\"toc-item-num\">3.3.1&nbsp;&nbsp;</span>随机森林模型不同数量分类器效果对比</a></span></li><li><span><a href=\"#各种树模型拟合效果对比\" data-toc-modified-id=\"各种树模型拟合效果对比-3.3.2\"><span class=\"toc-item-num\">3.3.2&nbsp;&nbsp;</span>各种树模型拟合效果对比</a></span></li></ul></li><li><span><a href=\"#SVM\" data-toc-modified-id=\"SVM-3.4\"><span class=\"toc-item-num\">3.4&nbsp;&nbsp;</span>SVM</a></span></li><li><span><a href=\"#XGBOOST\" data-toc-modified-id=\"XGBOOST-3.5\"><span class=\"toc-item-num\">3.5&nbsp;&nbsp;</span>XGBOOST</a></span></li></ul></li></ul></div>"
   ]
  },
  {
   "cell_type": "markdown",
   "metadata": {},
   "source": [
    "## Data_Exploring"
   ]
  },
  {
   "cell_type": "code",
   "execution_count": 36,
   "metadata": {
    "ExecuteTime": {
     "end_time": "2019-05-25T05:12:07.503907Z",
     "start_time": "2019-05-25T05:12:07.442866Z"
    }
   },
   "outputs": [],
   "source": [
    "import numpy as np\n",
    "import pandas as pd\n",
    "import matplotlib.pyplot as plt\n",
    "import sklearn as sk\n",
    "%matplotlib inline\n",
    "import datetime\n",
    "import os\n",
    "import seaborn as sns"
   ]
  },
  {
   "cell_type": "code",
   "execution_count": 37,
   "metadata": {
    "ExecuteTime": {
     "end_time": "2019-05-25T05:12:09.630835Z",
     "start_time": "2019-05-25T05:12:08.083544Z"
    }
   },
   "outputs": [],
   "source": [
    "train = pd.read_csv(\"train_users_2.csv\")\n",
    "test = pd.read_csv(\"test_users.csv\")"
   ]
  },
  {
   "cell_type": "code",
   "execution_count": 38,
   "metadata": {
    "ExecuteTime": {
     "end_time": "2019-05-25T05:12:10.013092Z",
     "start_time": "2019-05-25T05:12:09.974063Z"
    }
   },
   "outputs": [
    {
     "data": {
      "text/html": [
       "<div>\n",
       "<style scoped>\n",
       "    .dataframe tbody tr th:only-of-type {\n",
       "        vertical-align: middle;\n",
       "    }\n",
       "\n",
       "    .dataframe tbody tr th {\n",
       "        vertical-align: top;\n",
       "    }\n",
       "\n",
       "    .dataframe thead th {\n",
       "        text-align: right;\n",
       "    }\n",
       "</style>\n",
       "<table border=\"1\" class=\"dataframe\">\n",
       "  <thead>\n",
       "    <tr style=\"text-align: right;\">\n",
       "      <th></th>\n",
       "      <th>id</th>\n",
       "      <th>date_account_created</th>\n",
       "      <th>timestamp_first_active</th>\n",
       "      <th>date_first_booking</th>\n",
       "      <th>gender</th>\n",
       "      <th>age</th>\n",
       "      <th>signup_method</th>\n",
       "      <th>signup_flow</th>\n",
       "      <th>language</th>\n",
       "      <th>affiliate_channel</th>\n",
       "      <th>affiliate_provider</th>\n",
       "      <th>first_affiliate_tracked</th>\n",
       "      <th>signup_app</th>\n",
       "      <th>first_device_type</th>\n",
       "      <th>first_browser</th>\n",
       "      <th>country_destination</th>\n",
       "    </tr>\n",
       "  </thead>\n",
       "  <tbody>\n",
       "    <tr>\n",
       "      <th>0</th>\n",
       "      <td>gxn3p5htnn</td>\n",
       "      <td>2010-06-28</td>\n",
       "      <td>20090319043255</td>\n",
       "      <td>NaN</td>\n",
       "      <td>-unknown-</td>\n",
       "      <td>NaN</td>\n",
       "      <td>facebook</td>\n",
       "      <td>0</td>\n",
       "      <td>en</td>\n",
       "      <td>direct</td>\n",
       "      <td>direct</td>\n",
       "      <td>untracked</td>\n",
       "      <td>Web</td>\n",
       "      <td>Mac Desktop</td>\n",
       "      <td>Chrome</td>\n",
       "      <td>NDF</td>\n",
       "    </tr>\n",
       "    <tr>\n",
       "      <th>1</th>\n",
       "      <td>820tgsjxq7</td>\n",
       "      <td>2011-05-25</td>\n",
       "      <td>20090523174809</td>\n",
       "      <td>NaN</td>\n",
       "      <td>MALE</td>\n",
       "      <td>38.0</td>\n",
       "      <td>facebook</td>\n",
       "      <td>0</td>\n",
       "      <td>en</td>\n",
       "      <td>seo</td>\n",
       "      <td>google</td>\n",
       "      <td>untracked</td>\n",
       "      <td>Web</td>\n",
       "      <td>Mac Desktop</td>\n",
       "      <td>Chrome</td>\n",
       "      <td>NDF</td>\n",
       "    </tr>\n",
       "    <tr>\n",
       "      <th>2</th>\n",
       "      <td>4ft3gnwmtx</td>\n",
       "      <td>2010-09-28</td>\n",
       "      <td>20090609231247</td>\n",
       "      <td>2010-08-02</td>\n",
       "      <td>FEMALE</td>\n",
       "      <td>56.0</td>\n",
       "      <td>basic</td>\n",
       "      <td>3</td>\n",
       "      <td>en</td>\n",
       "      <td>direct</td>\n",
       "      <td>direct</td>\n",
       "      <td>untracked</td>\n",
       "      <td>Web</td>\n",
       "      <td>Windows Desktop</td>\n",
       "      <td>IE</td>\n",
       "      <td>US</td>\n",
       "    </tr>\n",
       "    <tr>\n",
       "      <th>3</th>\n",
       "      <td>bjjt8pjhuk</td>\n",
       "      <td>2011-12-05</td>\n",
       "      <td>20091031060129</td>\n",
       "      <td>2012-09-08</td>\n",
       "      <td>FEMALE</td>\n",
       "      <td>42.0</td>\n",
       "      <td>facebook</td>\n",
       "      <td>0</td>\n",
       "      <td>en</td>\n",
       "      <td>direct</td>\n",
       "      <td>direct</td>\n",
       "      <td>untracked</td>\n",
       "      <td>Web</td>\n",
       "      <td>Mac Desktop</td>\n",
       "      <td>Firefox</td>\n",
       "      <td>other</td>\n",
       "    </tr>\n",
       "    <tr>\n",
       "      <th>4</th>\n",
       "      <td>87mebub9p4</td>\n",
       "      <td>2010-09-14</td>\n",
       "      <td>20091208061105</td>\n",
       "      <td>2010-02-18</td>\n",
       "      <td>-unknown-</td>\n",
       "      <td>41.0</td>\n",
       "      <td>basic</td>\n",
       "      <td>0</td>\n",
       "      <td>en</td>\n",
       "      <td>direct</td>\n",
       "      <td>direct</td>\n",
       "      <td>untracked</td>\n",
       "      <td>Web</td>\n",
       "      <td>Mac Desktop</td>\n",
       "      <td>Chrome</td>\n",
       "      <td>US</td>\n",
       "    </tr>\n",
       "  </tbody>\n",
       "</table>\n",
       "</div>"
      ],
      "text/plain": [
       "           id date_account_created  timestamp_first_active date_first_booking  \\\n",
       "0  gxn3p5htnn           2010-06-28          20090319043255                NaN   \n",
       "1  820tgsjxq7           2011-05-25          20090523174809                NaN   \n",
       "2  4ft3gnwmtx           2010-09-28          20090609231247         2010-08-02   \n",
       "3  bjjt8pjhuk           2011-12-05          20091031060129         2012-09-08   \n",
       "4  87mebub9p4           2010-09-14          20091208061105         2010-02-18   \n",
       "\n",
       "      gender   age signup_method  signup_flow language affiliate_channel  \\\n",
       "0  -unknown-   NaN      facebook            0       en            direct   \n",
       "1       MALE  38.0      facebook            0       en               seo   \n",
       "2     FEMALE  56.0         basic            3       en            direct   \n",
       "3     FEMALE  42.0      facebook            0       en            direct   \n",
       "4  -unknown-  41.0         basic            0       en            direct   \n",
       "\n",
       "  affiliate_provider first_affiliate_tracked signup_app first_device_type  \\\n",
       "0             direct               untracked        Web       Mac Desktop   \n",
       "1             google               untracked        Web       Mac Desktop   \n",
       "2             direct               untracked        Web   Windows Desktop   \n",
       "3             direct               untracked        Web       Mac Desktop   \n",
       "4             direct               untracked        Web       Mac Desktop   \n",
       "\n",
       "  first_browser country_destination  \n",
       "0        Chrome                 NDF  \n",
       "1        Chrome                 NDF  \n",
       "2            IE                  US  \n",
       "3       Firefox               other  \n",
       "4        Chrome                  US  "
      ]
     },
     "execution_count": 38,
     "metadata": {},
     "output_type": "execute_result"
    }
   ],
   "source": [
    "train.head()"
   ]
  },
  {
   "cell_type": "code",
   "execution_count": 39,
   "metadata": {
    "ExecuteTime": {
     "end_time": "2019-05-25T05:12:10.379331Z",
     "start_time": "2019-05-25T05:12:10.343308Z"
    }
   },
   "outputs": [
    {
     "data": {
      "text/html": [
       "<div>\n",
       "<style scoped>\n",
       "    .dataframe tbody tr th:only-of-type {\n",
       "        vertical-align: middle;\n",
       "    }\n",
       "\n",
       "    .dataframe tbody tr th {\n",
       "        vertical-align: top;\n",
       "    }\n",
       "\n",
       "    .dataframe thead th {\n",
       "        text-align: right;\n",
       "    }\n",
       "</style>\n",
       "<table border=\"1\" class=\"dataframe\">\n",
       "  <thead>\n",
       "    <tr style=\"text-align: right;\">\n",
       "      <th></th>\n",
       "      <th>id</th>\n",
       "      <th>date_account_created</th>\n",
       "      <th>timestamp_first_active</th>\n",
       "      <th>date_first_booking</th>\n",
       "      <th>gender</th>\n",
       "      <th>age</th>\n",
       "      <th>signup_method</th>\n",
       "      <th>signup_flow</th>\n",
       "      <th>language</th>\n",
       "      <th>affiliate_channel</th>\n",
       "      <th>affiliate_provider</th>\n",
       "      <th>first_affiliate_tracked</th>\n",
       "      <th>signup_app</th>\n",
       "      <th>first_device_type</th>\n",
       "      <th>first_browser</th>\n",
       "    </tr>\n",
       "  </thead>\n",
       "  <tbody>\n",
       "    <tr>\n",
       "      <th>0</th>\n",
       "      <td>5uwns89zht</td>\n",
       "      <td>2014-07-01</td>\n",
       "      <td>20140701000006</td>\n",
       "      <td>NaN</td>\n",
       "      <td>FEMALE</td>\n",
       "      <td>35.0</td>\n",
       "      <td>facebook</td>\n",
       "      <td>0</td>\n",
       "      <td>en</td>\n",
       "      <td>direct</td>\n",
       "      <td>direct</td>\n",
       "      <td>untracked</td>\n",
       "      <td>Moweb</td>\n",
       "      <td>iPhone</td>\n",
       "      <td>Mobile Safari</td>\n",
       "    </tr>\n",
       "    <tr>\n",
       "      <th>1</th>\n",
       "      <td>jtl0dijy2j</td>\n",
       "      <td>2014-07-01</td>\n",
       "      <td>20140701000051</td>\n",
       "      <td>NaN</td>\n",
       "      <td>-unknown-</td>\n",
       "      <td>NaN</td>\n",
       "      <td>basic</td>\n",
       "      <td>0</td>\n",
       "      <td>en</td>\n",
       "      <td>direct</td>\n",
       "      <td>direct</td>\n",
       "      <td>untracked</td>\n",
       "      <td>Moweb</td>\n",
       "      <td>iPhone</td>\n",
       "      <td>Mobile Safari</td>\n",
       "    </tr>\n",
       "    <tr>\n",
       "      <th>2</th>\n",
       "      <td>xx0ulgorjt</td>\n",
       "      <td>2014-07-01</td>\n",
       "      <td>20140701000148</td>\n",
       "      <td>NaN</td>\n",
       "      <td>-unknown-</td>\n",
       "      <td>NaN</td>\n",
       "      <td>basic</td>\n",
       "      <td>0</td>\n",
       "      <td>en</td>\n",
       "      <td>direct</td>\n",
       "      <td>direct</td>\n",
       "      <td>linked</td>\n",
       "      <td>Web</td>\n",
       "      <td>Windows Desktop</td>\n",
       "      <td>Chrome</td>\n",
       "    </tr>\n",
       "    <tr>\n",
       "      <th>3</th>\n",
       "      <td>6c6puo6ix0</td>\n",
       "      <td>2014-07-01</td>\n",
       "      <td>20140701000215</td>\n",
       "      <td>NaN</td>\n",
       "      <td>-unknown-</td>\n",
       "      <td>NaN</td>\n",
       "      <td>basic</td>\n",
       "      <td>0</td>\n",
       "      <td>en</td>\n",
       "      <td>direct</td>\n",
       "      <td>direct</td>\n",
       "      <td>linked</td>\n",
       "      <td>Web</td>\n",
       "      <td>Windows Desktop</td>\n",
       "      <td>IE</td>\n",
       "    </tr>\n",
       "    <tr>\n",
       "      <th>4</th>\n",
       "      <td>czqhjk3yfe</td>\n",
       "      <td>2014-07-01</td>\n",
       "      <td>20140701000305</td>\n",
       "      <td>NaN</td>\n",
       "      <td>-unknown-</td>\n",
       "      <td>NaN</td>\n",
       "      <td>basic</td>\n",
       "      <td>0</td>\n",
       "      <td>en</td>\n",
       "      <td>direct</td>\n",
       "      <td>direct</td>\n",
       "      <td>untracked</td>\n",
       "      <td>Web</td>\n",
       "      <td>Mac Desktop</td>\n",
       "      <td>Safari</td>\n",
       "    </tr>\n",
       "  </tbody>\n",
       "</table>\n",
       "</div>"
      ],
      "text/plain": [
       "           id date_account_created  timestamp_first_active  \\\n",
       "0  5uwns89zht           2014-07-01          20140701000006   \n",
       "1  jtl0dijy2j           2014-07-01          20140701000051   \n",
       "2  xx0ulgorjt           2014-07-01          20140701000148   \n",
       "3  6c6puo6ix0           2014-07-01          20140701000215   \n",
       "4  czqhjk3yfe           2014-07-01          20140701000305   \n",
       "\n",
       "   date_first_booking     gender   age signup_method  signup_flow language  \\\n",
       "0                 NaN     FEMALE  35.0      facebook            0       en   \n",
       "1                 NaN  -unknown-   NaN         basic            0       en   \n",
       "2                 NaN  -unknown-   NaN         basic            0       en   \n",
       "3                 NaN  -unknown-   NaN         basic            0       en   \n",
       "4                 NaN  -unknown-   NaN         basic            0       en   \n",
       "\n",
       "  affiliate_channel affiliate_provider first_affiliate_tracked signup_app  \\\n",
       "0            direct             direct               untracked      Moweb   \n",
       "1            direct             direct               untracked      Moweb   \n",
       "2            direct             direct                  linked        Web   \n",
       "3            direct             direct                  linked        Web   \n",
       "4            direct             direct               untracked        Web   \n",
       "\n",
       "  first_device_type  first_browser  \n",
       "0            iPhone  Mobile Safari  \n",
       "1            iPhone  Mobile Safari  \n",
       "2   Windows Desktop         Chrome  \n",
       "3   Windows Desktop             IE  \n",
       "4       Mac Desktop         Safari  "
      ]
     },
     "execution_count": 39,
     "metadata": {},
     "output_type": "execute_result"
    }
   ],
   "source": [
    "test.head()"
   ]
  },
  {
   "cell_type": "code",
   "execution_count": 40,
   "metadata": {
    "ExecuteTime": {
     "end_time": "2019-05-25T05:12:11.209885Z",
     "start_time": "2019-05-25T05:12:10.697543Z"
    }
   },
   "outputs": [
    {
     "name": "stdout",
     "output_type": "stream",
     "text": [
      "<class 'pandas.core.frame.DataFrame'>\n",
      "RangeIndex: 213451 entries, 0 to 213450\n",
      "Data columns (total 16 columns):\n",
      "id                         213451 non-null object\n",
      "date_account_created       213451 non-null object\n",
      "timestamp_first_active     213451 non-null int64\n",
      "date_first_booking         88908 non-null object\n",
      "gender                     213451 non-null object\n",
      "age                        125461 non-null float64\n",
      "signup_method              213451 non-null object\n",
      "signup_flow                213451 non-null int64\n",
      "language                   213451 non-null object\n",
      "affiliate_channel          213451 non-null object\n",
      "affiliate_provider         213451 non-null object\n",
      "first_affiliate_tracked    207386 non-null object\n",
      "signup_app                 213451 non-null object\n",
      "first_device_type          213451 non-null object\n",
      "first_browser              213451 non-null object\n",
      "country_destination        213451 non-null object\n",
      "dtypes: float64(1), int64(2), object(13)\n",
      "memory usage: 26.1+ MB\n",
      "<class 'pandas.core.frame.DataFrame'>\n",
      "RangeIndex: 62096 entries, 0 to 62095\n",
      "Data columns (total 15 columns):\n",
      "id                         62096 non-null object\n",
      "date_account_created       62096 non-null object\n",
      "timestamp_first_active     62096 non-null int64\n",
      "date_first_booking         0 non-null float64\n",
      "gender                     62096 non-null object\n",
      "age                        33220 non-null float64\n",
      "signup_method              62096 non-null object\n",
      "signup_flow                62096 non-null int64\n",
      "language                   62096 non-null object\n",
      "affiliate_channel          62096 non-null object\n",
      "affiliate_provider         62096 non-null object\n",
      "first_affiliate_tracked    62076 non-null object\n",
      "signup_app                 62096 non-null object\n",
      "first_device_type          62096 non-null object\n",
      "first_browser              62096 non-null object\n",
      "dtypes: float64(2), int64(2), object(11)\n",
      "memory usage: 7.1+ MB\n",
      "None \n",
      " None\n"
     ]
    }
   ],
   "source": [
    "print(train.info(),'\\n',test.info())"
   ]
  },
  {
   "cell_type": "code",
   "execution_count": 41,
   "metadata": {
    "ExecuteTime": {
     "end_time": "2019-05-25T05:12:11.876326Z",
     "start_time": "2019-05-25T05:12:11.558116Z"
    }
   },
   "outputs": [
    {
     "name": "stdout",
     "output_type": "stream",
     "text": [
      "(213451, 16) (62096, 15)\n",
      "id                              0\n",
      "date_account_created            0\n",
      "timestamp_first_active          0\n",
      "date_first_booking         124543\n",
      "gender                          0\n",
      "age                         87990\n",
      "signup_method                   0\n",
      "signup_flow                     0\n",
      "language                        0\n",
      "affiliate_channel               0\n",
      "affiliate_provider              0\n",
      "first_affiliate_tracked      6065\n",
      "signup_app                      0\n",
      "first_device_type               0\n",
      "first_browser                   0\n",
      "country_destination             0\n",
      "dtype: int64 \n",
      " id                             0\n",
      "date_account_created           0\n",
      "timestamp_first_active         0\n",
      "date_first_booking         62096\n",
      "gender                         0\n",
      "age                        28876\n",
      "signup_method                  0\n",
      "signup_flow                    0\n",
      "language                       0\n",
      "affiliate_channel              0\n",
      "affiliate_provider             0\n",
      "first_affiliate_tracked       20\n",
      "signup_app                     0\n",
      "first_device_type              0\n",
      "first_browser                  0\n",
      "dtype: int64\n"
     ]
    }
   ],
   "source": [
    "print(train.shape,test.shape)\n",
    "print(train.isnull().sum(),'\\n',test.isnull().sum())"
   ]
  },
  {
   "cell_type": "markdown",
   "metadata": {},
   "source": [
    "### Explore Each Feature"
   ]
  },
  {
   "cell_type": "markdown",
   "metadata": {},
   "source": [
    "#### date_account_created"
   ]
  },
  {
   "cell_type": "code",
   "execution_count": 42,
   "metadata": {
    "ExecuteTime": {
     "end_time": "2019-05-25T05:12:12.519048Z",
     "start_time": "2019-05-25T05:12:12.167520Z"
    },
    "scrolled": true
   },
   "outputs": [
    {
     "name": "stdout",
     "output_type": "stream",
     "text": [
      "2014-05-13    674\n",
      "2014-06-24    670\n",
      "2014-06-25    636\n",
      "2014-05-20    632\n",
      "2014-05-14    622\n",
      "2014-06-03    602\n",
      "2014-05-21    602\n",
      "2014-06-16    598\n",
      "2014-06-11    593\n",
      "2014-05-28    590\n",
      "2014-06-30    590\n",
      "2014-06-26    587\n",
      "2014-04-23    587\n",
      "2014-06-23    586\n",
      "2014-06-09    577\n",
      "2014-06-18    564\n",
      "2014-06-19    564\n",
      "2014-06-04    562\n",
      "2014-06-27    557\n",
      "2014-05-19    556\n",
      "2014-06-10    555\n",
      "2014-06-05    550\n",
      "2014-06-17    548\n",
      "2014-06-20    544\n",
      "2014-05-22    543\n",
      "2014-06-02    534\n",
      "2014-05-16    534\n",
      "2014-05-15    530\n",
      "2014-06-12    524\n",
      "2014-04-29    519\n",
      "             ... \n",
      "2010-06-26      2\n",
      "2010-02-08      2\n",
      "2010-03-04      2\n",
      "2010-04-08      2\n",
      "2010-01-21      2\n",
      "2010-02-03      2\n",
      "2010-06-12      2\n",
      "2010-03-28      2\n",
      "2010-02-17      2\n",
      "2010-01-16      2\n",
      "2010-04-16      2\n",
      "2010-02-04      2\n",
      "2010-01-30      2\n",
      "2010-02-18      2\n",
      "2010-03-21      2\n",
      "2010-05-29      2\n",
      "2010-01-02      1\n",
      "2010-04-24      1\n",
      "2010-04-11      1\n",
      "2010-01-23      1\n",
      "2010-02-14      1\n",
      "2010-01-01      1\n",
      "2010-06-18      1\n",
      "2010-01-28      1\n",
      "2010-01-19      1\n",
      "2010-04-01      1\n",
      "2010-01-31      1\n",
      "2010-01-08      1\n",
      "2010-01-03      1\n",
      "2010-03-09      1\n",
      "Name: date_account_created, Length: 1634, dtype: int64 2014-07-23    1105\n",
      "2014-07-22    1052\n",
      "2014-07-17     978\n",
      "2014-07-24     923\n",
      "2014-07-18     892\n",
      "2014-07-21     888\n",
      "2014-08-27     872\n",
      "2014-08-26     841\n",
      "2014-07-29     816\n",
      "2014-08-06     790\n",
      "2014-07-30     786\n",
      "2014-08-12     785\n",
      "2014-08-11     781\n",
      "2014-08-05     772\n",
      "2014-08-28     772\n",
      "2014-07-28     764\n",
      "2014-07-16     757\n",
      "2014-07-25     754\n",
      "2014-09-16     751\n",
      "2014-07-31     751\n",
      "2014-08-14     742\n",
      "2014-08-19     741\n",
      "2014-08-07     739\n",
      "2014-09-10     739\n",
      "2014-08-08     738\n",
      "2014-07-20     738\n",
      "2014-08-13     731\n",
      "2014-09-03     729\n",
      "2014-08-04     728\n",
      "2014-08-25     725\n",
      "              ... \n",
      "2014-08-31     614\n",
      "2014-09-17     612\n",
      "2014-09-05     612\n",
      "2014-08-23     611\n",
      "2014-07-09     610\n",
      "2014-08-17     609\n",
      "2014-07-10     607\n",
      "2014-08-24     606\n",
      "2014-09-19     605\n",
      "2014-08-10     603\n",
      "2014-09-12     600\n",
      "2014-07-01     599\n",
      "2014-09-13     597\n",
      "2014-09-01     592\n",
      "2014-08-02     582\n",
      "2014-09-07     555\n",
      "2014-09-27     548\n",
      "2014-09-06     543\n",
      "2014-09-21     540\n",
      "2014-09-25     533\n",
      "2014-09-14     532\n",
      "2014-09-20     532\n",
      "2014-09-26     531\n",
      "2014-07-11     530\n",
      "2014-09-28     520\n",
      "2014-07-06     475\n",
      "2014-07-12     472\n",
      "2014-07-04     445\n",
      "2014-07-05     421\n",
      "2014-07-13     401\n",
      "Name: date_account_created, Length: 92, dtype: int64\n",
      "train.date_account_created: count    1634.000000\n",
      "mean      130.630967\n",
      "std       139.327895\n",
      "min         1.000000\n",
      "25%        15.000000\n",
      "50%        79.000000\n",
      "75%       201.000000\n",
      "max       674.000000\n",
      "Name: date_account_created, dtype: float64 test.date_account_created:\n",
      " count      92.000000\n",
      "mean      674.956522\n",
      "std       122.568116\n",
      "min       401.000000\n",
      "25%       606.750000\n",
      "50%       662.000000\n",
      "75%       739.000000\n",
      "max      1105.000000\n",
      "Name: date_account_created, dtype: float64\n"
     ]
    }
   ],
   "source": [
    "dac_train=train.date_account_created.value_counts()\n",
    "dac_test=test.date_account_created.value_counts()\n",
    "print(dac_train,dac_test)\n",
    "print('train.date_account_created:',\n",
    "      dac_train.describe(),\n",
    "      'test.date_account_created:\\n',\n",
    "      dac_test.describe())"
   ]
  },
  {
   "cell_type": "code",
   "execution_count": 43,
   "metadata": {
    "ExecuteTime": {
     "end_time": "2019-05-25T05:12:13.735448Z",
     "start_time": "2019-05-25T05:12:13.533219Z"
    }
   },
   "outputs": [
    {
     "name": "stdout",
     "output_type": "stream",
     "text": [
      "TimedeltaIndex(['1593 days', '1635 days', '1636 days', '1600 days',\n",
      "                '1594 days', '1614 days', '1601 days', '1627 days',\n",
      "                '1622 days', '1608 days',\n",
      "                ...\n",
      "                  '44 days',    '0 days',  '168 days',   '27 days',\n",
      "                  '18 days',   '90 days',   '30 days',    '7 days',\n",
      "                   '2 days',   '67 days'],\n",
      "               dtype='timedelta64[ns]', length=1634, freq=None) \n",
      " TimedeltaIndex(['1664 days', '1663 days', '1658 days', '1665 days',\n",
      "                '1659 days', '1662 days', '1699 days', '1698 days',\n",
      "                '1670 days', '1678 days', '1671 days', '1684 days',\n",
      "                '1683 days', '1677 days', '1700 days', '1669 days',\n",
      "                '1657 days', '1666 days', '1719 days', '1672 days',\n",
      "                '1686 days', '1691 days', '1679 days', '1713 days',\n",
      "                '1680 days', '1661 days', '1685 days', '1706 days',\n",
      "                '1676 days', '1697 days', '1727 days', '1660 days',\n",
      "                '1668 days', '1726 days', '1733 days', '1673 days',\n",
      "                '1705 days', '1732 days', '1693 days', '1667 days',\n",
      "                '1711 days', '1707 days', '1681 days', '1690 days',\n",
      "                '1694 days', '1649 days', '1692 days', '1656 days',\n",
      "                '1688 days', '1712 days', '1725 days', '1721 days',\n",
      "                '1687 days', '1702 days', '1643 days', '1718 days',\n",
      "                '1714 days', '1675 days', '1655 days', '1644 days',\n",
      "                '1648 days', '1701 days', '1703 days', '1720 days',\n",
      "                '1708 days', '1695 days', '1650 days', '1689 days',\n",
      "                '1651 days', '1696 days', '1722 days', '1682 days',\n",
      "                '1715 days', '1642 days', '1716 days', '1704 days',\n",
      "                '1674 days', '1710 days', '1730 days', '1709 days',\n",
      "                '1724 days', '1728 days', '1717 days', '1723 days',\n",
      "                '1729 days', '1652 days', '1731 days', '1647 days',\n",
      "                '1653 days', '1645 days', '1646 days', '1654 days'],\n",
      "               dtype='timedelta64[ns]', freq=None)\n"
     ]
    }
   ],
   "source": [
    "dac_train_data=pd.to_datetime(dac_train.index)\n",
    "dac_test_data=pd.to_datetime(dac_test.index)\n",
    "\n",
    "dac_train_day=dac_train_data-dac_train_data.min()\n",
    "dac_test_day=dac_test_data-dac_train_data.min()\n",
    "\n",
    "print(dac_train_day,'\\n',dac_test_day)"
   ]
  },
  {
   "cell_type": "code",
   "execution_count": 44,
   "metadata": {
    "ExecuteTime": {
     "end_time": "2019-05-25T05:12:14.165737Z",
     "start_time": "2019-05-25T05:12:14.118704Z"
    }
   },
   "outputs": [
    {
     "data": {
      "text/plain": [
       "Int64Index([1593, 1635, 1636, 1600, 1594, 1614, 1601, 1627, 1622, 1608,\n",
       "            ...\n",
       "              44,    0,  168,   27,   18,   90,   30,    7,    2,   67],\n",
       "           dtype='int64', length=1634)"
      ]
     },
     "execution_count": 44,
     "metadata": {},
     "output_type": "execute_result"
    }
   ],
   "source": [
    "dac_train_day.days"
   ]
  },
  {
   "cell_type": "code",
   "execution_count": 45,
   "metadata": {
    "ExecuteTime": {
     "end_time": "2019-05-25T05:12:15.005324Z",
     "start_time": "2019-05-25T05:12:14.582008Z"
    }
   },
   "outputs": [
    {
     "data": {
      "text/plain": [
       "Text(0.5, 1.0, 'Accounts created vs day')"
      ]
     },
     "execution_count": 45,
     "metadata": {},
     "output_type": "execute_result"
    },
    {
     "data": {
      "image/png": "[encoded data removed]",
      "text/plain": [
       "<Figure size 432x288 with 1 Axes>"
      ]
     },
     "metadata": {},
     "output_type": "display_data"
    }
   ],
   "source": [
    "plt.scatter(dac_train_day.days,dac_train.values,color='r',label='train_datasets')\n",
    "plt.scatter(dac_test_day.days,dac_test.values,color='b',label='test_datasets')\n",
    "plt.xlabel(\"Days\")\n",
    "plt.ylabel(\"The number of accounts created\")\n",
    "plt.title('Accounts created vs day')"
   ]
  },
  {
   "cell_type": "markdown",
   "metadata": {},
   "source": [
    "#### timestamp_first_active"
   ]
  },
  {
   "cell_type": "code",
   "execution_count": 46,
   "metadata": {
    "ExecuteTime": {
     "end_time": "2019-05-25T05:12:15.552691Z",
     "start_time": "2019-05-25T05:12:15.542683Z"
    }
   },
   "outputs": [
    {
     "data": {
      "text/plain": [
       "0         20090319043255\n",
       "1         20090523174809\n",
       "2         20090609231247\n",
       "3         20091031060129\n",
       "4         20091208061105\n",
       "5         20100101215619\n",
       "6         20100102012558\n",
       "7         20100103191905\n",
       "8         20100104004211\n",
       "9         20100104023758\n",
       "10        20100104194251\n",
       "11        20100105051812\n",
       "12        20100105060859\n",
       "13        20100105083259\n",
       "14        20100107055820\n",
       "15        20100107204555\n",
       "16        20100107215125\n",
       "17        20100107224625\n",
       "18        20100108015641\n",
       "19        20100110010817\n",
       "20        20100110152120\n",
       "21        20100110220941\n",
       "22        20100111031438\n",
       "23        20100111224015\n",
       "24        20100111230808\n",
       "25        20100112131444\n",
       "26        20100112155420\n",
       "27        20100112205949\n",
       "28        20100113044650\n",
       "29        20100113064333\n",
       "               ...      \n",
       "213421    20140630231137\n",
       "213422    20140630231246\n",
       "213423    20140630231548\n",
       "213424    20140630231859\n",
       "213425    20140630232119\n",
       "213426    20140630232331\n",
       "213427    20140630232539\n",
       "213428    20140630232634\n",
       "213429    20140630232712\n",
       "213430    20140630233132\n",
       "213431    20140630233203\n",
       "213432    20140630233224\n",
       "213433    20140630233427\n",
       "213434    20140630233640\n",
       "213435    20140630233851\n",
       "213436    20140630234113\n",
       "213437    20140630234243\n",
       "213438    20140630234429\n",
       "213439    20140630234729\n",
       "213440    20140630234933\n",
       "213441    20140630235151\n",
       "213442    20140630235309\n",
       "213443    20140630235340\n",
       "213444    20140630235352\n",
       "213445    20140630235547\n",
       "213446    20140630235636\n",
       "213447    20140630235719\n",
       "213448    20140630235754\n",
       "213449    20140630235822\n",
       "213450    20140630235824\n",
       "Name: timestamp_first_active, Length: 213451, dtype: int64"
      ]
     },
     "execution_count": 46,
     "metadata": {},
     "output_type": "execute_result"
    }
   ],
   "source": [
    "tfa_train=train.timestamp_first_active\n",
    "tfa_train"
   ]
  },
  {
   "cell_type": "code",
   "execution_count": 47,
   "metadata": {
    "ExecuteTime": {
     "end_time": "2019-05-25T05:12:21.391780Z",
     "start_time": "2019-05-25T05:12:16.066032Z"
    }
   },
   "outputs": [
    {
     "data": {
      "text/plain": [
       "0   2009-03-19 04:32:55\n",
       "1   2009-05-23 17:48:09\n",
       "2   2009-06-09 23:12:47\n",
       "3   2009-10-31 06:01:29\n",
       "4   2009-12-08 06:11:05\n",
       "Name: timestamp_first_active, dtype: datetime64[ns]"
      ]
     },
     "execution_count": 47,
     "metadata": {},
     "output_type": "execute_result"
    }
   ],
   "source": [
    "tfa_train=train.timestamp_first_active.map(lambda x: datetime.datetime.strptime(str(x),'%Y%m%d%H%M%S'))\n",
    "tfa_train.head()"
   ]
  },
  {
   "cell_type": "code",
   "execution_count": 48,
   "metadata": {
    "ExecuteTime": {
     "end_time": "2019-05-25T05:12:22.050340Z",
     "start_time": "2019-05-25T05:12:21.751016Z"
    }
   },
   "outputs": [
    {
     "data": {
      "text/plain": [
       "count                  213451\n",
       "unique                 213451\n",
       "top       2013-07-01 05:26:34\n",
       "freq                        1\n",
       "first     2009-03-19 04:32:55\n",
       "last      2014-06-30 23:58:24\n",
       "Name: timestamp_first_active, dtype: object"
      ]
     },
     "execution_count": 48,
     "metadata": {},
     "output_type": "execute_result"
    }
   ],
   "source": [
    "tfa_train.describe()"
   ]
  },
  {
   "cell_type": "markdown",
   "metadata": {},
   "source": [
    "#### age"
   ]
  },
  {
   "cell_type": "code",
   "execution_count": 49,
   "metadata": {
    "ExecuteTime": {
     "end_time": "2019-05-25T05:12:22.396569Z",
     "start_time": "2019-05-25T05:12:22.384562Z"
    }
   },
   "outputs": [
    {
     "data": {
      "text/plain": [
       "87990"
      ]
     },
     "execution_count": 49,
     "metadata": {},
     "output_type": "execute_result"
    }
   ],
   "source": [
    "train.age.isnull().sum()"
   ]
  },
  {
   "cell_type": "code",
   "execution_count": 50,
   "metadata": {
    "ExecuteTime": {
     "end_time": "2019-05-25T05:12:23.585793Z",
     "start_time": "2019-05-25T05:12:22.735794Z"
    }
   },
   "outputs": [
    {
     "data": {
      "text/plain": [
       "Text(0, 0.5, 'counts')"
      ]
     },
     "execution_count": 50,
     "metadata": {},
     "output_type": "execute_result"
    },
    {
     "data": {
      "image/png": "[encoded data removed]",
      "text/plain": [
       "<Figure size 720x360 with 2 Axes>"
      ]
     },
     "metadata": {},
     "output_type": "display_data"
    }
   ],
   "source": [
    "age_train=[train.age.isnull().sum(),\n",
    "           train.query('age<15').age.shape[0],\n",
    "           train.query('age>=15&age<90').age.shape[0],\n",
    "           train.query('age>=90').age.shape[0]]\n",
    "age_test=[test.age.isnull().sum(),\n",
    "          test.query('age<15').age.shape[0],\n",
    "          test.query('age>=15&age<90').age.shape[0],\n",
    "          test.query('age>=90').age.shape[0]]\n",
    "\n",
    "columns=['Null','age<15','15<=age<90','age>90']\n",
    "\n",
    "fig,(ax1,ax2)=plt.subplots(1,2,sharex=True,sharey=True,figsize=(10,5))\n",
    "sns.barplot(columns,age_train,ax=ax1)\n",
    "sns.barplot(columns,age_test,ax=ax2)\n",
    "ax1.set_title('train datasets')\n",
    "ax2.set_title('test datasets')\n",
    "ax1.set_ylabel('counts')"
   ]
  },
  {
   "cell_type": "markdown",
   "metadata": {},
   "source": [
    "#### Categorical features"
   ]
  },
  {
   "cell_type": "code",
   "execution_count": 51,
   "metadata": {
    "ExecuteTime": {
     "end_time": "2019-05-25T05:12:31.228438Z",
     "start_time": "2019-05-25T05:12:23.874986Z"
    }
   },
   "outputs": [
    {
     "data": {
      "image/png": "[encoded data removed]",
      "text/plain": [
       "<Figure size 720x360 with 2 Axes>"
      ]
     },
     "metadata": {},
     "output_type": "display_data"
    },
    {
     "data": {
      "image/png": "[encoded data removed]",
      "text/plain": [
       "<Figure size 720x360 with 2 Axes>"
      ]
     },
     "metadata": {},
     "output_type": "display_data"
    },
    {
     "data": {
      "image/png": "[encoded data removed]",
      "text/plain": [
       "<Figure size 720x360 with 2 Axes>"
      ]
     },
     "metadata": {},
     "output_type": "display_data"
    },
    {
     "data": {
      "image/png": "[encoded data removed]",
      "text/plain": [
       "<Figure size 720x360 with 2 Axes>"
      ]
     },
     "metadata": {},
     "output_type": "display_data"
    },
    {
     "data": {
      "image/png": "[encoded data removed]",
      "text/plain": [
       "<Figure size 720x360 with 2 Axes>"
      ]
     },
     "metadata": {},
     "output_type": "display_data"
    },
    {
     "data": {
      "image/png": "[encoded data removed]",
      "text/plain": [
       "<Figure size 720x360 with 2 Axes>"
      ]
     },
     "metadata": {},
     "output_type": "display_data"
    },
    {
     "data": {
      "image/png": "[encoded data removed]",
      "text/plain": [
       "<Figure size 720x360 with 2 Axes>"
      ]
     },
     "metadata": {},
     "output_type": "display_data"
    },
    {
     "data": {
      "image/png": "[encoded data removed]",
      "text/plain": [
       "<Figure size 720x360 with 2 Axes>"
      ]
     },
     "metadata": {},
     "output_type": "display_data"
    },
    {
     "data": {
      "image/png": "[encoded data removed]",
      "text/plain": [
       "<Figure size 720x360 with 2 Axes>"
      ]
     },
     "metadata": {},
     "output_type": "display_data"
    },
    {
     "data": {
      "image/png": "[encoded data removed]",
      "text/plain": [
       "<Figure size 720x360 with 2 Axes>"
      ]
     },
     "metadata": {},
     "output_type": "display_data"
    }
   ],
   "source": [
    "cate_feats = ['gender', \n",
    "             'signup_method', \n",
    "             'signup_flow', \n",
    "             'language', \n",
    "             'affiliate_channel', \n",
    "             'affiliate_provider', \n",
    "             'first_affiliate_tracked', \n",
    "             'signup_app', \n",
    "             'first_device_type', \n",
    "             'first_browser']\n",
    "\n",
    "def feature_barplot(feature, df_train = train, df_test = test, figsize=(10,5), rot = 90, saveimg = False):\n",
    "    \n",
    "    feat_train = df_train[feature].value_counts()\n",
    "    feat_test = df_test[feature].value_counts()\n",
    "    \n",
    "    fig_feature, (ax1,ax2) = plt.subplots(1,2,sharex=True, sharey = True, figsize = figsize)\n",
    "\n",
    "    sns.barplot(feat_train.index.values, feat_train.values, ax = ax1)\n",
    "    sns.barplot(feat_test.index.values, feat_test.values, ax = ax2)\n",
    "    \n",
    "    ax1.set_xticklabels(ax1.xaxis.get_majorticklabels(), rotation = rot)\n",
    "    ax2.set_xticklabels(ax1.xaxis.get_majorticklabels(), rotation = rot)\n",
    "\n",
    "    ax1.set_title(feature + ' of train dataset')\n",
    "    ax2.set_title(feature + ' of test dataset')\n",
    "    ax1.set_ylabel('counts')\n",
    "    \n",
    "    plt.tight_layout()\n",
    "    \n",
    "for feat in cate_feats:\n",
    "    feature_barplot(feature = feat)"
   ]
  },
  {
   "cell_type": "markdown",
   "metadata": {},
   "source": [
    "## Feature_Enginnering"
   ]
  },
  {
   "cell_type": "code",
   "execution_count": 53,
   "metadata": {
    "ExecuteTime": {
     "end_time": "2019-05-25T05:12:32.433657Z",
     "start_time": "2019-05-25T05:12:32.415643Z"
    }
   },
   "outputs": [],
   "source": [
    "import numpy as np\n",
    "import pandas as pd\n",
    "import matplotlib.pyplot as plt\n",
    "import sklearn as sk\n",
    "#import pickle\n",
    "import datetime\n",
    "from datetime import date\n",
    "#import os\n",
    "import seaborn as sns\n",
    "from sklearn.preprocessing import *\n",
    "from sklearn.preprocessing import LabelEncoder\n",
    "from sklearn.model_selection import StratifiedShuffleSplit\n",
    "import seaborn as sns\n",
    "%matplotlib inline"
   ]
  },
  {
   "cell_type": "markdown",
   "metadata": {},
   "source": [
    "### session数据集"
   ]
  },
  {
   "cell_type": "code",
   "execution_count": 72,
   "metadata": {
    "ExecuteTime": {
     "end_time": "2019-05-25T05:32:32.412579Z",
     "start_time": "2019-05-25T05:32:30.602122Z"
    }
   },
   "outputs": [
    {
     "name": "stdout",
     "output_type": "stream",
     "text": [
      "Index(['user_id', 'action', 'action_type', 'action_detail', 'device_type',\n",
      "       'secs_elapsed'],\n",
      "      dtype='object')\n"
     ]
    }
   ],
   "source": [
    "df_session=pd.read_csv('sessions.csv')\n",
    "print(df_session.columns)"
   ]
  },
  {
   "cell_type": "code",
   "execution_count": 78,
   "metadata": {
    "ExecuteTime": {
     "end_time": "2019-05-25T05:34:11.552563Z",
     "start_time": "2019-05-25T05:34:10.505869Z"
    }
   },
   "outputs": [
    {
     "name": "stdout",
     "output_type": "stream",
     "text": [
      "vcmr2jh5ix    2085\n",
      "yu5bdalz2b    1811\n",
      "qkbkunyzq7    1780\n",
      "s5ez13snz0    1685\n",
      "bp4mwnlbxs    1526\n",
      "Name: user_id, dtype: int64\n",
      "show                     209655\n",
      "search_results           109430\n",
      "personalize              105718\n",
      "lookup                    88302\n",
      "ajax_refresh_subtotal     71482\n",
      "Name: action, dtype: int64\n",
      "view         247360\n",
      "click        241418\n",
      "data         221806\n",
      "-unknown-    102925\n",
      "submit        76292\n",
      "Name: action_type, dtype: int64\n",
      "view_search_results            186546\n",
      "wishlist_content_update        111091\n",
      "-unknown-                      102925\n",
      "p3                             101173\n",
      "change_trip_characteristics     75227\n",
      "Name: action_detail, dtype: int64\n",
      "Mac Desktop                         478574\n",
      "Windows Desktop                     326346\n",
      "Android App Unknown Phone/Tablet     98002\n",
      "iPad Tablet                          72071\n",
      "iPhone                               43406\n",
      "Name: device_type, dtype: int64\n",
      "0.0    7222\n",
      "4.0    1920\n",
      "3.0    1913\n",
      "1.0    1844\n",
      "2.0    1842\n",
      "Name: secs_elapsed, dtype: int64\n"
     ]
    }
   ],
   "source": [
    "for i in df_session.columns:\n",
    "    print(df_session[i].value_counts().head())"
   ]
  },
  {
   "cell_type": "code",
   "execution_count": 79,
   "metadata": {
    "ExecuteTime": {
     "end_time": "2019-05-25T05:34:12.926573Z",
     "start_time": "2019-05-25T05:34:12.717435Z"
    }
   },
   "outputs": [
    {
     "data": {
      "text/html": [
       "<div>\n",
       "<style scoped>\n",
       "    .dataframe tbody tr th:only-of-type {\n",
       "        vertical-align: middle;\n",
       "    }\n",
       "\n",
       "    .dataframe tbody tr th {\n",
       "        vertical-align: top;\n",
       "    }\n",
       "\n",
       "    .dataframe thead th {\n",
       "        text-align: right;\n",
       "    }\n",
       "</style>\n",
       "<table border=\"1\" class=\"dataframe\">\n",
       "  <thead>\n",
       "    <tr style=\"text-align: right;\">\n",
       "      <th></th>\n",
       "      <th>action</th>\n",
       "      <th>action_type</th>\n",
       "      <th>action_detail</th>\n",
       "      <th>device_type</th>\n",
       "      <th>secs_elapsed</th>\n",
       "      <th>id</th>\n",
       "    </tr>\n",
       "  </thead>\n",
       "  <tbody>\n",
       "    <tr>\n",
       "      <th>0</th>\n",
       "      <td>lookup</td>\n",
       "      <td>NaN</td>\n",
       "      <td>NaN</td>\n",
       "      <td>Windows Desktop</td>\n",
       "      <td>319.0</td>\n",
       "      <td>d1mm9tcy42</td>\n",
       "    </tr>\n",
       "    <tr>\n",
       "      <th>1</th>\n",
       "      <td>search_results</td>\n",
       "      <td>click</td>\n",
       "      <td>view_search_results</td>\n",
       "      <td>Windows Desktop</td>\n",
       "      <td>67753.0</td>\n",
       "      <td>d1mm9tcy42</td>\n",
       "    </tr>\n",
       "    <tr>\n",
       "      <th>2</th>\n",
       "      <td>lookup</td>\n",
       "      <td>NaN</td>\n",
       "      <td>NaN</td>\n",
       "      <td>Windows Desktop</td>\n",
       "      <td>301.0</td>\n",
       "      <td>d1mm9tcy42</td>\n",
       "    </tr>\n",
       "    <tr>\n",
       "      <th>3</th>\n",
       "      <td>search_results</td>\n",
       "      <td>click</td>\n",
       "      <td>view_search_results</td>\n",
       "      <td>Windows Desktop</td>\n",
       "      <td>22141.0</td>\n",
       "      <td>d1mm9tcy42</td>\n",
       "    </tr>\n",
       "    <tr>\n",
       "      <th>4</th>\n",
       "      <td>lookup</td>\n",
       "      <td>NaN</td>\n",
       "      <td>NaN</td>\n",
       "      <td>Windows Desktop</td>\n",
       "      <td>957.0</td>\n",
       "      <td>jpmpj40cvk</td>\n",
       "    </tr>\n",
       "  </tbody>\n",
       "</table>\n",
       "</div>"
      ],
      "text/plain": [
       "           action action_type        action_detail      device_type  \\\n",
       "0          lookup         NaN                  NaN  Windows Desktop   \n",
       "1  search_results       click  view_search_results  Windows Desktop   \n",
       "2          lookup         NaN                  NaN  Windows Desktop   \n",
       "3  search_results       click  view_search_results  Windows Desktop   \n",
       "4          lookup         NaN                  NaN  Windows Desktop   \n",
       "\n",
       "   secs_elapsed          id  \n",
       "0         319.0  d1mm9tcy42  \n",
       "1       67753.0  d1mm9tcy42  \n",
       "2         301.0  d1mm9tcy42  \n",
       "3       22141.0  d1mm9tcy42  \n",
       "4         957.0  jpmpj40cvk  "
      ]
     },
     "execution_count": 79,
     "metadata": {},
     "output_type": "execute_result"
    }
   ],
   "source": [
    "df_session['id']=df_session['user_id']\n",
    "df_session.drop(['user_id'],axis=1).head()"
   ]
  },
  {
   "cell_type": "code",
   "execution_count": 57,
   "metadata": {
    "ExecuteTime": {
     "end_time": "2019-05-25T05:12:37.213628Z",
     "start_time": "2019-05-25T05:12:37.202620Z"
    }
   },
   "outputs": [
    {
     "data": {
      "text/plain": [
       "(1048575, 7)"
      ]
     },
     "execution_count": 57,
     "metadata": {},
     "output_type": "execute_result"
    }
   ],
   "source": [
    "df_session.shape"
   ]
  },
  {
   "cell_type": "code",
   "execution_count": 58,
   "metadata": {
    "ExecuteTime": {
     "end_time": "2019-05-25T05:12:38.119230Z",
     "start_time": "2019-05-25T05:12:37.599886Z"
    }
   },
   "outputs": [
    {
     "data": {
      "text/plain": [
       "user_id            2797\n",
       "action             7873\n",
       "action_type      143097\n",
       "action_detail    143097\n",
       "device_type           0\n",
       "secs_elapsed      11067\n",
       "id                 2797\n",
       "dtype: int64"
      ]
     },
     "execution_count": 58,
     "metadata": {},
     "output_type": "execute_result"
    }
   ],
   "source": [
    "df_session.isnull().sum()"
   ]
  },
  {
   "cell_type": "code",
   "execution_count": 59,
   "metadata": {
    "ExecuteTime": {
     "end_time": "2019-05-25T05:12:38.790679Z",
     "start_time": "2019-05-25T05:12:38.459457Z"
    }
   },
   "outputs": [],
   "source": [
    "df_session.action=df_session.action.fillna('NAN')\n",
    "df_session.action_type=df_session.action_type.fillna('NAN')\n",
    "df_session.action_detail=df_session.action_detail.fillna('NAN')\n",
    "df_session.device_type=df_session.device_type.fillna('NAN')"
   ]
  },
  {
   "cell_type": "code",
   "execution_count": 60,
   "metadata": {
    "ExecuteTime": {
     "end_time": "2019-05-25T05:12:41.502483Z",
     "start_time": "2019-05-25T05:12:39.270996Z"
    }
   },
   "outputs": [],
   "source": [
    "act=dict(zip(*np.unique(df_session.action,return_counts=True)))\n",
    "df_session.action=df_session.action.apply(lambda x: 'OTHER' if act[x]<100 else x)##apply函数是对每一列进行函数操作，map是对每个元素进行函数操作"
   ]
  },
  {
   "cell_type": "code",
   "execution_count": 61,
   "metadata": {
    "ExecuteTime": {
     "end_time": "2019-05-25T05:12:42.392295Z",
     "start_time": "2019-05-25T05:12:41.824693Z"
    },
    "scrolled": true
   },
   "outputs": [
    {
     "name": "stdout",
     "output_type": "stream",
     "text": [
      "007gj7kqdk\n",
      "['007gj7kqdk', 1, 2]\n"
     ]
    }
   ],
   "source": [
    "dgr_session=df_session.groupby(['id'])\n",
    "for i in dgr_session:\n",
    "    m=i[0]\n",
    "    print(m)\n",
    "    l=[]\n",
    "    l.append(m)\n",
    "    l.append(1)\n",
    "    l+=[2]\n",
    "    print(l)\n",
    "    break"
   ]
  },
  {
   "cell_type": "code",
   "execution_count": 81,
   "metadata": {
    "ExecuteTime": {
     "end_time": "2019-05-25T05:34:48.664832Z",
     "start_time": "2019-05-25T05:34:48.426672Z"
    }
   },
   "outputs": [
    {
     "data": {
      "text/plain": [
       "show                     209655\n",
       "search_results           109430\n",
       "personalize              105718\n",
       "lookup                    88302\n",
       "ajax_refresh_subtotal     71482\n",
       "index                     69441\n",
       "similar_listings          53814\n",
       "update                    38829\n",
       "search                    26520\n",
       "header_userpic            17332\n",
       "Name: action, dtype: int64"
      ]
     },
     "execution_count": 81,
     "metadata": {},
     "output_type": "execute_result"
    }
   ],
   "source": [
    "df_session.action.value_counts().head(10)"
   ]
  },
  {
   "cell_type": "code",
   "execution_count": 63,
   "metadata": {
    "ExecuteTime": {
     "end_time": "2019-05-25T05:12:44.189486Z",
     "start_time": "2019-05-25T05:12:43.352931Z"
    }
   },
   "outputs": [],
   "source": [
    "f_act=df_session.action.value_counts().argsort()\n",
    "f_act_detail = df_session.action_detail.value_counts().argsort()\n",
    "f_act_type = df_session.action_type.value_counts().argsort()\n",
    "f_dev_type = df_session.device_type.value_counts().argsort()"
   ]
  },
  {
   "cell_type": "code",
   "execution_count": 64,
   "metadata": {
    "ExecuteTime": {
     "end_time": "2019-05-25T05:14:47.197516Z",
     "start_time": "2019-05-25T05:12:44.527711Z"
    }
   },
   "outputs": [
    {
     "name": "stdout",
     "output_type": "stream",
     "text": [
      "0 from 15588\n",
      "10000 from 15588\n"
     ]
    }
   ],
   "source": [
    "samples=[]\n",
    "cont=0\n",
    "ln=len(dgr_session)\n",
    "\n",
    "for g in dgr_session:\n",
    "    if cont%10000==0:\n",
    "        print('%s from %s'%(cont,ln))\n",
    "    gr=g[1]\n",
    "    l=[]\n",
    "    l.append(g[0])\n",
    "    l.append(len(gr))\n",
    "    sev=gr.secs_elapsed.fillna(0).values\n",
    "    \n",
    "    c_act=[0]*len(f_act)\n",
    "    for i,v in enumerate(gr.action.values):\n",
    "        c_act[f_act[v]]+=1\n",
    "    _,c_act_uqc=np.unique(gr.action.values,return_counts=True)\n",
    "    c_act+=[len(c_act_uqc),np.mean(c_act_uqc),np.std(c_act_uqc)]\n",
    "    l=l+c_act\n",
    "    \n",
    "    c_act_detail = [0] * len(f_act_detail)\n",
    "    for i,v in enumerate(gr.action_detail.values):\n",
    "        c_act_detail[f_act_detail[v]] += 1 \n",
    "    _, c_act_det_uqc = np.unique(gr.action_detail.values, return_counts=True)\n",
    "    c_act_detail += [len(c_act_det_uqc), np.mean(c_act_det_uqc), np.std(c_act_det_uqc)]\n",
    "    l=l+c_act_detail\n",
    "    \n",
    "    c_act_type=[0]*len(f_act_type)\n",
    "    l_act_type=[0]*len(f_act_type)\n",
    "    for i,v in enumerate(gr.action_type.values):\n",
    "        c_act_type[f_act_type[v]]+=1\n",
    "        l_act_type[f_act_type[v]]+=sev[i]\n",
    "    l_act_type=np.log(1+np.array(l_act_type)).tolist()\n",
    "    _, c_act_type_uqc = np.unique(gr.action_type.values, return_counts=True)\n",
    "    c_act_type += [len(c_act_type_uqc), np.mean(c_act_type_uqc), np.std(c_act_type_uqc)]\n",
    "    l=l+c_act_type+l_act_type\n",
    "    \n",
    "    c_dev_type=[0]*len(f_dev_type)\n",
    "    for i,v in enumerate(gr.device_type.values):\n",
    "        c_dev_type[f_dev_type[v]]+=1\n",
    "    _, c_dev_type_uqc=np.unique(gr.device_type.values,return_counts=True)\n",
    "    c_dev_type+=[len(c_dev_type_uqc),np.mean(c_dev_type_uqc),np.std(c_dev_type_uqc)]\n",
    "    l=l+c_dev_type\n",
    "    \n",
    "    l_secs=[0]*5\n",
    "    l_log=[0]*15\n",
    "    if len(sev)>0:\n",
    "        l_secs[0]=np.log(1+np.sum(sev))\n",
    "        l_secs[1]=np.log(1+np.mean(sev))\n",
    "        l_secs[2]=np.log(1+np.std(sev))\n",
    "        l_secs[3]=np.log(1+np.median(sev))\n",
    "        l_secs[4]=l_secs[0]/float(l[1])\n",
    "    \n",
    "        log_sev=np.log(1+sev).astype(int)\n",
    "        l_log=np.bincount(log_sev,minlength=15).tolist()\n",
    "    l=l+l_secs+l_log\n",
    "    \n",
    "    samples.append(l)\n",
    "    cont+=1"
   ]
  },
  {
   "cell_type": "code",
   "execution_count": 65,
   "metadata": {
    "ExecuteTime": {
     "end_time": "2019-05-25T05:14:53.752759Z",
     "start_time": "2019-05-25T05:14:48.432233Z"
    }
   },
   "outputs": [],
   "source": [
    "samples=np.array(samples)\n",
    "samp_ar=samples[:,1:].astype(np.float16)##将数据改为浮点型\n",
    "samp_id=samples[:,0]\n",
    "\n",
    "col_names=[]\n",
    "for i in range(len(samples[0])-1):\n",
    "    col_names.append('c_'+str(i))\n",
    "df_agg_sess=pd.DataFrame(samp_ar,columns=col_names)##构造用户数据矩阵\n",
    "df_agg_sess['id']=samp_id\n",
    "df_agg_sess.index=df_agg_sess.id"
   ]
  },
  {
   "cell_type": "code",
   "execution_count": 66,
   "metadata": {
    "ExecuteTime": {
     "end_time": "2019-05-25T05:14:54.461206Z",
     "start_time": "2019-05-25T05:14:54.454201Z"
    }
   },
   "outputs": [
    {
     "data": {
      "text/plain": [
       "(15588, 293)"
      ]
     },
     "execution_count": 66,
     "metadata": {},
     "output_type": "execute_result"
    }
   ],
   "source": [
    "df_agg_sess.shape"
   ]
  },
  {
   "cell_type": "markdown",
   "metadata": {},
   "source": [
    "### train和test数据集"
   ]
  },
  {
   "cell_type": "code",
   "execution_count": 67,
   "metadata": {
    "ExecuteTime": {
     "end_time": "2019-05-25T05:31:40.185370Z",
     "start_time": "2019-05-25T05:31:38.592251Z"
    }
   },
   "outputs": [
    {
     "data": {
      "text/plain": [
       "array(['5uwns89zht', 'jtl0dijy2j', 'xx0ulgorjt', ..., 'fa6260ziny',\n",
       "       '87k0fy4ugm', '9uqfg8txu3'], dtype=object)"
      ]
     },
     "execution_count": 67,
     "metadata": {},
     "output_type": "execute_result"
    }
   ],
   "source": [
    "train=pd.read_csv('train_users_2.csv')\n",
    "test=pd.read_csv('test_users.csv')\n",
    "\n",
    "labels=train.country_destination.values\n",
    "id_test=test['id'].values\n",
    "id_test"
   ]
  },
  {
   "cell_type": "code",
   "execution_count": 68,
   "metadata": {
    "ExecuteTime": {
     "end_time": "2019-05-25T05:31:40.763755Z",
     "start_time": "2019-05-25T05:31:40.753746Z"
    }
   },
   "outputs": [
    {
     "data": {
      "text/plain": [
       "213451"
      ]
     },
     "execution_count": 68,
     "metadata": {},
     "output_type": "execute_result"
    }
   ],
   "source": [
    "train_row=train.shape[0]\n",
    "train_row"
   ]
  },
  {
   "cell_type": "code",
   "execution_count": 69,
   "metadata": {
    "ExecuteTime": {
     "end_time": "2019-05-25T05:31:41.316120Z",
     "start_time": "2019-05-25T05:31:41.278097Z"
    }
   },
   "outputs": [
    {
     "data": {
      "text/html": [
       "<div>\n",
       "<style scoped>\n",
       "    .dataframe tbody tr th:only-of-type {\n",
       "        vertical-align: middle;\n",
       "    }\n",
       "\n",
       "    .dataframe tbody tr th {\n",
       "        vertical-align: top;\n",
       "    }\n",
       "\n",
       "    .dataframe thead th {\n",
       "        text-align: right;\n",
       "    }\n",
       "</style>\n",
       "<table border=\"1\" class=\"dataframe\">\n",
       "  <thead>\n",
       "    <tr style=\"text-align: right;\">\n",
       "      <th></th>\n",
       "      <th>id</th>\n",
       "      <th>date_account_created</th>\n",
       "      <th>timestamp_first_active</th>\n",
       "      <th>date_first_booking</th>\n",
       "      <th>gender</th>\n",
       "      <th>age</th>\n",
       "      <th>signup_method</th>\n",
       "      <th>signup_flow</th>\n",
       "      <th>language</th>\n",
       "      <th>affiliate_channel</th>\n",
       "      <th>affiliate_provider</th>\n",
       "      <th>first_affiliate_tracked</th>\n",
       "      <th>signup_app</th>\n",
       "      <th>first_device_type</th>\n",
       "      <th>first_browser</th>\n",
       "      <th>country_destination</th>\n",
       "    </tr>\n",
       "  </thead>\n",
       "  <tbody>\n",
       "    <tr>\n",
       "      <th>0</th>\n",
       "      <td>gxn3p5htnn</td>\n",
       "      <td>2010-06-28</td>\n",
       "      <td>20090319043255</td>\n",
       "      <td>NaN</td>\n",
       "      <td>-unknown-</td>\n",
       "      <td>NaN</td>\n",
       "      <td>facebook</td>\n",
       "      <td>0</td>\n",
       "      <td>en</td>\n",
       "      <td>direct</td>\n",
       "      <td>direct</td>\n",
       "      <td>untracked</td>\n",
       "      <td>Web</td>\n",
       "      <td>Mac Desktop</td>\n",
       "      <td>Chrome</td>\n",
       "      <td>NDF</td>\n",
       "    </tr>\n",
       "    <tr>\n",
       "      <th>1</th>\n",
       "      <td>820tgsjxq7</td>\n",
       "      <td>2011-05-25</td>\n",
       "      <td>20090523174809</td>\n",
       "      <td>NaN</td>\n",
       "      <td>MALE</td>\n",
       "      <td>38.0</td>\n",
       "      <td>facebook</td>\n",
       "      <td>0</td>\n",
       "      <td>en</td>\n",
       "      <td>seo</td>\n",
       "      <td>google</td>\n",
       "      <td>untracked</td>\n",
       "      <td>Web</td>\n",
       "      <td>Mac Desktop</td>\n",
       "      <td>Chrome</td>\n",
       "      <td>NDF</td>\n",
       "    </tr>\n",
       "    <tr>\n",
       "      <th>2</th>\n",
       "      <td>4ft3gnwmtx</td>\n",
       "      <td>2010-09-28</td>\n",
       "      <td>20090609231247</td>\n",
       "      <td>2010-08-02</td>\n",
       "      <td>FEMALE</td>\n",
       "      <td>56.0</td>\n",
       "      <td>basic</td>\n",
       "      <td>3</td>\n",
       "      <td>en</td>\n",
       "      <td>direct</td>\n",
       "      <td>direct</td>\n",
       "      <td>untracked</td>\n",
       "      <td>Web</td>\n",
       "      <td>Windows Desktop</td>\n",
       "      <td>IE</td>\n",
       "      <td>US</td>\n",
       "    </tr>\n",
       "    <tr>\n",
       "      <th>3</th>\n",
       "      <td>bjjt8pjhuk</td>\n",
       "      <td>2011-12-05</td>\n",
       "      <td>20091031060129</td>\n",
       "      <td>2012-09-08</td>\n",
       "      <td>FEMALE</td>\n",
       "      <td>42.0</td>\n",
       "      <td>facebook</td>\n",
       "      <td>0</td>\n",
       "      <td>en</td>\n",
       "      <td>direct</td>\n",
       "      <td>direct</td>\n",
       "      <td>untracked</td>\n",
       "      <td>Web</td>\n",
       "      <td>Mac Desktop</td>\n",
       "      <td>Firefox</td>\n",
       "      <td>other</td>\n",
       "    </tr>\n",
       "    <tr>\n",
       "      <th>4</th>\n",
       "      <td>87mebub9p4</td>\n",
       "      <td>2010-09-14</td>\n",
       "      <td>20091208061105</td>\n",
       "      <td>2010-02-18</td>\n",
       "      <td>-unknown-</td>\n",
       "      <td>41.0</td>\n",
       "      <td>basic</td>\n",
       "      <td>0</td>\n",
       "      <td>en</td>\n",
       "      <td>direct</td>\n",
       "      <td>direct</td>\n",
       "      <td>untracked</td>\n",
       "      <td>Web</td>\n",
       "      <td>Mac Desktop</td>\n",
       "      <td>Chrome</td>\n",
       "      <td>US</td>\n",
       "    </tr>\n",
       "  </tbody>\n",
       "</table>\n",
       "</div>"
      ],
      "text/plain": [
       "           id date_account_created  timestamp_first_active date_first_booking  \\\n",
       "0  gxn3p5htnn           2010-06-28          20090319043255                NaN   \n",
       "1  820tgsjxq7           2011-05-25          20090523174809                NaN   \n",
       "2  4ft3gnwmtx           2010-09-28          20090609231247         2010-08-02   \n",
       "3  bjjt8pjhuk           2011-12-05          20091031060129         2012-09-08   \n",
       "4  87mebub9p4           2010-09-14          20091208061105         2010-02-18   \n",
       "\n",
       "      gender   age signup_method  signup_flow language affiliate_channel  \\\n",
       "0  -unknown-   NaN      facebook            0       en            direct   \n",
       "1       MALE  38.0      facebook            0       en               seo   \n",
       "2     FEMALE  56.0         basic            3       en            direct   \n",
       "3     FEMALE  42.0      facebook            0       en            direct   \n",
       "4  -unknown-  41.0         basic            0       en            direct   \n",
       "\n",
       "  affiliate_provider first_affiliate_tracked signup_app first_device_type  \\\n",
       "0             direct               untracked        Web       Mac Desktop   \n",
       "1             google               untracked        Web       Mac Desktop   \n",
       "2             direct               untracked        Web   Windows Desktop   \n",
       "3             direct               untracked        Web       Mac Desktop   \n",
       "4             direct               untracked        Web       Mac Desktop   \n",
       "\n",
       "  first_browser country_destination  \n",
       "0        Chrome                 NDF  \n",
       "1        Chrome                 NDF  \n",
       "2            IE                  US  \n",
       "3       Firefox               other  \n",
       "4        Chrome                  US  "
      ]
     },
     "execution_count": 69,
     "metadata": {},
     "output_type": "execute_result"
    }
   ],
   "source": [
    "train.head()"
   ]
  },
  {
   "cell_type": "code",
   "execution_count": 70,
   "metadata": {
    "ExecuteTime": {
     "end_time": "2019-05-25T05:31:41.915520Z",
     "start_time": "2019-05-25T05:31:41.877494Z"
    }
   },
   "outputs": [
    {
     "data": {
      "text/html": [
       "<div>\n",
       "<style scoped>\n",
       "    .dataframe tbody tr th:only-of-type {\n",
       "        vertical-align: middle;\n",
       "    }\n",
       "\n",
       "    .dataframe tbody tr th {\n",
       "        vertical-align: top;\n",
       "    }\n",
       "\n",
       "    .dataframe thead th {\n",
       "        text-align: right;\n",
       "    }\n",
       "</style>\n",
       "<table border=\"1\" class=\"dataframe\">\n",
       "  <thead>\n",
       "    <tr style=\"text-align: right;\">\n",
       "      <th></th>\n",
       "      <th>id</th>\n",
       "      <th>date_account_created</th>\n",
       "      <th>timestamp_first_active</th>\n",
       "      <th>date_first_booking</th>\n",
       "      <th>gender</th>\n",
       "      <th>age</th>\n",
       "      <th>signup_method</th>\n",
       "      <th>signup_flow</th>\n",
       "      <th>language</th>\n",
       "      <th>affiliate_channel</th>\n",
       "      <th>affiliate_provider</th>\n",
       "      <th>first_affiliate_tracked</th>\n",
       "      <th>signup_app</th>\n",
       "      <th>first_device_type</th>\n",
       "      <th>first_browser</th>\n",
       "    </tr>\n",
       "  </thead>\n",
       "  <tbody>\n",
       "    <tr>\n",
       "      <th>0</th>\n",
       "      <td>5uwns89zht</td>\n",
       "      <td>2014-07-01</td>\n",
       "      <td>20140701000006</td>\n",
       "      <td>NaN</td>\n",
       "      <td>FEMALE</td>\n",
       "      <td>35.0</td>\n",
       "      <td>facebook</td>\n",
       "      <td>0</td>\n",
       "      <td>en</td>\n",
       "      <td>direct</td>\n",
       "      <td>direct</td>\n",
       "      <td>untracked</td>\n",
       "      <td>Moweb</td>\n",
       "      <td>iPhone</td>\n",
       "      <td>Mobile Safari</td>\n",
       "    </tr>\n",
       "    <tr>\n",
       "      <th>1</th>\n",
       "      <td>jtl0dijy2j</td>\n",
       "      <td>2014-07-01</td>\n",
       "      <td>20140701000051</td>\n",
       "      <td>NaN</td>\n",
       "      <td>-unknown-</td>\n",
       "      <td>NaN</td>\n",
       "      <td>basic</td>\n",
       "      <td>0</td>\n",
       "      <td>en</td>\n",
       "      <td>direct</td>\n",
       "      <td>direct</td>\n",
       "      <td>untracked</td>\n",
       "      <td>Moweb</td>\n",
       "      <td>iPhone</td>\n",
       "      <td>Mobile Safari</td>\n",
       "    </tr>\n",
       "    <tr>\n",
       "      <th>2</th>\n",
       "      <td>xx0ulgorjt</td>\n",
       "      <td>2014-07-01</td>\n",
       "      <td>20140701000148</td>\n",
       "      <td>NaN</td>\n",
       "      <td>-unknown-</td>\n",
       "      <td>NaN</td>\n",
       "      <td>basic</td>\n",
       "      <td>0</td>\n",
       "      <td>en</td>\n",
       "      <td>direct</td>\n",
       "      <td>direct</td>\n",
       "      <td>linked</td>\n",
       "      <td>Web</td>\n",
       "      <td>Windows Desktop</td>\n",
       "      <td>Chrome</td>\n",
       "    </tr>\n",
       "    <tr>\n",
       "      <th>3</th>\n",
       "      <td>6c6puo6ix0</td>\n",
       "      <td>2014-07-01</td>\n",
       "      <td>20140701000215</td>\n",
       "      <td>NaN</td>\n",
       "      <td>-unknown-</td>\n",
       "      <td>NaN</td>\n",
       "      <td>basic</td>\n",
       "      <td>0</td>\n",
       "      <td>en</td>\n",
       "      <td>direct</td>\n",
       "      <td>direct</td>\n",
       "      <td>linked</td>\n",
       "      <td>Web</td>\n",
       "      <td>Windows Desktop</td>\n",
       "      <td>IE</td>\n",
       "    </tr>\n",
       "    <tr>\n",
       "      <th>4</th>\n",
       "      <td>czqhjk3yfe</td>\n",
       "      <td>2014-07-01</td>\n",
       "      <td>20140701000305</td>\n",
       "      <td>NaN</td>\n",
       "      <td>-unknown-</td>\n",
       "      <td>NaN</td>\n",
       "      <td>basic</td>\n",
       "      <td>0</td>\n",
       "      <td>en</td>\n",
       "      <td>direct</td>\n",
       "      <td>direct</td>\n",
       "      <td>untracked</td>\n",
       "      <td>Web</td>\n",
       "      <td>Mac Desktop</td>\n",
       "      <td>Safari</td>\n",
       "    </tr>\n",
       "  </tbody>\n",
       "</table>\n",
       "</div>"
      ],
      "text/plain": [
       "           id date_account_created  timestamp_first_active  \\\n",
       "0  5uwns89zht           2014-07-01          20140701000006   \n",
       "1  jtl0dijy2j           2014-07-01          20140701000051   \n",
       "2  xx0ulgorjt           2014-07-01          20140701000148   \n",
       "3  6c6puo6ix0           2014-07-01          20140701000215   \n",
       "4  czqhjk3yfe           2014-07-01          20140701000305   \n",
       "\n",
       "   date_first_booking     gender   age signup_method  signup_flow language  \\\n",
       "0                 NaN     FEMALE  35.0      facebook            0       en   \n",
       "1                 NaN  -unknown-   NaN         basic            0       en   \n",
       "2                 NaN  -unknown-   NaN         basic            0       en   \n",
       "3                 NaN  -unknown-   NaN         basic            0       en   \n",
       "4                 NaN  -unknown-   NaN         basic            0       en   \n",
       "\n",
       "  affiliate_channel affiliate_provider first_affiliate_tracked signup_app  \\\n",
       "0            direct             direct               untracked      Moweb   \n",
       "1            direct             direct               untracked      Moweb   \n",
       "2            direct             direct                  linked        Web   \n",
       "3            direct             direct                  linked        Web   \n",
       "4            direct             direct               untracked        Web   \n",
       "\n",
       "  first_device_type  first_browser  \n",
       "0            iPhone  Mobile Safari  \n",
       "1            iPhone  Mobile Safari  \n",
       "2   Windows Desktop         Chrome  \n",
       "3   Windows Desktop             IE  \n",
       "4       Mac Desktop         Safari  "
      ]
     },
     "execution_count": 70,
     "metadata": {},
     "output_type": "execute_result"
    }
   ],
   "source": [
    "test.head()"
   ]
  },
  {
   "cell_type": "code",
   "execution_count": 71,
   "metadata": {
    "ExecuteTime": {
     "end_time": "2019-05-25T05:31:42.571955Z",
     "start_time": "2019-05-25T05:31:42.383830Z"
    }
   },
   "outputs": [
    {
     "data": {
      "text/html": [
       "<div>\n",
       "<style scoped>\n",
       "    .dataframe tbody tr th:only-of-type {\n",
       "        vertical-align: middle;\n",
       "    }\n",
       "\n",
       "    .dataframe tbody tr th {\n",
       "        vertical-align: top;\n",
       "    }\n",
       "\n",
       "    .dataframe thead th {\n",
       "        text-align: right;\n",
       "    }\n",
       "</style>\n",
       "<table border=\"1\" class=\"dataframe\">\n",
       "  <thead>\n",
       "    <tr style=\"text-align: right;\">\n",
       "      <th></th>\n",
       "      <th>id</th>\n",
       "      <th>date_account_created</th>\n",
       "      <th>timestamp_first_active</th>\n",
       "      <th>gender</th>\n",
       "      <th>age</th>\n",
       "      <th>signup_method</th>\n",
       "      <th>signup_flow</th>\n",
       "      <th>language</th>\n",
       "      <th>affiliate_channel</th>\n",
       "      <th>affiliate_provider</th>\n",
       "      <th>first_affiliate_tracked</th>\n",
       "      <th>signup_app</th>\n",
       "      <th>first_device_type</th>\n",
       "      <th>first_browser</th>\n",
       "    </tr>\n",
       "  </thead>\n",
       "  <tbody>\n",
       "    <tr>\n",
       "      <th>0</th>\n",
       "      <td>gxn3p5htnn</td>\n",
       "      <td>2010-06-28</td>\n",
       "      <td>20090319043255</td>\n",
       "      <td>-unknown-</td>\n",
       "      <td>NaN</td>\n",
       "      <td>facebook</td>\n",
       "      <td>0</td>\n",
       "      <td>en</td>\n",
       "      <td>direct</td>\n",
       "      <td>direct</td>\n",
       "      <td>untracked</td>\n",
       "      <td>Web</td>\n",
       "      <td>Mac Desktop</td>\n",
       "      <td>Chrome</td>\n",
       "    </tr>\n",
       "    <tr>\n",
       "      <th>1</th>\n",
       "      <td>820tgsjxq7</td>\n",
       "      <td>2011-05-25</td>\n",
       "      <td>20090523174809</td>\n",
       "      <td>MALE</td>\n",
       "      <td>38.0</td>\n",
       "      <td>facebook</td>\n",
       "      <td>0</td>\n",
       "      <td>en</td>\n",
       "      <td>seo</td>\n",
       "      <td>google</td>\n",
       "      <td>untracked</td>\n",
       "      <td>Web</td>\n",
       "      <td>Mac Desktop</td>\n",
       "      <td>Chrome</td>\n",
       "    </tr>\n",
       "    <tr>\n",
       "      <th>2</th>\n",
       "      <td>4ft3gnwmtx</td>\n",
       "      <td>2010-09-28</td>\n",
       "      <td>20090609231247</td>\n",
       "      <td>FEMALE</td>\n",
       "      <td>56.0</td>\n",
       "      <td>basic</td>\n",
       "      <td>3</td>\n",
       "      <td>en</td>\n",
       "      <td>direct</td>\n",
       "      <td>direct</td>\n",
       "      <td>untracked</td>\n",
       "      <td>Web</td>\n",
       "      <td>Windows Desktop</td>\n",
       "      <td>IE</td>\n",
       "    </tr>\n",
       "    <tr>\n",
       "      <th>3</th>\n",
       "      <td>bjjt8pjhuk</td>\n",
       "      <td>2011-12-05</td>\n",
       "      <td>20091031060129</td>\n",
       "      <td>FEMALE</td>\n",
       "      <td>42.0</td>\n",
       "      <td>facebook</td>\n",
       "      <td>0</td>\n",
       "      <td>en</td>\n",
       "      <td>direct</td>\n",
       "      <td>direct</td>\n",
       "      <td>untracked</td>\n",
       "      <td>Web</td>\n",
       "      <td>Mac Desktop</td>\n",
       "      <td>Firefox</td>\n",
       "    </tr>\n",
       "    <tr>\n",
       "      <th>4</th>\n",
       "      <td>87mebub9p4</td>\n",
       "      <td>2010-09-14</td>\n",
       "      <td>20091208061105</td>\n",
       "      <td>-unknown-</td>\n",
       "      <td>41.0</td>\n",
       "      <td>basic</td>\n",
       "      <td>0</td>\n",
       "      <td>en</td>\n",
       "      <td>direct</td>\n",
       "      <td>direct</td>\n",
       "      <td>untracked</td>\n",
       "      <td>Web</td>\n",
       "      <td>Mac Desktop</td>\n",
       "      <td>Chrome</td>\n",
       "    </tr>\n",
       "  </tbody>\n",
       "</table>\n",
       "</div>"
      ],
      "text/plain": [
       "           id date_account_created  timestamp_first_active     gender   age  \\\n",
       "0  gxn3p5htnn           2010-06-28          20090319043255  -unknown-   NaN   \n",
       "1  820tgsjxq7           2011-05-25          20090523174809       MALE  38.0   \n",
       "2  4ft3gnwmtx           2010-09-28          20090609231247     FEMALE  56.0   \n",
       "3  bjjt8pjhuk           2011-12-05          20091031060129     FEMALE  42.0   \n",
       "4  87mebub9p4           2010-09-14          20091208061105  -unknown-  41.0   \n",
       "\n",
       "  signup_method  signup_flow language affiliate_channel affiliate_provider  \\\n",
       "0      facebook            0       en            direct             direct   \n",
       "1      facebook            0       en               seo             google   \n",
       "2         basic            3       en            direct             direct   \n",
       "3      facebook            0       en            direct             direct   \n",
       "4         basic            0       en            direct             direct   \n",
       "\n",
       "  first_affiliate_tracked signup_app first_device_type first_browser  \n",
       "0               untracked        Web       Mac Desktop        Chrome  \n",
       "1               untracked        Web       Mac Desktop        Chrome  \n",
       "2               untracked        Web   Windows Desktop            IE  \n",
       "3               untracked        Web       Mac Desktop       Firefox  \n",
       "4               untracked        Web       Mac Desktop        Chrome  "
      ]
     },
     "execution_count": 71,
     "metadata": {},
     "output_type": "execute_result"
    }
   ],
   "source": [
    "train.drop(['country_destination','date_first_booking'],axis=1,inplace=True)\n",
    "test.drop(['date_first_booking'],axis=1,inplace=True)\n",
    "df=pd.concat([train,test],axis=0,ignore_index=True)\n",
    "df.head()"
   ]
  },
  {
   "cell_type": "markdown",
   "metadata": {},
   "source": [
    "#### timestamp_first_active"
   ]
  },
  {
   "cell_type": "code",
   "execution_count": 31,
   "metadata": {
    "ExecuteTime": {
     "end_time": "2019-05-22T10:00:43.175517Z",
     "start_time": "2019-05-22T10:00:35.405971Z"
    }
   },
   "outputs": [
    {
     "data": {
      "text/plain": [
       "0   2009-03-19 04:32:55\n",
       "1   2009-05-23 17:48:09\n",
       "2   2009-06-09 23:12:47\n",
       "3   2009-10-31 06:01:29\n",
       "4   2009-12-08 06:11:05\n",
       "Name: timestamp_first_active, dtype: datetime64[ns]"
      ]
     },
     "execution_count": 31,
     "metadata": {},
     "output_type": "execute_result"
    }
   ],
   "source": [
    "tfa=df.timestamp_first_active.apply(lambda x : datetime.datetime.strptime( str(x) ,'%Y%m%d%H%M%S'))\n",
    "tfa.head()"
   ]
  },
  {
   "cell_type": "code",
   "execution_count": 32,
   "metadata": {
    "ExecuteTime": {
     "end_time": "2019-05-22T10:00:52.209930Z",
     "start_time": "2019-05-22T10:00:43.485795Z"
    }
   },
   "outputs": [],
   "source": [
    "df['tfa_year']=np.array([x.year for x in tfa])\n",
    "df['tfa_month']=np.array([x.month for x in tfa])\n",
    "df['tfa_day']=np.array([x.day for x in tfa])"
   ]
  },
  {
   "cell_type": "code",
   "execution_count": 33,
   "metadata": {
    "ExecuteTime": {
     "end_time": "2019-05-22T10:00:55.575379Z",
     "start_time": "2019-05-22T10:00:52.504553Z"
    }
   },
   "outputs": [],
   "source": [
    "##创建星期数据\n",
    "df['tfa_wd']=np.array([x.isoweekday() for x in tfa])\n",
    "df_tfa_wd=pd.get_dummies(df.tfa_wd,prefix='tfa_wd')\n",
    "df=pd.concat([df,df_tfa_wd],axis=1)"
   ]
  },
  {
   "cell_type": "code",
   "execution_count": 34,
   "metadata": {
    "ExecuteTime": {
     "end_time": "2019-05-22T10:00:56.169138Z",
     "start_time": "2019-05-22T10:00:56.017616Z"
    }
   },
   "outputs": [],
   "source": [
    "df.drop('tfa_wd',axis=1,inplace=True)"
   ]
  },
  {
   "cell_type": "code",
   "execution_count": 35,
   "metadata": {
    "ExecuteTime": {
     "end_time": "2019-05-22T10:00:59.443265Z",
     "start_time": "2019-05-22T10:00:56.567466Z"
    }
   },
   "outputs": [
    {
     "data": {
      "text/plain": [
       "0    2016-03-19\n",
       "1    2016-05-23\n",
       "2    2016-06-09\n",
       "3    2016-10-31\n",
       "4    2016-12-08\n",
       "Name: timestamp_first_active, dtype: object"
      ]
     },
     "execution_count": 35,
     "metadata": {},
     "output_type": "execute_result"
    }
   ],
   "source": [
    "##创造季节数据\n",
    "Y=2016\n",
    "seasons={(date(Y,1,1),date(Y,3,20)):0,\n",
    "        (date(Y,3,21),date(Y,6,20)):1,\n",
    "        (date(Y,6,21),date(Y,9,20)):2,\n",
    "        (date(Y,9,21),date(Y,12,20)):3,\n",
    "        (date(Y,12,21),date(Y,12,31)):0}\n",
    "tfa_year=tfa.apply(lambda x : x.date().replace(year=Y))\n",
    "tfa_year.head()"
   ]
  },
  {
   "cell_type": "code",
   "execution_count": 36,
   "metadata": {
    "ExecuteTime": {
     "end_time": "2019-05-22T10:01:00.924703Z",
     "start_time": "2019-05-22T10:00:59.850802Z"
    }
   },
   "outputs": [
    {
     "data": {
      "text/html": [
       "<div>\n",
       "<style scoped>\n",
       "    .dataframe tbody tr th:only-of-type {\n",
       "        vertical-align: middle;\n",
       "    }\n",
       "\n",
       "    .dataframe tbody tr th {\n",
       "        vertical-align: top;\n",
       "    }\n",
       "\n",
       "    .dataframe thead th {\n",
       "        text-align: right;\n",
       "    }\n",
       "</style>\n",
       "<table border=\"1\" class=\"dataframe\">\n",
       "  <thead>\n",
       "    <tr style=\"text-align: right;\">\n",
       "      <th></th>\n",
       "      <th>id</th>\n",
       "      <th>date_account_created</th>\n",
       "      <th>timestamp_first_active</th>\n",
       "      <th>gender</th>\n",
       "      <th>age</th>\n",
       "      <th>signup_method</th>\n",
       "      <th>signup_flow</th>\n",
       "      <th>language</th>\n",
       "      <th>affiliate_channel</th>\n",
       "      <th>affiliate_provider</th>\n",
       "      <th>...</th>\n",
       "      <th>tfa_wd_2</th>\n",
       "      <th>tfa_wd_3</th>\n",
       "      <th>tfa_wd_4</th>\n",
       "      <th>tfa_wd_5</th>\n",
       "      <th>tfa_wd_6</th>\n",
       "      <th>tfa_wd_7</th>\n",
       "      <th>tfa_season_0</th>\n",
       "      <th>tfa_season_1</th>\n",
       "      <th>tfa_season_2</th>\n",
       "      <th>tfa_season_3</th>\n",
       "    </tr>\n",
       "  </thead>\n",
       "  <tbody>\n",
       "    <tr>\n",
       "      <th>0</th>\n",
       "      <td>gxn3p5htnn</td>\n",
       "      <td>2010-06-28</td>\n",
       "      <td>20090319043255</td>\n",
       "      <td>-unknown-</td>\n",
       "      <td>NaN</td>\n",
       "      <td>facebook</td>\n",
       "      <td>0</td>\n",
       "      <td>en</td>\n",
       "      <td>direct</td>\n",
       "      <td>direct</td>\n",
       "      <td>...</td>\n",
       "      <td>0</td>\n",
       "      <td>0</td>\n",
       "      <td>1</td>\n",
       "      <td>0</td>\n",
       "      <td>0</td>\n",
       "      <td>0</td>\n",
       "      <td>1</td>\n",
       "      <td>0</td>\n",
       "      <td>0</td>\n",
       "      <td>0</td>\n",
       "    </tr>\n",
       "    <tr>\n",
       "      <th>1</th>\n",
       "      <td>820tgsjxq7</td>\n",
       "      <td>2011-05-25</td>\n",
       "      <td>20090523174809</td>\n",
       "      <td>MALE</td>\n",
       "      <td>38.0</td>\n",
       "      <td>facebook</td>\n",
       "      <td>0</td>\n",
       "      <td>en</td>\n",
       "      <td>seo</td>\n",
       "      <td>google</td>\n",
       "      <td>...</td>\n",
       "      <td>0</td>\n",
       "      <td>0</td>\n",
       "      <td>0</td>\n",
       "      <td>0</td>\n",
       "      <td>1</td>\n",
       "      <td>0</td>\n",
       "      <td>0</td>\n",
       "      <td>1</td>\n",
       "      <td>0</td>\n",
       "      <td>0</td>\n",
       "    </tr>\n",
       "    <tr>\n",
       "      <th>2</th>\n",
       "      <td>4ft3gnwmtx</td>\n",
       "      <td>2010-09-28</td>\n",
       "      <td>20090609231247</td>\n",
       "      <td>FEMALE</td>\n",
       "      <td>56.0</td>\n",
       "      <td>basic</td>\n",
       "      <td>3</td>\n",
       "      <td>en</td>\n",
       "      <td>direct</td>\n",
       "      <td>direct</td>\n",
       "      <td>...</td>\n",
       "      <td>1</td>\n",
       "      <td>0</td>\n",
       "      <td>0</td>\n",
       "      <td>0</td>\n",
       "      <td>0</td>\n",
       "      <td>0</td>\n",
       "      <td>0</td>\n",
       "      <td>1</td>\n",
       "      <td>0</td>\n",
       "      <td>0</td>\n",
       "    </tr>\n",
       "    <tr>\n",
       "      <th>3</th>\n",
       "      <td>bjjt8pjhuk</td>\n",
       "      <td>2011-12-05</td>\n",
       "      <td>20091031060129</td>\n",
       "      <td>FEMALE</td>\n",
       "      <td>42.0</td>\n",
       "      <td>facebook</td>\n",
       "      <td>0</td>\n",
       "      <td>en</td>\n",
       "      <td>direct</td>\n",
       "      <td>direct</td>\n",
       "      <td>...</td>\n",
       "      <td>0</td>\n",
       "      <td>0</td>\n",
       "      <td>0</td>\n",
       "      <td>0</td>\n",
       "      <td>1</td>\n",
       "      <td>0</td>\n",
       "      <td>0</td>\n",
       "      <td>0</td>\n",
       "      <td>0</td>\n",
       "      <td>1</td>\n",
       "    </tr>\n",
       "    <tr>\n",
       "      <th>4</th>\n",
       "      <td>87mebub9p4</td>\n",
       "      <td>2010-09-14</td>\n",
       "      <td>20091208061105</td>\n",
       "      <td>-unknown-</td>\n",
       "      <td>41.0</td>\n",
       "      <td>basic</td>\n",
       "      <td>0</td>\n",
       "      <td>en</td>\n",
       "      <td>direct</td>\n",
       "      <td>direct</td>\n",
       "      <td>...</td>\n",
       "      <td>1</td>\n",
       "      <td>0</td>\n",
       "      <td>0</td>\n",
       "      <td>0</td>\n",
       "      <td>0</td>\n",
       "      <td>0</td>\n",
       "      <td>0</td>\n",
       "      <td>0</td>\n",
       "      <td>0</td>\n",
       "      <td>1</td>\n",
       "    </tr>\n",
       "  </tbody>\n",
       "</table>\n",
       "<p>5 rows × 28 columns</p>\n",
       "</div>"
      ],
      "text/plain": [
       "           id date_account_created  timestamp_first_active     gender   age  \\\n",
       "0  gxn3p5htnn           2010-06-28          20090319043255  -unknown-   NaN   \n",
       "1  820tgsjxq7           2011-05-25          20090523174809       MALE  38.0   \n",
       "2  4ft3gnwmtx           2010-09-28          20090609231247     FEMALE  56.0   \n",
       "3  bjjt8pjhuk           2011-12-05          20091031060129     FEMALE  42.0   \n",
       "4  87mebub9p4           2010-09-14          20091208061105  -unknown-  41.0   \n",
       "\n",
       "  signup_method  signup_flow language affiliate_channel affiliate_provider  \\\n",
       "0      facebook            0       en            direct             direct   \n",
       "1      facebook            0       en               seo             google   \n",
       "2         basic            3       en            direct             direct   \n",
       "3      facebook            0       en            direct             direct   \n",
       "4         basic            0       en            direct             direct   \n",
       "\n",
       "       ...      tfa_wd_2 tfa_wd_3 tfa_wd_4 tfa_wd_5  tfa_wd_6  tfa_wd_7  \\\n",
       "0      ...             0        0        1        0         0         0   \n",
       "1      ...             0        0        0        0         1         0   \n",
       "2      ...             1        0        0        0         0         0   \n",
       "3      ...             0        0        0        0         1         0   \n",
       "4      ...             1        0        0        0         0         0   \n",
       "\n",
       "   tfa_season_0  tfa_season_1  tfa_season_2  tfa_season_3  \n",
       "0             1             0             0             0  \n",
       "1             0             1             0             0  \n",
       "2             0             1             0             0  \n",
       "3             0             0             0             1  \n",
       "4             0             0             0             1  \n",
       "\n",
       "[5 rows x 28 columns]"
      ]
     },
     "execution_count": 36,
     "metadata": {},
     "output_type": "execute_result"
    }
   ],
   "source": [
    "tfa_season=tfa_year.map(lambda x : next(values for (key1,key2),values in seasons.items() if key1<= x <=key2))##不用next函数会导致无法迭代\n",
    "df['tfa_season']=tfa_season\n",
    "df_tfa_season=pd.get_dummies(df.tfa_season,prefix='tfa_season')\n",
    "df=pd.concat([df,df_tfa_season],axis=1)\n",
    "df.drop('tfa_season',axis=1,inplace=True)\n",
    "df.head()"
   ]
  },
  {
   "cell_type": "markdown",
   "metadata": {},
   "source": [
    "#### date_account_created"
   ]
  },
  {
   "cell_type": "code",
   "execution_count": 37,
   "metadata": {
    "ExecuteTime": {
     "end_time": "2019-05-22T10:01:01.406085Z",
     "start_time": "2019-05-22T10:01:01.394075Z"
    }
   },
   "outputs": [],
   "source": [
    "Y=2016\n",
    "seasons={(date(Y,1,1),date(Y,3,20)):0,\n",
    "        (date(Y,3,21),date(Y,6,20)):1,\n",
    "        (date(Y,6,21),date(Y,9,20)):2,\n",
    "        (date(Y,9,21),date(Y,12,20)):3,\n",
    "        (date(Y,12,21),date(Y,12,31)):0}"
   ]
  },
  {
   "cell_type": "code",
   "execution_count": 39,
   "metadata": {
    "ExecuteTime": {
     "end_time": "2019-05-22T10:02:12.193530Z",
     "start_time": "2019-05-22T10:02:08.343312Z"
    }
   },
   "outputs": [],
   "source": [
    "dac=pd.to_datetime(df.date_account_created)\n",
    "dac_year=dac.apply(lambda x: x.date().replace(year=Y))\n",
    "dac_season=dac_year.apply(lambda x : next(values for (key1,key2),values in seasons.items() if key1<=x<=key2))"
   ]
  },
  {
   "cell_type": "code",
   "execution_count": 40,
   "metadata": {
    "ExecuteTime": {
     "end_time": "2019-05-22T10:02:26.151587Z",
     "start_time": "2019-05-22T10:02:14.198372Z"
    }
   },
   "outputs": [],
   "source": [
    "df['dac_year']=np.array([x.year for x in dac])\n",
    "df['dac_month']=np.array([x.month for x in dac])\n",
    "df['dac_day']=np.array([x.day for x in dac])\n",
    "df['dac_wd']=np.array([x.isoweekday() for x in dac])\n",
    "df_dac_wd=pd.get_dummies(df.dac_wd,prefix='dac_wd')\n",
    "df.drop('dac_wd',axis=1,inplace=True)"
   ]
  },
  {
   "cell_type": "code",
   "execution_count": 41,
   "metadata": {
    "ExecuteTime": {
     "end_time": "2019-05-22T10:02:26.764811Z",
     "start_time": "2019-05-22T10:02:26.654896Z"
    }
   },
   "outputs": [],
   "source": [
    "df['dac_season']=dac_season\n",
    "df_dac_season=pd.get_dummies(df.dac_season,prefix='dac_season')\n",
    "df.drop('dac_season',axis=1,inplace=True)"
   ]
  },
  {
   "cell_type": "code",
   "execution_count": 42,
   "metadata": {
    "ExecuteTime": {
     "end_time": "2019-05-22T10:02:27.391327Z",
     "start_time": "2019-05-22T10:02:27.256234Z"
    }
   },
   "outputs": [
    {
     "data": {
      "text/html": [
       "<div>\n",
       "<style scoped>\n",
       "    .dataframe tbody tr th:only-of-type {\n",
       "        vertical-align: middle;\n",
       "    }\n",
       "\n",
       "    .dataframe tbody tr th {\n",
       "        vertical-align: top;\n",
       "    }\n",
       "\n",
       "    .dataframe thead th {\n",
       "        text-align: right;\n",
       "    }\n",
       "</style>\n",
       "<table border=\"1\" class=\"dataframe\">\n",
       "  <thead>\n",
       "    <tr style=\"text-align: right;\">\n",
       "      <th></th>\n",
       "      <th>id</th>\n",
       "      <th>date_account_created</th>\n",
       "      <th>timestamp_first_active</th>\n",
       "      <th>gender</th>\n",
       "      <th>age</th>\n",
       "      <th>signup_method</th>\n",
       "      <th>signup_flow</th>\n",
       "      <th>language</th>\n",
       "      <th>affiliate_channel</th>\n",
       "      <th>affiliate_provider</th>\n",
       "      <th>...</th>\n",
       "      <th>dac_wd_2</th>\n",
       "      <th>dac_wd_3</th>\n",
       "      <th>dac_wd_4</th>\n",
       "      <th>dac_wd_5</th>\n",
       "      <th>dac_wd_6</th>\n",
       "      <th>dac_wd_7</th>\n",
       "      <th>dac_season_0</th>\n",
       "      <th>dac_season_1</th>\n",
       "      <th>dac_season_2</th>\n",
       "      <th>dac_season_3</th>\n",
       "    </tr>\n",
       "  </thead>\n",
       "  <tbody>\n",
       "    <tr>\n",
       "      <th>0</th>\n",
       "      <td>gxn3p5htnn</td>\n",
       "      <td>2010-06-28</td>\n",
       "      <td>20090319043255</td>\n",
       "      <td>-unknown-</td>\n",
       "      <td>NaN</td>\n",
       "      <td>facebook</td>\n",
       "      <td>0</td>\n",
       "      <td>en</td>\n",
       "      <td>direct</td>\n",
       "      <td>direct</td>\n",
       "      <td>...</td>\n",
       "      <td>0</td>\n",
       "      <td>0</td>\n",
       "      <td>0</td>\n",
       "      <td>0</td>\n",
       "      <td>0</td>\n",
       "      <td>0</td>\n",
       "      <td>0</td>\n",
       "      <td>0</td>\n",
       "      <td>1</td>\n",
       "      <td>0</td>\n",
       "    </tr>\n",
       "    <tr>\n",
       "      <th>1</th>\n",
       "      <td>820tgsjxq7</td>\n",
       "      <td>2011-05-25</td>\n",
       "      <td>20090523174809</td>\n",
       "      <td>MALE</td>\n",
       "      <td>38.0</td>\n",
       "      <td>facebook</td>\n",
       "      <td>0</td>\n",
       "      <td>en</td>\n",
       "      <td>seo</td>\n",
       "      <td>google</td>\n",
       "      <td>...</td>\n",
       "      <td>0</td>\n",
       "      <td>1</td>\n",
       "      <td>0</td>\n",
       "      <td>0</td>\n",
       "      <td>0</td>\n",
       "      <td>0</td>\n",
       "      <td>0</td>\n",
       "      <td>1</td>\n",
       "      <td>0</td>\n",
       "      <td>0</td>\n",
       "    </tr>\n",
       "    <tr>\n",
       "      <th>2</th>\n",
       "      <td>4ft3gnwmtx</td>\n",
       "      <td>2010-09-28</td>\n",
       "      <td>20090609231247</td>\n",
       "      <td>FEMALE</td>\n",
       "      <td>56.0</td>\n",
       "      <td>basic</td>\n",
       "      <td>3</td>\n",
       "      <td>en</td>\n",
       "      <td>direct</td>\n",
       "      <td>direct</td>\n",
       "      <td>...</td>\n",
       "      <td>1</td>\n",
       "      <td>0</td>\n",
       "      <td>0</td>\n",
       "      <td>0</td>\n",
       "      <td>0</td>\n",
       "      <td>0</td>\n",
       "      <td>0</td>\n",
       "      <td>0</td>\n",
       "      <td>0</td>\n",
       "      <td>1</td>\n",
       "    </tr>\n",
       "    <tr>\n",
       "      <th>3</th>\n",
       "      <td>bjjt8pjhuk</td>\n",
       "      <td>2011-12-05</td>\n",
       "      <td>20091031060129</td>\n",
       "      <td>FEMALE</td>\n",
       "      <td>42.0</td>\n",
       "      <td>facebook</td>\n",
       "      <td>0</td>\n",
       "      <td>en</td>\n",
       "      <td>direct</td>\n",
       "      <td>direct</td>\n",
       "      <td>...</td>\n",
       "      <td>0</td>\n",
       "      <td>0</td>\n",
       "      <td>0</td>\n",
       "      <td>0</td>\n",
       "      <td>0</td>\n",
       "      <td>0</td>\n",
       "      <td>0</td>\n",
       "      <td>0</td>\n",
       "      <td>0</td>\n",
       "      <td>1</td>\n",
       "    </tr>\n",
       "    <tr>\n",
       "      <th>4</th>\n",
       "      <td>87mebub9p4</td>\n",
       "      <td>2010-09-14</td>\n",
       "      <td>20091208061105</td>\n",
       "      <td>-unknown-</td>\n",
       "      <td>41.0</td>\n",
       "      <td>basic</td>\n",
       "      <td>0</td>\n",
       "      <td>en</td>\n",
       "      <td>direct</td>\n",
       "      <td>direct</td>\n",
       "      <td>...</td>\n",
       "      <td>1</td>\n",
       "      <td>0</td>\n",
       "      <td>0</td>\n",
       "      <td>0</td>\n",
       "      <td>0</td>\n",
       "      <td>0</td>\n",
       "      <td>0</td>\n",
       "      <td>0</td>\n",
       "      <td>1</td>\n",
       "      <td>0</td>\n",
       "    </tr>\n",
       "  </tbody>\n",
       "</table>\n",
       "<p>5 rows × 42 columns</p>\n",
       "</div>"
      ],
      "text/plain": [
       "           id date_account_created  timestamp_first_active     gender   age  \\\n",
       "0  gxn3p5htnn           2010-06-28          20090319043255  -unknown-   NaN   \n",
       "1  820tgsjxq7           2011-05-25          20090523174809       MALE  38.0   \n",
       "2  4ft3gnwmtx           2010-09-28          20090609231247     FEMALE  56.0   \n",
       "3  bjjt8pjhuk           2011-12-05          20091031060129     FEMALE  42.0   \n",
       "4  87mebub9p4           2010-09-14          20091208061105  -unknown-  41.0   \n",
       "\n",
       "  signup_method  signup_flow language affiliate_channel affiliate_provider  \\\n",
       "0      facebook            0       en            direct             direct   \n",
       "1      facebook            0       en               seo             google   \n",
       "2         basic            3       en            direct             direct   \n",
       "3      facebook            0       en            direct             direct   \n",
       "4         basic            0       en            direct             direct   \n",
       "\n",
       "       ...      dac_wd_2 dac_wd_3 dac_wd_4 dac_wd_5  dac_wd_6  dac_wd_7  \\\n",
       "0      ...             0        0        0        0         0         0   \n",
       "1      ...             0        1        0        0         0         0   \n",
       "2      ...             1        0        0        0         0         0   \n",
       "3      ...             0        0        0        0         0         0   \n",
       "4      ...             1        0        0        0         0         0   \n",
       "\n",
       "   dac_season_0  dac_season_1  dac_season_2  dac_season_3  \n",
       "0             0             0             1             0  \n",
       "1             0             1             0             0  \n",
       "2             0             0             0             1  \n",
       "3             0             0             0             1  \n",
       "4             0             0             1             0  \n",
       "\n",
       "[5 rows x 42 columns]"
      ]
     },
     "execution_count": 42,
     "metadata": {},
     "output_type": "execute_result"
    }
   ],
   "source": [
    "df=pd.concat([df,df_dac_wd,df_dac_season],axis=1)\n",
    "df.head()"
   ]
  },
  {
   "cell_type": "markdown",
   "metadata": {},
   "source": [
    "#### time span between dac and tfa"
   ]
  },
  {
   "cell_type": "code",
   "execution_count": 43,
   "metadata": {
    "ExecuteTime": {
     "end_time": "2019-05-22T10:02:27.933328Z",
     "start_time": "2019-05-22T10:02:27.906846Z"
    }
   },
   "outputs": [
    {
     "name": "stdout",
     "output_type": "stream",
     "text": [
      "datetime64[ns] datetime64[ns]\n"
     ]
    },
    {
     "data": {
      "text/plain": [
       "0    465\n",
       "1    731\n",
       "2    475\n",
       "3    764\n",
       "4    279\n",
       "dtype: int64"
      ]
     },
     "execution_count": 43,
     "metadata": {},
     "output_type": "execute_result"
    }
   ],
   "source": [
    "print(dac.dtype,tfa.dtype)\n",
    "dt_span = dac.subtract(tfa).dt.days\n",
    "dt_span.head()"
   ]
  },
  {
   "cell_type": "code",
   "execution_count": 44,
   "metadata": {
    "ExecuteTime": {
     "end_time": "2019-05-22T10:02:28.972088Z",
     "start_time": "2019-05-22T10:02:28.481213Z"
    }
   },
   "outputs": [
    {
     "data": {
      "text/plain": [
       "<matplotlib.collections.PathCollection at 0x2aa440f2160>"
      ]
     },
     "execution_count": 44,
     "metadata": {},
     "output_type": "execute_result"
    },
    {
     "data": {
      "image/png": "[encoded data removed]",
      "text/plain": [
       "<Figure size 432x288 with 1 Axes>"
      ]
     },
     "metadata": {},
     "output_type": "display_data"
    }
   ],
   "source": [
    "plt.scatter(dt_span.value_counts().index.values,dt_span.value_counts().values)"
   ]
  },
  {
   "cell_type": "code",
   "execution_count": 45,
   "metadata": {
    "ExecuteTime": {
     "end_time": "2019-05-22T10:02:30.199912Z",
     "start_time": "2019-05-22T10:02:29.480950Z"
    }
   },
   "outputs": [
    {
     "data": {
      "text/html": [
       "<div>\n",
       "<style scoped>\n",
       "    .dataframe tbody tr th:only-of-type {\n",
       "        vertical-align: middle;\n",
       "    }\n",
       "\n",
       "    .dataframe tbody tr th {\n",
       "        vertical-align: top;\n",
       "    }\n",
       "\n",
       "    .dataframe thead th {\n",
       "        text-align: right;\n",
       "    }\n",
       "</style>\n",
       "<table border=\"1\" class=\"dataframe\">\n",
       "  <thead>\n",
       "    <tr style=\"text-align: right;\">\n",
       "      <th></th>\n",
       "      <th>id</th>\n",
       "      <th>date_account_created</th>\n",
       "      <th>timestamp_first_active</th>\n",
       "      <th>gender</th>\n",
       "      <th>age</th>\n",
       "      <th>signup_method</th>\n",
       "      <th>signup_flow</th>\n",
       "      <th>language</th>\n",
       "      <th>affiliate_channel</th>\n",
       "      <th>affiliate_provider</th>\n",
       "      <th>...</th>\n",
       "      <th>dac_wd_6</th>\n",
       "      <th>dac_wd_7</th>\n",
       "      <th>dac_season_0</th>\n",
       "      <th>dac_season_1</th>\n",
       "      <th>dac_season_2</th>\n",
       "      <th>dac_season_3</th>\n",
       "      <th>span_OneDay</th>\n",
       "      <th>span_OneMonth</th>\n",
       "      <th>span_OneYear</th>\n",
       "      <th>span_Other</th>\n",
       "    </tr>\n",
       "  </thead>\n",
       "  <tbody>\n",
       "    <tr>\n",
       "      <th>0</th>\n",
       "      <td>gxn3p5htnn</td>\n",
       "      <td>2010-06-28</td>\n",
       "      <td>20090319043255</td>\n",
       "      <td>-unknown-</td>\n",
       "      <td>NaN</td>\n",
       "      <td>facebook</td>\n",
       "      <td>0</td>\n",
       "      <td>en</td>\n",
       "      <td>direct</td>\n",
       "      <td>direct</td>\n",
       "      <td>...</td>\n",
       "      <td>0</td>\n",
       "      <td>0</td>\n",
       "      <td>0</td>\n",
       "      <td>0</td>\n",
       "      <td>1</td>\n",
       "      <td>0</td>\n",
       "      <td>0</td>\n",
       "      <td>0</td>\n",
       "      <td>0</td>\n",
       "      <td>1</td>\n",
       "    </tr>\n",
       "    <tr>\n",
       "      <th>1</th>\n",
       "      <td>820tgsjxq7</td>\n",
       "      <td>2011-05-25</td>\n",
       "      <td>20090523174809</td>\n",
       "      <td>MALE</td>\n",
       "      <td>38.0</td>\n",
       "      <td>facebook</td>\n",
       "      <td>0</td>\n",
       "      <td>en</td>\n",
       "      <td>seo</td>\n",
       "      <td>google</td>\n",
       "      <td>...</td>\n",
       "      <td>0</td>\n",
       "      <td>0</td>\n",
       "      <td>0</td>\n",
       "      <td>1</td>\n",
       "      <td>0</td>\n",
       "      <td>0</td>\n",
       "      <td>0</td>\n",
       "      <td>0</td>\n",
       "      <td>0</td>\n",
       "      <td>1</td>\n",
       "    </tr>\n",
       "    <tr>\n",
       "      <th>2</th>\n",
       "      <td>4ft3gnwmtx</td>\n",
       "      <td>2010-09-28</td>\n",
       "      <td>20090609231247</td>\n",
       "      <td>FEMALE</td>\n",
       "      <td>56.0</td>\n",
       "      <td>basic</td>\n",
       "      <td>3</td>\n",
       "      <td>en</td>\n",
       "      <td>direct</td>\n",
       "      <td>direct</td>\n",
       "      <td>...</td>\n",
       "      <td>0</td>\n",
       "      <td>0</td>\n",
       "      <td>0</td>\n",
       "      <td>0</td>\n",
       "      <td>0</td>\n",
       "      <td>1</td>\n",
       "      <td>0</td>\n",
       "      <td>0</td>\n",
       "      <td>0</td>\n",
       "      <td>1</td>\n",
       "    </tr>\n",
       "    <tr>\n",
       "      <th>3</th>\n",
       "      <td>bjjt8pjhuk</td>\n",
       "      <td>2011-12-05</td>\n",
       "      <td>20091031060129</td>\n",
       "      <td>FEMALE</td>\n",
       "      <td>42.0</td>\n",
       "      <td>facebook</td>\n",
       "      <td>0</td>\n",
       "      <td>en</td>\n",
       "      <td>direct</td>\n",
       "      <td>direct</td>\n",
       "      <td>...</td>\n",
       "      <td>0</td>\n",
       "      <td>0</td>\n",
       "      <td>0</td>\n",
       "      <td>0</td>\n",
       "      <td>0</td>\n",
       "      <td>1</td>\n",
       "      <td>0</td>\n",
       "      <td>0</td>\n",
       "      <td>0</td>\n",
       "      <td>1</td>\n",
       "    </tr>\n",
       "    <tr>\n",
       "      <th>4</th>\n",
       "      <td>87mebub9p4</td>\n",
       "      <td>2010-09-14</td>\n",
       "      <td>20091208061105</td>\n",
       "      <td>-unknown-</td>\n",
       "      <td>41.0</td>\n",
       "      <td>basic</td>\n",
       "      <td>0</td>\n",
       "      <td>en</td>\n",
       "      <td>direct</td>\n",
       "      <td>direct</td>\n",
       "      <td>...</td>\n",
       "      <td>0</td>\n",
       "      <td>0</td>\n",
       "      <td>0</td>\n",
       "      <td>0</td>\n",
       "      <td>1</td>\n",
       "      <td>0</td>\n",
       "      <td>0</td>\n",
       "      <td>0</td>\n",
       "      <td>1</td>\n",
       "      <td>0</td>\n",
       "    </tr>\n",
       "  </tbody>\n",
       "</table>\n",
       "<p>5 rows × 46 columns</p>\n",
       "</div>"
      ],
      "text/plain": [
       "           id date_account_created  timestamp_first_active     gender   age  \\\n",
       "0  gxn3p5htnn           2010-06-28          20090319043255  -unknown-   NaN   \n",
       "1  820tgsjxq7           2011-05-25          20090523174809       MALE  38.0   \n",
       "2  4ft3gnwmtx           2010-09-28          20090609231247     FEMALE  56.0   \n",
       "3  bjjt8pjhuk           2011-12-05          20091031060129     FEMALE  42.0   \n",
       "4  87mebub9p4           2010-09-14          20091208061105  -unknown-  41.0   \n",
       "\n",
       "  signup_method  signup_flow language affiliate_channel affiliate_provider  \\\n",
       "0      facebook            0       en            direct             direct   \n",
       "1      facebook            0       en               seo             google   \n",
       "2         basic            3       en            direct             direct   \n",
       "3      facebook            0       en            direct             direct   \n",
       "4         basic            0       en            direct             direct   \n",
       "\n",
       "      ...     dac_wd_6 dac_wd_7 dac_season_0 dac_season_1  dac_season_2  \\\n",
       "0     ...            0        0            0            0             1   \n",
       "1     ...            0        0            0            1             0   \n",
       "2     ...            0        0            0            0             0   \n",
       "3     ...            0        0            0            0             0   \n",
       "4     ...            0        0            0            0             1   \n",
       "\n",
       "   dac_season_3  span_OneDay  span_OneMonth  span_OneYear  span_Other  \n",
       "0             0            0              0             0           1  \n",
       "1             0            0              0             0           1  \n",
       "2             1            0              0             0           1  \n",
       "3             1            0              0             0           1  \n",
       "4             0            0              0             1           0  \n",
       "\n",
       "[5 rows x 46 columns]"
      ]
     },
     "execution_count": 45,
     "metadata": {},
     "output_type": "execute_result"
    }
   ],
   "source": [
    "def get_span(dt):\n",
    "    if dt==-1:\n",
    "        return 'OneDay'\n",
    "    elif -1<dt<=31:\n",
    "        return 'OneMonth'\n",
    "    elif 31<dt<365:\n",
    "        return 'OneYear'\n",
    "    else:\n",
    "        return 'Other'\n",
    "\n",
    "df['span']=np.array([get_span(i) for i in dt_span])\n",
    "df_span=pd.get_dummies(df.span,prefix='span')\n",
    "df=pd.concat([df,df_span],axis=1)\n",
    "df.drop('span',axis=1,inplace=True)\n",
    "df.head()"
   ]
  },
  {
   "cell_type": "code",
   "execution_count": 46,
   "metadata": {
    "ExecuteTime": {
     "end_time": "2019-05-22T10:02:30.725634Z",
     "start_time": "2019-05-22T10:02:30.652477Z"
    }
   },
   "outputs": [
    {
     "data": {
      "text/plain": [
       "Index(['id', 'gender', 'age', 'signup_method', 'signup_flow', 'language',\n",
       "       'affiliate_channel', 'affiliate_provider', 'first_affiliate_tracked',\n",
       "       'signup_app', 'first_device_type', 'first_browser', 'tfa_year',\n",
       "       'tfa_month', 'tfa_day', 'tfa_wd_1', 'tfa_wd_2', 'tfa_wd_3', 'tfa_wd_4',\n",
       "       'tfa_wd_5', 'tfa_wd_6', 'tfa_wd_7', 'tfa_season_0', 'tfa_season_1',\n",
       "       'tfa_season_2', 'tfa_season_3', 'dac_year', 'dac_month', 'dac_day',\n",
       "       'dac_wd_1', 'dac_wd_2', 'dac_wd_3', 'dac_wd_4', 'dac_wd_5', 'dac_wd_6',\n",
       "       'dac_wd_7', 'dac_season_0', 'dac_season_1', 'dac_season_2',\n",
       "       'dac_season_3', 'span_OneDay', 'span_OneMonth', 'span_OneYear',\n",
       "       'span_Other'],\n",
       "      dtype='object')"
      ]
     },
     "execution_count": 46,
     "metadata": {},
     "output_type": "execute_result"
    }
   ],
   "source": [
    "df.drop(['date_account_created','timestamp_first_active'],axis=1,inplace=True)\n",
    "df.columns"
   ]
  },
  {
   "cell_type": "code",
   "execution_count": 47,
   "metadata": {
    "ExecuteTime": {
     "end_time": "2019-05-22T10:02:31.254632Z",
     "start_time": "2019-05-22T10:02:31.207598Z"
    }
   },
   "outputs": [
    {
     "data": {
      "text/html": [
       "<div>\n",
       "<style scoped>\n",
       "    .dataframe tbody tr th:only-of-type {\n",
       "        vertical-align: middle;\n",
       "    }\n",
       "\n",
       "    .dataframe tbody tr th {\n",
       "        vertical-align: top;\n",
       "    }\n",
       "\n",
       "    .dataframe thead th {\n",
       "        text-align: right;\n",
       "    }\n",
       "</style>\n",
       "<table border=\"1\" class=\"dataframe\">\n",
       "  <thead>\n",
       "    <tr style=\"text-align: right;\">\n",
       "      <th></th>\n",
       "      <th>id</th>\n",
       "      <th>gender</th>\n",
       "      <th>age</th>\n",
       "      <th>signup_method</th>\n",
       "      <th>signup_flow</th>\n",
       "      <th>language</th>\n",
       "      <th>affiliate_channel</th>\n",
       "      <th>affiliate_provider</th>\n",
       "      <th>first_affiliate_tracked</th>\n",
       "      <th>signup_app</th>\n",
       "      <th>...</th>\n",
       "      <th>dac_wd_6</th>\n",
       "      <th>dac_wd_7</th>\n",
       "      <th>dac_season_0</th>\n",
       "      <th>dac_season_1</th>\n",
       "      <th>dac_season_2</th>\n",
       "      <th>dac_season_3</th>\n",
       "      <th>span_OneDay</th>\n",
       "      <th>span_OneMonth</th>\n",
       "      <th>span_OneYear</th>\n",
       "      <th>span_Other</th>\n",
       "    </tr>\n",
       "  </thead>\n",
       "  <tbody>\n",
       "    <tr>\n",
       "      <th>0</th>\n",
       "      <td>gxn3p5htnn</td>\n",
       "      <td>-unknown-</td>\n",
       "      <td>NaN</td>\n",
       "      <td>facebook</td>\n",
       "      <td>0</td>\n",
       "      <td>en</td>\n",
       "      <td>direct</td>\n",
       "      <td>direct</td>\n",
       "      <td>untracked</td>\n",
       "      <td>Web</td>\n",
       "      <td>...</td>\n",
       "      <td>0</td>\n",
       "      <td>0</td>\n",
       "      <td>0</td>\n",
       "      <td>0</td>\n",
       "      <td>1</td>\n",
       "      <td>0</td>\n",
       "      <td>0</td>\n",
       "      <td>0</td>\n",
       "      <td>0</td>\n",
       "      <td>1</td>\n",
       "    </tr>\n",
       "    <tr>\n",
       "      <th>1</th>\n",
       "      <td>820tgsjxq7</td>\n",
       "      <td>MALE</td>\n",
       "      <td>38.0</td>\n",
       "      <td>facebook</td>\n",
       "      <td>0</td>\n",
       "      <td>en</td>\n",
       "      <td>seo</td>\n",
       "      <td>google</td>\n",
       "      <td>untracked</td>\n",
       "      <td>Web</td>\n",
       "      <td>...</td>\n",
       "      <td>0</td>\n",
       "      <td>0</td>\n",
       "      <td>0</td>\n",
       "      <td>1</td>\n",
       "      <td>0</td>\n",
       "      <td>0</td>\n",
       "      <td>0</td>\n",
       "      <td>0</td>\n",
       "      <td>0</td>\n",
       "      <td>1</td>\n",
       "    </tr>\n",
       "    <tr>\n",
       "      <th>2</th>\n",
       "      <td>4ft3gnwmtx</td>\n",
       "      <td>FEMALE</td>\n",
       "      <td>56.0</td>\n",
       "      <td>basic</td>\n",
       "      <td>3</td>\n",
       "      <td>en</td>\n",
       "      <td>direct</td>\n",
       "      <td>direct</td>\n",
       "      <td>untracked</td>\n",
       "      <td>Web</td>\n",
       "      <td>...</td>\n",
       "      <td>0</td>\n",
       "      <td>0</td>\n",
       "      <td>0</td>\n",
       "      <td>0</td>\n",
       "      <td>0</td>\n",
       "      <td>1</td>\n",
       "      <td>0</td>\n",
       "      <td>0</td>\n",
       "      <td>0</td>\n",
       "      <td>1</td>\n",
       "    </tr>\n",
       "    <tr>\n",
       "      <th>3</th>\n",
       "      <td>bjjt8pjhuk</td>\n",
       "      <td>FEMALE</td>\n",
       "      <td>42.0</td>\n",
       "      <td>facebook</td>\n",
       "      <td>0</td>\n",
       "      <td>en</td>\n",
       "      <td>direct</td>\n",
       "      <td>direct</td>\n",
       "      <td>untracked</td>\n",
       "      <td>Web</td>\n",
       "      <td>...</td>\n",
       "      <td>0</td>\n",
       "      <td>0</td>\n",
       "      <td>0</td>\n",
       "      <td>0</td>\n",
       "      <td>0</td>\n",
       "      <td>1</td>\n",
       "      <td>0</td>\n",
       "      <td>0</td>\n",
       "      <td>0</td>\n",
       "      <td>1</td>\n",
       "    </tr>\n",
       "    <tr>\n",
       "      <th>4</th>\n",
       "      <td>87mebub9p4</td>\n",
       "      <td>-unknown-</td>\n",
       "      <td>41.0</td>\n",
       "      <td>basic</td>\n",
       "      <td>0</td>\n",
       "      <td>en</td>\n",
       "      <td>direct</td>\n",
       "      <td>direct</td>\n",
       "      <td>untracked</td>\n",
       "      <td>Web</td>\n",
       "      <td>...</td>\n",
       "      <td>0</td>\n",
       "      <td>0</td>\n",
       "      <td>0</td>\n",
       "      <td>0</td>\n",
       "      <td>1</td>\n",
       "      <td>0</td>\n",
       "      <td>0</td>\n",
       "      <td>0</td>\n",
       "      <td>1</td>\n",
       "      <td>0</td>\n",
       "    </tr>\n",
       "  </tbody>\n",
       "</table>\n",
       "<p>5 rows × 44 columns</p>\n",
       "</div>"
      ],
      "text/plain": [
       "           id     gender   age signup_method  signup_flow language  \\\n",
       "0  gxn3p5htnn  -unknown-   NaN      facebook            0       en   \n",
       "1  820tgsjxq7       MALE  38.0      facebook            0       en   \n",
       "2  4ft3gnwmtx     FEMALE  56.0         basic            3       en   \n",
       "3  bjjt8pjhuk     FEMALE  42.0      facebook            0       en   \n",
       "4  87mebub9p4  -unknown-  41.0         basic            0       en   \n",
       "\n",
       "  affiliate_channel affiliate_provider first_affiliate_tracked signup_app  \\\n",
       "0            direct             direct               untracked        Web   \n",
       "1               seo             google               untracked        Web   \n",
       "2            direct             direct               untracked        Web   \n",
       "3            direct             direct               untracked        Web   \n",
       "4            direct             direct               untracked        Web   \n",
       "\n",
       "      ...     dac_wd_6 dac_wd_7  dac_season_0  dac_season_1  dac_season_2  \\\n",
       "0     ...            0        0             0             0             1   \n",
       "1     ...            0        0             0             1             0   \n",
       "2     ...            0        0             0             0             0   \n",
       "3     ...            0        0             0             0             0   \n",
       "4     ...            0        0             0             0             1   \n",
       "\n",
       "   dac_season_3  span_OneDay  span_OneMonth  span_OneYear  span_Other  \n",
       "0             0            0              0             0           1  \n",
       "1             0            0              0             0           1  \n",
       "2             1            0              0             0           1  \n",
       "3             1            0              0             0           1  \n",
       "4             0            0              0             1           0  \n",
       "\n",
       "[5 rows x 44 columns]"
      ]
     },
     "execution_count": 47,
     "metadata": {},
     "output_type": "execute_result"
    }
   ],
   "source": [
    "df.head()"
   ]
  },
  {
   "cell_type": "markdown",
   "metadata": {},
   "source": [
    "#### age"
   ]
  },
  {
   "cell_type": "code",
   "execution_count": 48,
   "metadata": {
    "ExecuteTime": {
     "end_time": "2019-05-22T10:02:31.944245Z",
     "start_time": "2019-05-22T10:02:31.932236Z"
    }
   },
   "outputs": [
    {
     "data": {
      "text/plain": [
       "0     NaN\n",
       "1    38.0\n",
       "2    56.0\n",
       "3    42.0\n",
       "4    41.0\n",
       "Name: age, dtype: float64"
      ]
     },
     "execution_count": 48,
     "metadata": {},
     "output_type": "execute_result"
    }
   ],
   "source": [
    "av=df.age\n",
    "av.head()"
   ]
  },
  {
   "cell_type": "code",
   "execution_count": 49,
   "metadata": {
    "ExecuteTime": {
     "end_time": "2019-05-22T10:02:35.496486Z",
     "start_time": "2019-05-22T10:02:32.434570Z"
    }
   },
   "outputs": [],
   "source": [
    "age_values=av.apply(lambda x: np.where(x>1900,2019-x,x))\n",
    "age_values=age_values.apply(lambda x: np.where(x>=132,-1,x))"
   ]
  },
  {
   "cell_type": "code",
   "execution_count": 50,
   "metadata": {
    "ExecuteTime": {
     "end_time": "2019-05-22T10:02:35.987768Z",
     "start_time": "2019-05-22T10:02:35.972144Z"
    }
   },
   "outputs": [],
   "source": [
    "age_values.fillna(-1,inplace=True)"
   ]
  },
  {
   "cell_type": "code",
   "execution_count": 51,
   "metadata": {
    "ExecuteTime": {
     "end_time": "2019-05-22T10:02:36.858202Z",
     "start_time": "2019-05-22T10:02:36.537635Z"
    }
   },
   "outputs": [],
   "source": [
    "def get_age(age):\n",
    "    if age<0:\n",
    "        return 'NA'\n",
    "    elif 0<age<=18:\n",
    "        return 'Juvenile'\n",
    "    elif 18<age<=40:\n",
    "        return 'Youth'\n",
    "    elif 40<age<=66:\n",
    "        return 'Middlescent'\n",
    "    else:\n",
    "        return 'Senium'\n",
    "\n",
    "age_type=age_values.apply(lambda x : get_age(x))"
   ]
  },
  {
   "cell_type": "code",
   "execution_count": 52,
   "metadata": {
    "ExecuteTime": {
     "end_time": "2019-05-22T10:02:37.323650Z",
     "start_time": "2019-05-22T10:02:37.306378Z"
    },
    "collapsed": true
   },
   "outputs": [
    {
     "data": {
      "text/plain": [
       "0                  NA\n",
       "1               Youth\n",
       "2         Middlescent\n",
       "3         Middlescent\n",
       "4         Middlescent\n",
       "5                  NA\n",
       "6         Middlescent\n",
       "7         Middlescent\n",
       "8         Middlescent\n",
       "9         Middlescent\n",
       "10              Youth\n",
       "11        Middlescent\n",
       "12                 NA\n",
       "13              Youth\n",
       "14              Youth\n",
       "15              Youth\n",
       "16                 NA\n",
       "17              Youth\n",
       "18                 NA\n",
       "19              Youth\n",
       "20                 NA\n",
       "21              Youth\n",
       "22              Youth\n",
       "23                 NA\n",
       "24              Youth\n",
       "25              Youth\n",
       "26                 NA\n",
       "27              Youth\n",
       "28              Youth\n",
       "29              Youth\n",
       "             ...     \n",
       "275517             NA\n",
       "275518    Middlescent\n",
       "275519             NA\n",
       "275520          Youth\n",
       "275521          Youth\n",
       "275522             NA\n",
       "275523             NA\n",
       "275524             NA\n",
       "275525             NA\n",
       "275526          Youth\n",
       "275527          Youth\n",
       "275528             NA\n",
       "275529             NA\n",
       "275530    Middlescent\n",
       "275531          Youth\n",
       "275532          Youth\n",
       "275533             NA\n",
       "275534          Youth\n",
       "275535          Youth\n",
       "275536          Youth\n",
       "275537             NA\n",
       "275538    Middlescent\n",
       "275539          Youth\n",
       "275540          Youth\n",
       "275541             NA\n",
       "275542          Youth\n",
       "275543             NA\n",
       "275544             NA\n",
       "275545             NA\n",
       "275546    Middlescent\n",
       "Name: age, Length: 275547, dtype: object"
      ]
     },
     "execution_count": 52,
     "metadata": {},
     "output_type": "execute_result"
    }
   ],
   "source": [
    "age_type"
   ]
  },
  {
   "cell_type": "code",
   "execution_count": 53,
   "metadata": {
    "ExecuteTime": {
     "end_time": "2019-05-22T10:02:38.162206Z",
     "start_time": "2019-05-22T10:02:37.810974Z"
    }
   },
   "outputs": [],
   "source": [
    "df['age_type']=age_type\n",
    "age_types=pd.get_dummies(df.age_type,prefix='age_type')\n",
    "df=pd.concat([df,age_types],axis=1)\n",
    "df.drop(['age','age_type'],axis=1,inplace=True)"
   ]
  },
  {
   "cell_type": "code",
   "execution_count": 54,
   "metadata": {
    "ExecuteTime": {
     "end_time": "2019-05-22T10:02:38.698102Z",
     "start_time": "2019-05-22T10:02:38.653072Z"
    }
   },
   "outputs": [
    {
     "data": {
      "text/html": [
       "<div>\n",
       "<style scoped>\n",
       "    .dataframe tbody tr th:only-of-type {\n",
       "        vertical-align: middle;\n",
       "    }\n",
       "\n",
       "    .dataframe tbody tr th {\n",
       "        vertical-align: top;\n",
       "    }\n",
       "\n",
       "    .dataframe thead th {\n",
       "        text-align: right;\n",
       "    }\n",
       "</style>\n",
       "<table border=\"1\" class=\"dataframe\">\n",
       "  <thead>\n",
       "    <tr style=\"text-align: right;\">\n",
       "      <th></th>\n",
       "      <th>id</th>\n",
       "      <th>gender</th>\n",
       "      <th>signup_method</th>\n",
       "      <th>signup_flow</th>\n",
       "      <th>language</th>\n",
       "      <th>affiliate_channel</th>\n",
       "      <th>affiliate_provider</th>\n",
       "      <th>first_affiliate_tracked</th>\n",
       "      <th>signup_app</th>\n",
       "      <th>first_device_type</th>\n",
       "      <th>...</th>\n",
       "      <th>dac_season_3</th>\n",
       "      <th>span_OneDay</th>\n",
       "      <th>span_OneMonth</th>\n",
       "      <th>span_OneYear</th>\n",
       "      <th>span_Other</th>\n",
       "      <th>age_type_Juvenile</th>\n",
       "      <th>age_type_Middlescent</th>\n",
       "      <th>age_type_NA</th>\n",
       "      <th>age_type_Senium</th>\n",
       "      <th>age_type_Youth</th>\n",
       "    </tr>\n",
       "  </thead>\n",
       "  <tbody>\n",
       "    <tr>\n",
       "      <th>0</th>\n",
       "      <td>gxn3p5htnn</td>\n",
       "      <td>-unknown-</td>\n",
       "      <td>facebook</td>\n",
       "      <td>0</td>\n",
       "      <td>en</td>\n",
       "      <td>direct</td>\n",
       "      <td>direct</td>\n",
       "      <td>untracked</td>\n",
       "      <td>Web</td>\n",
       "      <td>Mac Desktop</td>\n",
       "      <td>...</td>\n",
       "      <td>0</td>\n",
       "      <td>0</td>\n",
       "      <td>0</td>\n",
       "      <td>0</td>\n",
       "      <td>1</td>\n",
       "      <td>0</td>\n",
       "      <td>0</td>\n",
       "      <td>1</td>\n",
       "      <td>0</td>\n",
       "      <td>0</td>\n",
       "    </tr>\n",
       "    <tr>\n",
       "      <th>1</th>\n",
       "      <td>820tgsjxq7</td>\n",
       "      <td>MALE</td>\n",
       "      <td>facebook</td>\n",
       "      <td>0</td>\n",
       "      <td>en</td>\n",
       "      <td>seo</td>\n",
       "      <td>google</td>\n",
       "      <td>untracked</td>\n",
       "      <td>Web</td>\n",
       "      <td>Mac Desktop</td>\n",
       "      <td>...</td>\n",
       "      <td>0</td>\n",
       "      <td>0</td>\n",
       "      <td>0</td>\n",
       "      <td>0</td>\n",
       "      <td>1</td>\n",
       "      <td>0</td>\n",
       "      <td>0</td>\n",
       "      <td>0</td>\n",
       "      <td>0</td>\n",
       "      <td>1</td>\n",
       "    </tr>\n",
       "    <tr>\n",
       "      <th>2</th>\n",
       "      <td>4ft3gnwmtx</td>\n",
       "      <td>FEMALE</td>\n",
       "      <td>basic</td>\n",
       "      <td>3</td>\n",
       "      <td>en</td>\n",
       "      <td>direct</td>\n",
       "      <td>direct</td>\n",
       "      <td>untracked</td>\n",
       "      <td>Web</td>\n",
       "      <td>Windows Desktop</td>\n",
       "      <td>...</td>\n",
       "      <td>1</td>\n",
       "      <td>0</td>\n",
       "      <td>0</td>\n",
       "      <td>0</td>\n",
       "      <td>1</td>\n",
       "      <td>0</td>\n",
       "      <td>1</td>\n",
       "      <td>0</td>\n",
       "      <td>0</td>\n",
       "      <td>0</td>\n",
       "    </tr>\n",
       "    <tr>\n",
       "      <th>3</th>\n",
       "      <td>bjjt8pjhuk</td>\n",
       "      <td>FEMALE</td>\n",
       "      <td>facebook</td>\n",
       "      <td>0</td>\n",
       "      <td>en</td>\n",
       "      <td>direct</td>\n",
       "      <td>direct</td>\n",
       "      <td>untracked</td>\n",
       "      <td>Web</td>\n",
       "      <td>Mac Desktop</td>\n",
       "      <td>...</td>\n",
       "      <td>1</td>\n",
       "      <td>0</td>\n",
       "      <td>0</td>\n",
       "      <td>0</td>\n",
       "      <td>1</td>\n",
       "      <td>0</td>\n",
       "      <td>1</td>\n",
       "      <td>0</td>\n",
       "      <td>0</td>\n",
       "      <td>0</td>\n",
       "    </tr>\n",
       "    <tr>\n",
       "      <th>4</th>\n",
       "      <td>87mebub9p4</td>\n",
       "      <td>-unknown-</td>\n",
       "      <td>basic</td>\n",
       "      <td>0</td>\n",
       "      <td>en</td>\n",
       "      <td>direct</td>\n",
       "      <td>direct</td>\n",
       "      <td>untracked</td>\n",
       "      <td>Web</td>\n",
       "      <td>Mac Desktop</td>\n",
       "      <td>...</td>\n",
       "      <td>0</td>\n",
       "      <td>0</td>\n",
       "      <td>0</td>\n",
       "      <td>1</td>\n",
       "      <td>0</td>\n",
       "      <td>0</td>\n",
       "      <td>1</td>\n",
       "      <td>0</td>\n",
       "      <td>0</td>\n",
       "      <td>0</td>\n",
       "    </tr>\n",
       "  </tbody>\n",
       "</table>\n",
       "<p>5 rows × 48 columns</p>\n",
       "</div>"
      ],
      "text/plain": [
       "           id     gender signup_method  signup_flow language  \\\n",
       "0  gxn3p5htnn  -unknown-      facebook            0       en   \n",
       "1  820tgsjxq7       MALE      facebook            0       en   \n",
       "2  4ft3gnwmtx     FEMALE         basic            3       en   \n",
       "3  bjjt8pjhuk     FEMALE      facebook            0       en   \n",
       "4  87mebub9p4  -unknown-         basic            0       en   \n",
       "\n",
       "  affiliate_channel affiliate_provider first_affiliate_tracked signup_app  \\\n",
       "0            direct             direct               untracked        Web   \n",
       "1               seo             google               untracked        Web   \n",
       "2            direct             direct               untracked        Web   \n",
       "3            direct             direct               untracked        Web   \n",
       "4            direct             direct               untracked        Web   \n",
       "\n",
       "  first_device_type       ...       dac_season_3  span_OneDay  span_OneMonth  \\\n",
       "0       Mac Desktop       ...                  0            0              0   \n",
       "1       Mac Desktop       ...                  0            0              0   \n",
       "2   Windows Desktop       ...                  1            0              0   \n",
       "3       Mac Desktop       ...                  1            0              0   \n",
       "4       Mac Desktop       ...                  0            0              0   \n",
       "\n",
       "   span_OneYear  span_Other  age_type_Juvenile  age_type_Middlescent  \\\n",
       "0             0           1                  0                     0   \n",
       "1             0           1                  0                     0   \n",
       "2             0           1                  0                     1   \n",
       "3             0           1                  0                     1   \n",
       "4             1           0                  0                     1   \n",
       "\n",
       "   age_type_NA  age_type_Senium  age_type_Youth  \n",
       "0            1                0               0  \n",
       "1            0                0               1  \n",
       "2            0                0               0  \n",
       "3            0                0               0  \n",
       "4            0                0               0  \n",
       "\n",
       "[5 rows x 48 columns]"
      ]
     },
     "execution_count": 54,
     "metadata": {},
     "output_type": "execute_result"
    }
   ],
   "source": [
    "df.head()"
   ]
  },
  {
   "cell_type": "markdown",
   "metadata": {},
   "source": [
    "#### categorical features"
   ]
  },
  {
   "cell_type": "code",
   "execution_count": 55,
   "metadata": {
    "ExecuteTime": {
     "end_time": "2019-05-22T10:02:42.396156Z",
     "start_time": "2019-05-22T10:02:39.223943Z"
    }
   },
   "outputs": [],
   "source": [
    "feat_toOHE = ['gender', \n",
    "             'signup_method', \n",
    "             'signup_flow', \n",
    "             'language', \n",
    "             'affiliate_channel', \n",
    "             'affiliate_provider', \n",
    "             'first_affiliate_tracked', \n",
    "             'signup_app', \n",
    "             'first_device_type', \n",
    "             'first_browser']\n",
    "for i in feat_toOHE:\n",
    "    df_toOHE=pd.get_dummies(df[i],prefix=i,dummy_na=True)\n",
    "    df=pd.concat((df,df_toOHE),axis=1)\n",
    "    df.drop(i,axis=1,inplace=True)"
   ]
  },
  {
   "cell_type": "code",
   "execution_count": 56,
   "metadata": {
    "ExecuteTime": {
     "end_time": "2019-05-22T10:02:42.975348Z",
     "start_time": "2019-05-22T10:02:42.935319Z"
    }
   },
   "outputs": [
    {
     "data": {
      "text/html": [
       "<div>\n",
       "<style scoped>\n",
       "    .dataframe tbody tr th:only-of-type {\n",
       "        vertical-align: middle;\n",
       "    }\n",
       "\n",
       "    .dataframe tbody tr th {\n",
       "        vertical-align: top;\n",
       "    }\n",
       "\n",
       "    .dataframe thead th {\n",
       "        text-align: right;\n",
       "    }\n",
       "</style>\n",
       "<table border=\"1\" class=\"dataframe\">\n",
       "  <thead>\n",
       "    <tr style=\"text-align: right;\">\n",
       "      <th></th>\n",
       "      <th>id</th>\n",
       "      <th>tfa_year</th>\n",
       "      <th>tfa_month</th>\n",
       "      <th>tfa_day</th>\n",
       "      <th>tfa_wd_1</th>\n",
       "      <th>tfa_wd_2</th>\n",
       "      <th>tfa_wd_3</th>\n",
       "      <th>tfa_wd_4</th>\n",
       "      <th>tfa_wd_5</th>\n",
       "      <th>tfa_wd_6</th>\n",
       "      <th>...</th>\n",
       "      <th>first_browser_SiteKiosk</th>\n",
       "      <th>first_browser_SlimBrowser</th>\n",
       "      <th>first_browser_Sogou Explorer</th>\n",
       "      <th>first_browser_Stainless</th>\n",
       "      <th>first_browser_TenFourFox</th>\n",
       "      <th>first_browser_TheWorld Browser</th>\n",
       "      <th>first_browser_UC Browser</th>\n",
       "      <th>first_browser_Yandex.Browser</th>\n",
       "      <th>first_browser_wOSBrowser</th>\n",
       "      <th>first_browser_nan</th>\n",
       "    </tr>\n",
       "  </thead>\n",
       "  <tbody>\n",
       "    <tr>\n",
       "      <th>0</th>\n",
       "      <td>gxn3p5htnn</td>\n",
       "      <td>2009</td>\n",
       "      <td>3</td>\n",
       "      <td>19</td>\n",
       "      <td>0</td>\n",
       "      <td>0</td>\n",
       "      <td>0</td>\n",
       "      <td>1</td>\n",
       "      <td>0</td>\n",
       "      <td>0</td>\n",
       "      <td>...</td>\n",
       "      <td>0</td>\n",
       "      <td>0</td>\n",
       "      <td>0</td>\n",
       "      <td>0</td>\n",
       "      <td>0</td>\n",
       "      <td>0</td>\n",
       "      <td>0</td>\n",
       "      <td>0</td>\n",
       "      <td>0</td>\n",
       "      <td>0</td>\n",
       "    </tr>\n",
       "    <tr>\n",
       "      <th>1</th>\n",
       "      <td>820tgsjxq7</td>\n",
       "      <td>2009</td>\n",
       "      <td>5</td>\n",
       "      <td>23</td>\n",
       "      <td>0</td>\n",
       "      <td>0</td>\n",
       "      <td>0</td>\n",
       "      <td>0</td>\n",
       "      <td>0</td>\n",
       "      <td>1</td>\n",
       "      <td>...</td>\n",
       "      <td>0</td>\n",
       "      <td>0</td>\n",
       "      <td>0</td>\n",
       "      <td>0</td>\n",
       "      <td>0</td>\n",
       "      <td>0</td>\n",
       "      <td>0</td>\n",
       "      <td>0</td>\n",
       "      <td>0</td>\n",
       "      <td>0</td>\n",
       "    </tr>\n",
       "    <tr>\n",
       "      <th>2</th>\n",
       "      <td>4ft3gnwmtx</td>\n",
       "      <td>2009</td>\n",
       "      <td>6</td>\n",
       "      <td>9</td>\n",
       "      <td>0</td>\n",
       "      <td>1</td>\n",
       "      <td>0</td>\n",
       "      <td>0</td>\n",
       "      <td>0</td>\n",
       "      <td>0</td>\n",
       "      <td>...</td>\n",
       "      <td>0</td>\n",
       "      <td>0</td>\n",
       "      <td>0</td>\n",
       "      <td>0</td>\n",
       "      <td>0</td>\n",
       "      <td>0</td>\n",
       "      <td>0</td>\n",
       "      <td>0</td>\n",
       "      <td>0</td>\n",
       "      <td>0</td>\n",
       "    </tr>\n",
       "    <tr>\n",
       "      <th>3</th>\n",
       "      <td>bjjt8pjhuk</td>\n",
       "      <td>2009</td>\n",
       "      <td>10</td>\n",
       "      <td>31</td>\n",
       "      <td>0</td>\n",
       "      <td>0</td>\n",
       "      <td>0</td>\n",
       "      <td>0</td>\n",
       "      <td>0</td>\n",
       "      <td>1</td>\n",
       "      <td>...</td>\n",
       "      <td>0</td>\n",
       "      <td>0</td>\n",
       "      <td>0</td>\n",
       "      <td>0</td>\n",
       "      <td>0</td>\n",
       "      <td>0</td>\n",
       "      <td>0</td>\n",
       "      <td>0</td>\n",
       "      <td>0</td>\n",
       "      <td>0</td>\n",
       "    </tr>\n",
       "    <tr>\n",
       "      <th>4</th>\n",
       "      <td>87mebub9p4</td>\n",
       "      <td>2009</td>\n",
       "      <td>12</td>\n",
       "      <td>8</td>\n",
       "      <td>0</td>\n",
       "      <td>1</td>\n",
       "      <td>0</td>\n",
       "      <td>0</td>\n",
       "      <td>0</td>\n",
       "      <td>0</td>\n",
       "      <td>...</td>\n",
       "      <td>0</td>\n",
       "      <td>0</td>\n",
       "      <td>0</td>\n",
       "      <td>0</td>\n",
       "      <td>0</td>\n",
       "      <td>0</td>\n",
       "      <td>0</td>\n",
       "      <td>0</td>\n",
       "      <td>0</td>\n",
       "      <td>0</td>\n",
       "    </tr>\n",
       "  </tbody>\n",
       "</table>\n",
       "<p>5 rows × 201 columns</p>\n",
       "</div>"
      ],
      "text/plain": [
       "           id  tfa_year  tfa_month  tfa_day  tfa_wd_1  tfa_wd_2  tfa_wd_3  \\\n",
       "0  gxn3p5htnn      2009          3       19         0         0         0   \n",
       "1  820tgsjxq7      2009          5       23         0         0         0   \n",
       "2  4ft3gnwmtx      2009          6        9         0         1         0   \n",
       "3  bjjt8pjhuk      2009         10       31         0         0         0   \n",
       "4  87mebub9p4      2009         12        8         0         1         0   \n",
       "\n",
       "   tfa_wd_4  tfa_wd_5  tfa_wd_6        ...          first_browser_SiteKiosk  \\\n",
       "0         1         0         0        ...                                0   \n",
       "1         0         0         1        ...                                0   \n",
       "2         0         0         0        ...                                0   \n",
       "3         0         0         1        ...                                0   \n",
       "4         0         0         0        ...                                0   \n",
       "\n",
       "   first_browser_SlimBrowser  first_browser_Sogou Explorer  \\\n",
       "0                          0                             0   \n",
       "1                          0                             0   \n",
       "2                          0                             0   \n",
       "3                          0                             0   \n",
       "4                          0                             0   \n",
       "\n",
       "   first_browser_Stainless  first_browser_TenFourFox  \\\n",
       "0                        0                         0   \n",
       "1                        0                         0   \n",
       "2                        0                         0   \n",
       "3                        0                         0   \n",
       "4                        0                         0   \n",
       "\n",
       "   first_browser_TheWorld Browser  first_browser_UC Browser  \\\n",
       "0                               0                         0   \n",
       "1                               0                         0   \n",
       "2                               0                         0   \n",
       "3                               0                         0   \n",
       "4                               0                         0   \n",
       "\n",
       "   first_browser_Yandex.Browser  first_browser_wOSBrowser  first_browser_nan  \n",
       "0                             0                         0                  0  \n",
       "1                             0                         0                  0  \n",
       "2                             0                         0                  0  \n",
       "3                             0                         0                  0  \n",
       "4                             0                         0                  0  \n",
       "\n",
       "[5 rows x 201 columns]"
      ]
     },
     "execution_count": 56,
     "metadata": {},
     "output_type": "execute_result"
    }
   ],
   "source": [
    "df.head()"
   ]
  },
  {
   "cell_type": "markdown",
   "metadata": {},
   "source": [
    "#### merge with session"
   ]
  },
  {
   "cell_type": "markdown",
   "metadata": {},
   "source": [
    "----"
   ]
  },
  {
   "cell_type": "code",
   "execution_count": null,
   "metadata": {},
   "outputs": [],
   "source": [
    "### ps： 用法举例\n",
    "from pandas import Series,DataFrame,merge\n",
    "import numpy as np\n",
    "data=DataFrame([{\"id\":0,\"name\":'lxh',\"age\":20,\"cp\":'lm'},{\"id\":1,\"name\":'xiao',\"age\":40,\"cp\":'ly'},{\"id\":2,\"name\":'hua',\"age\":4,\"cp\":'yry'},{\"id\":3,\"name\":'be',\"age\":70,\"cp\":'old'}])\n",
    "data1=DataFrame([{\"id\":100,\"name\":'lxh','cs':10},{\"id\":101,\"name\":'xiao','cs':40},{\"id\":102,\"name\":'hua2','cs':50}])\n",
    "data2=DataFrame([{\"id\":0,\"name\":'lxh','cs':10},{\"id\":101,\"name\":'xiao','cs':40},{\"id\":102,\"name\":'hua2','cs':50}])\n",
    "\n",
    "print(data)\n",
    "print(data1)\n",
    "print(data2)\n",
    "\n",
    "print('左外连接\\r\\n',merge(data,data1,on=\"name\",how=\"left\",suffixes=('_a','_b')))\n",
    "print('左外连接1\\r\\n',merge(data1,data,on=\"name\",how=\"left\"))\n",
    "print('右外连接\\r\\n',merge(data,data1,on=\"name\",how=\"right\"))\n",
    "data3=DataFrame([{\"mid\":0,\"mname\":'lxh','cs':10},{\"mid\":101,\"mname\":'xiao','cs':40},{\"mid\":102,\"mname\":'hua2','cs':50}])\n",
    "\n",
    "#当左右两个DataFrame的列名不同，当又想做为连接键时可以使用left_on与right_on来指定连接键\n",
    "print(\"使用left_on与right_on来指定列名字不同的连接键\\r\\n\",merge(data,data3,left_on=[\"name\",\"id\"],right_on=[\"mname\",\"mid\"]))"
   ]
  },
  {
   "cell_type": "markdown",
   "metadata": {},
   "source": [
    "---"
   ]
  },
  {
   "cell_type": "code",
   "execution_count": 57,
   "metadata": {
    "ExecuteTime": {
     "end_time": "2019-05-22T10:03:26.040675Z",
     "start_time": "2019-05-22T10:03:24.957231Z"
    }
   },
   "outputs": [
    {
     "name": "stderr",
     "output_type": "stream",
     "text": [
      "E:\\ProgramData\\Anaconda3\\envs\\tensorflow35\\lib\\site-packages\\IPython\\core\\interactiveshell.py:2862: FutureWarning: 'id' is both an index level and a column label.\n",
      "Defaulting to column, but this will raise an ambiguity error in a future version\n",
      "  exec(code_obj, self.user_global_ns, self.user_ns)\n"
     ]
    }
   ],
   "source": [
    "df_all=pd.merge(df,df_agg_sess,on='id',how='left')"
   ]
  },
  {
   "cell_type": "code",
   "execution_count": 59,
   "metadata": {
    "ExecuteTime": {
     "end_time": "2019-05-22T10:05:16.233657Z",
     "start_time": "2019-05-22T10:05:15.727599Z"
    }
   },
   "outputs": [],
   "source": [
    "df_all.fillna(-2,inplace=True)"
   ]
  },
  {
   "cell_type": "code",
   "execution_count": 61,
   "metadata": {
    "ExecuteTime": {
     "end_time": "2019-05-22T10:06:04.754987Z",
     "start_time": "2019-05-22T10:06:04.291167Z"
    }
   },
   "outputs": [],
   "source": [
    "df_all.drop('id',axis=1,inplace=True)"
   ]
  },
  {
   "cell_type": "code",
   "execution_count": 64,
   "metadata": {
    "ExecuteTime": {
     "end_time": "2019-05-22T10:29:05.269041Z",
     "start_time": "2019-05-22T10:29:04.366714Z"
    }
   },
   "outputs": [
    {
     "data": {
      "text/plain": [
       "array([[ 2.009e+03,  3.000e+00,  1.900e+01, ..., -2.000e+00, -2.000e+00,\n",
       "        -2.000e+00],\n",
       "       [ 2.009e+03,  5.000e+00,  2.300e+01, ..., -2.000e+00, -2.000e+00,\n",
       "        -2.000e+00],\n",
       "       [ 2.009e+03,  6.000e+00,  9.000e+00, ..., -2.000e+00, -2.000e+00,\n",
       "        -2.000e+00],\n",
       "       ...,\n",
       "       [ 2.014e+03,  9.000e+00,  3.000e+01, ..., -2.000e+00, -2.000e+00,\n",
       "        -2.000e+00],\n",
       "       [ 2.014e+03,  9.000e+00,  3.000e+01, ..., -2.000e+00, -2.000e+00,\n",
       "        -2.000e+00],\n",
       "       [ 2.014e+03,  9.000e+00,  3.000e+01, ..., -2.000e+00, -2.000e+00,\n",
       "        -2.000e+00]])"
      ]
     },
     "execution_count": 64,
     "metadata": {},
     "output_type": "execute_result"
    }
   ],
   "source": [
    "df_all.values"
   ]
  },
  {
   "cell_type": "markdown",
   "metadata": {},
   "source": [
    "#### split train and test datasets"
   ]
  },
  {
   "cell_type": "code",
   "execution_count": 66,
   "metadata": {
    "ExecuteTime": {
     "end_time": "2019-05-22T10:41:14.860302Z",
     "start_time": "2019-05-22T10:38:25.087815Z"
    }
   },
   "outputs": [],
   "source": [
    "Xtrain=df_all.iloc[:train_row,:]\n",
    "Xtest=df_all.iloc[train_row:,:]\n",
    "\n",
    "le=LabelEncoder()\n",
    "le.fit(labels)\n",
    "ytrain=le.transform(labels)\n",
    "\n",
    "Xtrain.to_csv('Airbnb_xtrain.csv')\n",
    "Xtest.to_csv('Airbnb_xtest.csv')"
   ]
  },
  {
   "cell_type": "code",
   "execution_count": 68,
   "metadata": {
    "ExecuteTime": {
     "end_time": "2019-05-22T10:45:23.575506Z",
     "start_time": "2019-05-22T10:45:23.132637Z"
    }
   },
   "outputs": [],
   "source": [
    "labels.tofile('Airbnb_ytrain.csv',sep='\\n',format='%s')"
   ]
  },
  {
   "cell_type": "code",
   "execution_count": 69,
   "metadata": {
    "ExecuteTime": {
     "end_time": "2019-05-22T10:52:01.502930Z",
     "start_time": "2019-05-22T10:52:01.492924Z"
    }
   },
   "outputs": [
    {
     "data": {
      "text/plain": [
       "array([ 7,  7, 10, ...,  7,  7,  7])"
      ]
     },
     "execution_count": 69,
     "metadata": {},
     "output_type": "execute_result"
    }
   ],
   "source": [
    "ytrain"
   ]
  },
  {
   "cell_type": "markdown",
   "metadata": {},
   "source": [
    "## Modeling"
   ]
  },
  {
   "cell_type": "code",
   "execution_count": 9,
   "metadata": {
    "ExecuteTime": {
     "end_time": "2019-05-27T17:50:02.602616Z",
     "start_time": "2019-05-27T17:50:01.701022Z"
    }
   },
   "outputs": [],
   "source": [
    "import numpy as np\n",
    "import pandas as pd\n",
    "import matplotlib.pyplot as plt\n",
    "%matplotlib inline\n",
    "import seaborn as sns\n",
    "import pickle\n",
    "import datetime\n",
    "import sklearn as sk\n",
    "from sklearn.preprocessing import StandardScaler\n",
    "from sklearn.preprocessing import LabelBinarizer"
   ]
  },
  {
   "cell_type": "code",
   "execution_count": 10,
   "metadata": {
    "ExecuteTime": {
     "end_time": "2019-05-27T17:51:00.549408Z",
     "start_time": "2019-05-27T17:50:07.774130Z"
    }
   },
   "outputs": [],
   "source": [
    "xtrain=pd.read_csv('Airbnb_xtrain.csv',index_col=False)\n",
    "xtest=pd.read_csv('Airbnb_xtest.csv',index_col=False)\n",
    "## index_col=False可以保证读取数据时不会使用第一列做index，因为默认读取时会使用第一列做index"
   ]
  },
  {
   "cell_type": "code",
   "execution_count": 11,
   "metadata": {
    "ExecuteTime": {
     "end_time": "2019-05-27T17:51:06.223580Z",
     "start_time": "2019-05-27T17:51:04.087626Z"
    }
   },
   "outputs": [],
   "source": [
    "ytrain=pd.read_csv('Airbnb_ytrain.csv',header=None)\n",
    "##header=None可以保证读取数据时不会使用第一行的数据做column，因为默认读取时会使用第一行做column"
   ]
  },
  {
   "cell_type": "code",
   "execution_count": 12,
   "metadata": {
    "ExecuteTime": {
     "end_time": "2019-05-27T17:51:09.271323Z",
     "start_time": "2019-05-27T17:51:06.831059Z"
    }
   },
   "outputs": [
    {
     "data": {
      "text/html": [
       "<div>\n",
       "<style scoped>\n",
       "    .dataframe tbody tr th:only-of-type {\n",
       "        vertical-align: middle;\n",
       "    }\n",
       "\n",
       "    .dataframe tbody tr th {\n",
       "        vertical-align: top;\n",
       "    }\n",
       "\n",
       "    .dataframe thead th {\n",
       "        text-align: right;\n",
       "    }\n",
       "</style>\n",
       "<table border=\"1\" class=\"dataframe\">\n",
       "  <thead>\n",
       "    <tr style=\"text-align: right;\">\n",
       "      <th></th>\n",
       "      <th>Unnamed: 0</th>\n",
       "      <th>tfa_year</th>\n",
       "      <th>tfa_month</th>\n",
       "      <th>tfa_day</th>\n",
       "      <th>tfa_wd_1</th>\n",
       "      <th>tfa_wd_2</th>\n",
       "      <th>tfa_wd_3</th>\n",
       "      <th>tfa_wd_4</th>\n",
       "      <th>tfa_wd_5</th>\n",
       "      <th>tfa_wd_6</th>\n",
       "      <th>...</th>\n",
       "      <th>c_282</th>\n",
       "      <th>c_283</th>\n",
       "      <th>c_284</th>\n",
       "      <th>c_285</th>\n",
       "      <th>c_286</th>\n",
       "      <th>c_287</th>\n",
       "      <th>c_288</th>\n",
       "      <th>c_289</th>\n",
       "      <th>c_290</th>\n",
       "      <th>c_291</th>\n",
       "    </tr>\n",
       "  </thead>\n",
       "  <tbody>\n",
       "    <tr>\n",
       "      <th>0</th>\n",
       "      <td>0</td>\n",
       "      <td>2009</td>\n",
       "      <td>3</td>\n",
       "      <td>19</td>\n",
       "      <td>0</td>\n",
       "      <td>0</td>\n",
       "      <td>0</td>\n",
       "      <td>1</td>\n",
       "      <td>0</td>\n",
       "      <td>0</td>\n",
       "      <td>...</td>\n",
       "      <td>-2.0</td>\n",
       "      <td>-2.0</td>\n",
       "      <td>-2.0</td>\n",
       "      <td>-2.0</td>\n",
       "      <td>-2.0</td>\n",
       "      <td>-2.0</td>\n",
       "      <td>-2.0</td>\n",
       "      <td>-2.0</td>\n",
       "      <td>-2.0</td>\n",
       "      <td>-2.0</td>\n",
       "    </tr>\n",
       "    <tr>\n",
       "      <th>1</th>\n",
       "      <td>1</td>\n",
       "      <td>2009</td>\n",
       "      <td>5</td>\n",
       "      <td>23</td>\n",
       "      <td>0</td>\n",
       "      <td>0</td>\n",
       "      <td>0</td>\n",
       "      <td>0</td>\n",
       "      <td>0</td>\n",
       "      <td>1</td>\n",
       "      <td>...</td>\n",
       "      <td>-2.0</td>\n",
       "      <td>-2.0</td>\n",
       "      <td>-2.0</td>\n",
       "      <td>-2.0</td>\n",
       "      <td>-2.0</td>\n",
       "      <td>-2.0</td>\n",
       "      <td>-2.0</td>\n",
       "      <td>-2.0</td>\n",
       "      <td>-2.0</td>\n",
       "      <td>-2.0</td>\n",
       "    </tr>\n",
       "    <tr>\n",
       "      <th>2</th>\n",
       "      <td>2</td>\n",
       "      <td>2009</td>\n",
       "      <td>6</td>\n",
       "      <td>9</td>\n",
       "      <td>0</td>\n",
       "      <td>1</td>\n",
       "      <td>0</td>\n",
       "      <td>0</td>\n",
       "      <td>0</td>\n",
       "      <td>0</td>\n",
       "      <td>...</td>\n",
       "      <td>-2.0</td>\n",
       "      <td>-2.0</td>\n",
       "      <td>-2.0</td>\n",
       "      <td>-2.0</td>\n",
       "      <td>-2.0</td>\n",
       "      <td>-2.0</td>\n",
       "      <td>-2.0</td>\n",
       "      <td>-2.0</td>\n",
       "      <td>-2.0</td>\n",
       "      <td>-2.0</td>\n",
       "    </tr>\n",
       "    <tr>\n",
       "      <th>3</th>\n",
       "      <td>3</td>\n",
       "      <td>2009</td>\n",
       "      <td>10</td>\n",
       "      <td>31</td>\n",
       "      <td>0</td>\n",
       "      <td>0</td>\n",
       "      <td>0</td>\n",
       "      <td>0</td>\n",
       "      <td>0</td>\n",
       "      <td>1</td>\n",
       "      <td>...</td>\n",
       "      <td>-2.0</td>\n",
       "      <td>-2.0</td>\n",
       "      <td>-2.0</td>\n",
       "      <td>-2.0</td>\n",
       "      <td>-2.0</td>\n",
       "      <td>-2.0</td>\n",
       "      <td>-2.0</td>\n",
       "      <td>-2.0</td>\n",
       "      <td>-2.0</td>\n",
       "      <td>-2.0</td>\n",
       "    </tr>\n",
       "    <tr>\n",
       "      <th>4</th>\n",
       "      <td>4</td>\n",
       "      <td>2009</td>\n",
       "      <td>12</td>\n",
       "      <td>8</td>\n",
       "      <td>0</td>\n",
       "      <td>1</td>\n",
       "      <td>0</td>\n",
       "      <td>0</td>\n",
       "      <td>0</td>\n",
       "      <td>0</td>\n",
       "      <td>...</td>\n",
       "      <td>-2.0</td>\n",
       "      <td>-2.0</td>\n",
       "      <td>-2.0</td>\n",
       "      <td>-2.0</td>\n",
       "      <td>-2.0</td>\n",
       "      <td>-2.0</td>\n",
       "      <td>-2.0</td>\n",
       "      <td>-2.0</td>\n",
       "      <td>-2.0</td>\n",
       "      <td>-2.0</td>\n",
       "    </tr>\n",
       "  </tbody>\n",
       "</table>\n",
       "<p>5 rows × 493 columns</p>\n",
       "</div>"
      ],
      "text/plain": [
       "   Unnamed: 0  tfa_year  tfa_month  tfa_day  tfa_wd_1  tfa_wd_2  tfa_wd_3  \\\n",
       "0           0      2009          3       19         0         0         0   \n",
       "1           1      2009          5       23         0         0         0   \n",
       "2           2      2009          6        9         0         1         0   \n",
       "3           3      2009         10       31         0         0         0   \n",
       "4           4      2009         12        8         0         1         0   \n",
       "\n",
       "   tfa_wd_4  tfa_wd_5  tfa_wd_6  ...    c_282  c_283  c_284  c_285  c_286  \\\n",
       "0         1         0         0  ...     -2.0   -2.0   -2.0   -2.0   -2.0   \n",
       "1         0         0         1  ...     -2.0   -2.0   -2.0   -2.0   -2.0   \n",
       "2         0         0         0  ...     -2.0   -2.0   -2.0   -2.0   -2.0   \n",
       "3         0         0         1  ...     -2.0   -2.0   -2.0   -2.0   -2.0   \n",
       "4         0         0         0  ...     -2.0   -2.0   -2.0   -2.0   -2.0   \n",
       "\n",
       "   c_287  c_288  c_289  c_290  c_291  \n",
       "0   -2.0   -2.0   -2.0   -2.0   -2.0  \n",
       "1   -2.0   -2.0   -2.0   -2.0   -2.0  \n",
       "2   -2.0   -2.0   -2.0   -2.0   -2.0  \n",
       "3   -2.0   -2.0   -2.0   -2.0   -2.0  \n",
       "4   -2.0   -2.0   -2.0   -2.0   -2.0  \n",
       "\n",
       "[5 rows x 493 columns]"
      ]
     },
     "execution_count": 12,
     "metadata": {},
     "output_type": "execute_result"
    }
   ],
   "source": [
    "xtrain.head()"
   ]
  },
  {
   "cell_type": "code",
   "execution_count": 13,
   "metadata": {
    "ExecuteTime": {
     "end_time": "2019-05-27T17:51:09.625563Z",
     "start_time": "2019-05-27T17:51:09.591536Z"
    }
   },
   "outputs": [
    {
     "data": {
      "text/html": [
       "<div>\n",
       "<style scoped>\n",
       "    .dataframe tbody tr th:only-of-type {\n",
       "        vertical-align: middle;\n",
       "    }\n",
       "\n",
       "    .dataframe tbody tr th {\n",
       "        vertical-align: top;\n",
       "    }\n",
       "\n",
       "    .dataframe thead th {\n",
       "        text-align: right;\n",
       "    }\n",
       "</style>\n",
       "<table border=\"1\" class=\"dataframe\">\n",
       "  <thead>\n",
       "    <tr style=\"text-align: right;\">\n",
       "      <th></th>\n",
       "      <th>Unnamed: 0</th>\n",
       "      <th>tfa_year</th>\n",
       "      <th>tfa_month</th>\n",
       "      <th>tfa_day</th>\n",
       "      <th>tfa_wd_1</th>\n",
       "      <th>tfa_wd_2</th>\n",
       "      <th>tfa_wd_3</th>\n",
       "      <th>tfa_wd_4</th>\n",
       "      <th>tfa_wd_5</th>\n",
       "      <th>tfa_wd_6</th>\n",
       "      <th>...</th>\n",
       "      <th>c_282</th>\n",
       "      <th>c_283</th>\n",
       "      <th>c_284</th>\n",
       "      <th>c_285</th>\n",
       "      <th>c_286</th>\n",
       "      <th>c_287</th>\n",
       "      <th>c_288</th>\n",
       "      <th>c_289</th>\n",
       "      <th>c_290</th>\n",
       "      <th>c_291</th>\n",
       "    </tr>\n",
       "  </thead>\n",
       "  <tbody>\n",
       "    <tr>\n",
       "      <th>0</th>\n",
       "      <td>213451</td>\n",
       "      <td>2014</td>\n",
       "      <td>7</td>\n",
       "      <td>1</td>\n",
       "      <td>0</td>\n",
       "      <td>1</td>\n",
       "      <td>0</td>\n",
       "      <td>0</td>\n",
       "      <td>0</td>\n",
       "      <td>0</td>\n",
       "      <td>...</td>\n",
       "      <td>-2.0</td>\n",
       "      <td>-2.0</td>\n",
       "      <td>-2.0</td>\n",
       "      <td>-2.0</td>\n",
       "      <td>-2.0</td>\n",
       "      <td>-2.0</td>\n",
       "      <td>-2.0</td>\n",
       "      <td>-2.0</td>\n",
       "      <td>-2.0</td>\n",
       "      <td>-2.0</td>\n",
       "    </tr>\n",
       "    <tr>\n",
       "      <th>1</th>\n",
       "      <td>213452</td>\n",
       "      <td>2014</td>\n",
       "      <td>7</td>\n",
       "      <td>1</td>\n",
       "      <td>0</td>\n",
       "      <td>1</td>\n",
       "      <td>0</td>\n",
       "      <td>0</td>\n",
       "      <td>0</td>\n",
       "      <td>0</td>\n",
       "      <td>...</td>\n",
       "      <td>-2.0</td>\n",
       "      <td>-2.0</td>\n",
       "      <td>-2.0</td>\n",
       "      <td>-2.0</td>\n",
       "      <td>-2.0</td>\n",
       "      <td>-2.0</td>\n",
       "      <td>-2.0</td>\n",
       "      <td>-2.0</td>\n",
       "      <td>-2.0</td>\n",
       "      <td>-2.0</td>\n",
       "    </tr>\n",
       "    <tr>\n",
       "      <th>2</th>\n",
       "      <td>213453</td>\n",
       "      <td>2014</td>\n",
       "      <td>7</td>\n",
       "      <td>1</td>\n",
       "      <td>0</td>\n",
       "      <td>1</td>\n",
       "      <td>0</td>\n",
       "      <td>0</td>\n",
       "      <td>0</td>\n",
       "      <td>0</td>\n",
       "      <td>...</td>\n",
       "      <td>-2.0</td>\n",
       "      <td>-2.0</td>\n",
       "      <td>-2.0</td>\n",
       "      <td>-2.0</td>\n",
       "      <td>-2.0</td>\n",
       "      <td>-2.0</td>\n",
       "      <td>-2.0</td>\n",
       "      <td>-2.0</td>\n",
       "      <td>-2.0</td>\n",
       "      <td>-2.0</td>\n",
       "    </tr>\n",
       "    <tr>\n",
       "      <th>3</th>\n",
       "      <td>213454</td>\n",
       "      <td>2014</td>\n",
       "      <td>7</td>\n",
       "      <td>1</td>\n",
       "      <td>0</td>\n",
       "      <td>1</td>\n",
       "      <td>0</td>\n",
       "      <td>0</td>\n",
       "      <td>0</td>\n",
       "      <td>0</td>\n",
       "      <td>...</td>\n",
       "      <td>-2.0</td>\n",
       "      <td>-2.0</td>\n",
       "      <td>-2.0</td>\n",
       "      <td>-2.0</td>\n",
       "      <td>-2.0</td>\n",
       "      <td>-2.0</td>\n",
       "      <td>-2.0</td>\n",
       "      <td>-2.0</td>\n",
       "      <td>-2.0</td>\n",
       "      <td>-2.0</td>\n",
       "    </tr>\n",
       "    <tr>\n",
       "      <th>4</th>\n",
       "      <td>213455</td>\n",
       "      <td>2014</td>\n",
       "      <td>7</td>\n",
       "      <td>1</td>\n",
       "      <td>0</td>\n",
       "      <td>1</td>\n",
       "      <td>0</td>\n",
       "      <td>0</td>\n",
       "      <td>0</td>\n",
       "      <td>0</td>\n",
       "      <td>...</td>\n",
       "      <td>-2.0</td>\n",
       "      <td>-2.0</td>\n",
       "      <td>-2.0</td>\n",
       "      <td>-2.0</td>\n",
       "      <td>-2.0</td>\n",
       "      <td>-2.0</td>\n",
       "      <td>-2.0</td>\n",
       "      <td>-2.0</td>\n",
       "      <td>-2.0</td>\n",
       "      <td>-2.0</td>\n",
       "    </tr>\n",
       "  </tbody>\n",
       "</table>\n",
       "<p>5 rows × 493 columns</p>\n",
       "</div>"
      ],
      "text/plain": [
       "   Unnamed: 0  tfa_year  tfa_month  tfa_day  tfa_wd_1  tfa_wd_2  tfa_wd_3  \\\n",
       "0      213451      2014          7        1         0         1         0   \n",
       "1      213452      2014          7        1         0         1         0   \n",
       "2      213453      2014          7        1         0         1         0   \n",
       "3      213454      2014          7        1         0         1         0   \n",
       "4      213455      2014          7        1         0         1         0   \n",
       "\n",
       "   tfa_wd_4  tfa_wd_5  tfa_wd_6  ...    c_282  c_283  c_284  c_285  c_286  \\\n",
       "0         0         0         0  ...     -2.0   -2.0   -2.0   -2.0   -2.0   \n",
       "1         0         0         0  ...     -2.0   -2.0   -2.0   -2.0   -2.0   \n",
       "2         0         0         0  ...     -2.0   -2.0   -2.0   -2.0   -2.0   \n",
       "3         0         0         0  ...     -2.0   -2.0   -2.0   -2.0   -2.0   \n",
       "4         0         0         0  ...     -2.0   -2.0   -2.0   -2.0   -2.0   \n",
       "\n",
       "   c_287  c_288  c_289  c_290  c_291  \n",
       "0   -2.0   -2.0   -2.0   -2.0   -2.0  \n",
       "1   -2.0   -2.0   -2.0   -2.0   -2.0  \n",
       "2   -2.0   -2.0   -2.0   -2.0   -2.0  \n",
       "3   -2.0   -2.0   -2.0   -2.0   -2.0  \n",
       "4   -2.0   -2.0   -2.0   -2.0   -2.0  \n",
       "\n",
       "[5 rows x 493 columns]"
      ]
     },
     "execution_count": 13,
     "metadata": {},
     "output_type": "execute_result"
    }
   ],
   "source": [
    "xtest.head()"
   ]
  },
  {
   "cell_type": "code",
   "execution_count": 14,
   "metadata": {
    "ExecuteTime": {
     "end_time": "2019-05-27T17:51:10.672545Z",
     "start_time": "2019-05-27T17:51:09.921755Z"
    }
   },
   "outputs": [
    {
     "data": {
      "text/html": [
       "<div>\n",
       "<style scoped>\n",
       "    .dataframe tbody tr th:only-of-type {\n",
       "        vertical-align: middle;\n",
       "    }\n",
       "\n",
       "    .dataframe tbody tr th {\n",
       "        vertical-align: top;\n",
       "    }\n",
       "\n",
       "    .dataframe thead th {\n",
       "        text-align: right;\n",
       "    }\n",
       "</style>\n",
       "<table border=\"1\" class=\"dataframe\">\n",
       "  <thead>\n",
       "    <tr style=\"text-align: right;\">\n",
       "      <th></th>\n",
       "      <th>0</th>\n",
       "    </tr>\n",
       "  </thead>\n",
       "  <tbody>\n",
       "    <tr>\n",
       "      <th>0</th>\n",
       "      <td>NDF</td>\n",
       "    </tr>\n",
       "    <tr>\n",
       "      <th>1</th>\n",
       "      <td>NDF</td>\n",
       "    </tr>\n",
       "    <tr>\n",
       "      <th>2</th>\n",
       "      <td>US</td>\n",
       "    </tr>\n",
       "    <tr>\n",
       "      <th>3</th>\n",
       "      <td>other</td>\n",
       "    </tr>\n",
       "    <tr>\n",
       "      <th>4</th>\n",
       "      <td>US</td>\n",
       "    </tr>\n",
       "  </tbody>\n",
       "</table>\n",
       "</div>"
      ],
      "text/plain": [
       "       0\n",
       "0    NDF\n",
       "1    NDF\n",
       "2     US\n",
       "3  other\n",
       "4     US"
      ]
     },
     "execution_count": 14,
     "metadata": {},
     "output_type": "execute_result"
    }
   ],
   "source": [
    "ytrain.head()"
   ]
  },
  {
   "cell_type": "code",
   "execution_count": 15,
   "metadata": {
    "ExecuteTime": {
     "end_time": "2019-05-27T17:51:11.463210Z",
     "start_time": "2019-05-27T17:51:11.147898Z"
    }
   },
   "outputs": [
    {
     "data": {
      "text/plain": [
       "array([['NDF'],\n",
       "       ['NDF'],\n",
       "       ['US'],\n",
       "       ...,\n",
       "       ['NDF'],\n",
       "       ['NDF'],\n",
       "       ['NDF']], dtype=object)"
      ]
     },
     "execution_count": 15,
     "metadata": {},
     "output_type": "execute_result"
    }
   ],
   "source": [
    "ytrain.values"
   ]
  },
  {
   "cell_type": "code",
   "execution_count": 16,
   "metadata": {
    "ExecuteTime": {
     "end_time": "2019-05-27T17:51:12.835235Z",
     "start_time": "2019-05-27T17:51:11.760412Z"
    }
   },
   "outputs": [
    {
     "data": {
      "text/plain": [
       "array(['AU', 'CA', 'DE', 'ES', 'FR', 'GB', 'IT', 'NDF', 'NL', 'PT', 'US',\n",
       "       'other'], dtype=object)"
      ]
     },
     "execution_count": 16,
     "metadata": {},
     "output_type": "execute_result"
    }
   ],
   "source": [
    "np.unique(ytrain.values)"
   ]
  },
  {
   "cell_type": "code",
   "execution_count": 17,
   "metadata": {
    "ExecuteTime": {
     "end_time": "2019-05-27T17:51:14.434697Z",
     "start_time": "2019-05-27T17:51:13.174462Z"
    }
   },
   "outputs": [],
   "source": [
    "from sklearn.preprocessing import LabelEncoder\n",
    "le=LabelEncoder()\n",
    "le.fit(ytrain.values.ravel())\n",
    "ytrain_le=le.transform(ytrain.values.ravel())\n",
    "##在对一列数据做LabelEncoder时，会导致出现warning，使用ravel（）可以规范使用！！！"
   ]
  },
  {
   "cell_type": "code",
   "execution_count": 18,
   "metadata": {
    "ExecuteTime": {
     "end_time": "2019-05-27T17:51:15.275313Z",
     "start_time": "2019-05-27T17:51:14.720884Z"
    }
   },
   "outputs": [
    {
     "data": {
      "text/plain": [
       "(213451,)"
      ]
     },
     "execution_count": 18,
     "metadata": {},
     "output_type": "execute_result"
    }
   ],
   "source": [
    "ytrain_le.shape"
   ]
  },
  {
   "cell_type": "code",
   "execution_count": 19,
   "metadata": {
    "ExecuteTime": {
     "end_time": "2019-05-27T17:51:17.121876Z",
     "start_time": "2019-05-27T17:51:15.576513Z"
    }
   },
   "outputs": [
    {
     "name": "stdout",
     "output_type": "stream",
     "text": [
      "2134\n",
      "(2134, 493)\n",
      "(2134,)\n"
     ]
    }
   ],
   "source": [
    "n=int(xtrain.shape[0]*0.01)\n",
    "print(n)\n",
    "xtrain_new=xtrain.iloc[:n,:]\n",
    "ytrain_le_new=ytrain_le[:n]\n",
    "## ndarry没有iloc函数\n",
    "print(xtrain_new.shape)\n",
    "print(ytrain_le_new.shape)"
   ]
  },
  {
   "cell_type": "code",
   "execution_count": 20,
   "metadata": {
    "ExecuteTime": {
     "end_time": "2019-05-27T17:51:17.688251Z",
     "start_time": "2019-05-27T17:51:17.541155Z"
    }
   },
   "outputs": [
    {
     "data": {
      "text/html": [
       "<div>\n",
       "<style scoped>\n",
       "    .dataframe tbody tr th:only-of-type {\n",
       "        vertical-align: middle;\n",
       "    }\n",
       "\n",
       "    .dataframe tbody tr th {\n",
       "        vertical-align: top;\n",
       "    }\n",
       "\n",
       "    .dataframe thead th {\n",
       "        text-align: right;\n",
       "    }\n",
       "</style>\n",
       "<table border=\"1\" class=\"dataframe\">\n",
       "  <thead>\n",
       "    <tr style=\"text-align: right;\">\n",
       "      <th></th>\n",
       "      <th>Unnamed: 0</th>\n",
       "      <th>tfa_year</th>\n",
       "      <th>tfa_month</th>\n",
       "      <th>tfa_day</th>\n",
       "      <th>tfa_wd_1</th>\n",
       "      <th>tfa_wd_2</th>\n",
       "      <th>tfa_wd_3</th>\n",
       "      <th>tfa_wd_4</th>\n",
       "      <th>tfa_wd_5</th>\n",
       "      <th>tfa_wd_6</th>\n",
       "      <th>...</th>\n",
       "      <th>c_282</th>\n",
       "      <th>c_283</th>\n",
       "      <th>c_284</th>\n",
       "      <th>c_285</th>\n",
       "      <th>c_286</th>\n",
       "      <th>c_287</th>\n",
       "      <th>c_288</th>\n",
       "      <th>c_289</th>\n",
       "      <th>c_290</th>\n",
       "      <th>c_291</th>\n",
       "    </tr>\n",
       "  </thead>\n",
       "  <tbody>\n",
       "    <tr>\n",
       "      <th>0</th>\n",
       "      <td>0</td>\n",
       "      <td>2009</td>\n",
       "      <td>3</td>\n",
       "      <td>19</td>\n",
       "      <td>0</td>\n",
       "      <td>0</td>\n",
       "      <td>0</td>\n",
       "      <td>1</td>\n",
       "      <td>0</td>\n",
       "      <td>0</td>\n",
       "      <td>...</td>\n",
       "      <td>-2.0</td>\n",
       "      <td>-2.0</td>\n",
       "      <td>-2.0</td>\n",
       "      <td>-2.0</td>\n",
       "      <td>-2.0</td>\n",
       "      <td>-2.0</td>\n",
       "      <td>-2.0</td>\n",
       "      <td>-2.0</td>\n",
       "      <td>-2.0</td>\n",
       "      <td>-2.0</td>\n",
       "    </tr>\n",
       "    <tr>\n",
       "      <th>1</th>\n",
       "      <td>1</td>\n",
       "      <td>2009</td>\n",
       "      <td>5</td>\n",
       "      <td>23</td>\n",
       "      <td>0</td>\n",
       "      <td>0</td>\n",
       "      <td>0</td>\n",
       "      <td>0</td>\n",
       "      <td>0</td>\n",
       "      <td>1</td>\n",
       "      <td>...</td>\n",
       "      <td>-2.0</td>\n",
       "      <td>-2.0</td>\n",
       "      <td>-2.0</td>\n",
       "      <td>-2.0</td>\n",
       "      <td>-2.0</td>\n",
       "      <td>-2.0</td>\n",
       "      <td>-2.0</td>\n",
       "      <td>-2.0</td>\n",
       "      <td>-2.0</td>\n",
       "      <td>-2.0</td>\n",
       "    </tr>\n",
       "    <tr>\n",
       "      <th>2</th>\n",
       "      <td>2</td>\n",
       "      <td>2009</td>\n",
       "      <td>6</td>\n",
       "      <td>9</td>\n",
       "      <td>0</td>\n",
       "      <td>1</td>\n",
       "      <td>0</td>\n",
       "      <td>0</td>\n",
       "      <td>0</td>\n",
       "      <td>0</td>\n",
       "      <td>...</td>\n",
       "      <td>-2.0</td>\n",
       "      <td>-2.0</td>\n",
       "      <td>-2.0</td>\n",
       "      <td>-2.0</td>\n",
       "      <td>-2.0</td>\n",
       "      <td>-2.0</td>\n",
       "      <td>-2.0</td>\n",
       "      <td>-2.0</td>\n",
       "      <td>-2.0</td>\n",
       "      <td>-2.0</td>\n",
       "    </tr>\n",
       "    <tr>\n",
       "      <th>3</th>\n",
       "      <td>3</td>\n",
       "      <td>2009</td>\n",
       "      <td>10</td>\n",
       "      <td>31</td>\n",
       "      <td>0</td>\n",
       "      <td>0</td>\n",
       "      <td>0</td>\n",
       "      <td>0</td>\n",
       "      <td>0</td>\n",
       "      <td>1</td>\n",
       "      <td>...</td>\n",
       "      <td>-2.0</td>\n",
       "      <td>-2.0</td>\n",
       "      <td>-2.0</td>\n",
       "      <td>-2.0</td>\n",
       "      <td>-2.0</td>\n",
       "      <td>-2.0</td>\n",
       "      <td>-2.0</td>\n",
       "      <td>-2.0</td>\n",
       "      <td>-2.0</td>\n",
       "      <td>-2.0</td>\n",
       "    </tr>\n",
       "    <tr>\n",
       "      <th>4</th>\n",
       "      <td>4</td>\n",
       "      <td>2009</td>\n",
       "      <td>12</td>\n",
       "      <td>8</td>\n",
       "      <td>0</td>\n",
       "      <td>1</td>\n",
       "      <td>0</td>\n",
       "      <td>0</td>\n",
       "      <td>0</td>\n",
       "      <td>0</td>\n",
       "      <td>...</td>\n",
       "      <td>-2.0</td>\n",
       "      <td>-2.0</td>\n",
       "      <td>-2.0</td>\n",
       "      <td>-2.0</td>\n",
       "      <td>-2.0</td>\n",
       "      <td>-2.0</td>\n",
       "      <td>-2.0</td>\n",
       "      <td>-2.0</td>\n",
       "      <td>-2.0</td>\n",
       "      <td>-2.0</td>\n",
       "    </tr>\n",
       "  </tbody>\n",
       "</table>\n",
       "<p>5 rows × 493 columns</p>\n",
       "</div>"
      ],
      "text/plain": [
       "   Unnamed: 0  tfa_year  tfa_month  tfa_day  tfa_wd_1  tfa_wd_2  tfa_wd_3  \\\n",
       "0           0      2009          3       19         0         0         0   \n",
       "1           1      2009          5       23         0         0         0   \n",
       "2           2      2009          6        9         0         1         0   \n",
       "3           3      2009         10       31         0         0         0   \n",
       "4           4      2009         12        8         0         1         0   \n",
       "\n",
       "   tfa_wd_4  tfa_wd_5  tfa_wd_6  ...    c_282  c_283  c_284  c_285  c_286  \\\n",
       "0         1         0         0  ...     -2.0   -2.0   -2.0   -2.0   -2.0   \n",
       "1         0         0         1  ...     -2.0   -2.0   -2.0   -2.0   -2.0   \n",
       "2         0         0         0  ...     -2.0   -2.0   -2.0   -2.0   -2.0   \n",
       "3         0         0         1  ...     -2.0   -2.0   -2.0   -2.0   -2.0   \n",
       "4         0         0         0  ...     -2.0   -2.0   -2.0   -2.0   -2.0   \n",
       "\n",
       "   c_287  c_288  c_289  c_290  c_291  \n",
       "0   -2.0   -2.0   -2.0   -2.0   -2.0  \n",
       "1   -2.0   -2.0   -2.0   -2.0   -2.0  \n",
       "2   -2.0   -2.0   -2.0   -2.0   -2.0  \n",
       "3   -2.0   -2.0   -2.0   -2.0   -2.0  \n",
       "4   -2.0   -2.0   -2.0   -2.0   -2.0  \n",
       "\n",
       "[5 rows x 493 columns]"
      ]
     },
     "execution_count": 20,
     "metadata": {},
     "output_type": "execute_result"
    }
   ],
   "source": [
    "xtrain_new.head()"
   ]
  },
  {
   "cell_type": "code",
   "execution_count": 21,
   "metadata": {
    "ExecuteTime": {
     "end_time": "2019-05-27T17:51:19.766570Z",
     "start_time": "2019-05-27T17:51:18.076509Z"
    }
   },
   "outputs": [],
   "source": [
    "X_Scaler=StandardScaler()\n",
    "xtrain_new_stdsca=X_Scaler.fit_transform(xtrain_new.astype('float64'))\n",
    "##若不使用astype('float64'),会产生warning，因为传入的是int类型数据"
   ]
  },
  {
   "cell_type": "markdown",
   "metadata": {},
   "source": [
    "### Airbnb Evaluation: NDCG"
   ]
  },
  {
   "cell_type": "code",
   "execution_count": 8,
   "metadata": {
    "ExecuteTime": {
     "end_time": "2019-05-27T17:49:49.574077Z",
     "start_time": "2019-05-27T17:49:49.501029Z"
    }
   },
   "outputs": [],
   "source": [
    "from sklearn.metrics import make_scorer\n",
    "from sklearn.preprocessing import LabelBinarizer\n",
    "\n",
    "def dcg_score(y_true,y_score,k=5):\n",
    "    '''\n",
    "    y_true: array,shape= [n_samples]\n",
    "        true relevance labels\n",
    "    y_score: array,shape= [n_samples]\n",
    "        predicted scores\n",
    "    k: int\n",
    "    '''\n",
    "    order=np.argsort(y_score)[::-1]\n",
    "    y_true=np.take(y_true,order[:k])\n",
    "    \n",
    "    gain=2**y_true - 1\n",
    "    discounts=np.log2(np.arange(len(y_true))+2)\n",
    "    return np.sum(gain/discounts)\n",
    "\n",
    "def ndcg(ground_truth,predictions,k=5):\n",
    "    lb=LabelBinarizer()\n",
    "    lb.fit(range(len(predictions)+1))\n",
    "    T=lb.transform(ground_truth)\n",
    "    \n",
    "    scores=[]\n",
    "    \n",
    "    for y_true,y_score in zip(T,predictions):\n",
    "        actual=dcg_score(y_true,y_score,k)\n",
    "        best=dcg_score(y_true,y_true,k)\n",
    "        score=float(actual)/float(best)\n",
    "        scores.append(score)\n",
    "        \n",
    "        return np.mean(scores)"
   ]
  },
  {
   "cell_type": "markdown",
   "metadata": {},
   "source": [
    "### logistic regression"
   ]
  },
  {
   "cell_type": "markdown",
   "metadata": {},
   "source": [
    "#### 模型拟合"
   ]
  },
  {
   "cell_type": "code",
   "execution_count": 34,
   "metadata": {
    "ExecuteTime": {
     "end_time": "2019-05-25T03:32:55.856161Z",
     "start_time": "2019-05-25T03:32:53.774120Z"
    }
   },
   "outputs": [
    {
     "data": {
      "text/plain": [
       "LogisticRegression(C=1.0, class_weight=None, dual=False, fit_intercept=True,\n",
       "          intercept_scaling=1, max_iter=100, multi_class='multinomial',\n",
       "          n_jobs=None, penalty='l2', random_state=None, solver='newton-cg',\n",
       "          tol=0.0001, verbose=0, warm_start=False)"
      ]
     },
     "execution_count": 34,
     "metadata": {},
     "output_type": "execute_result"
    }
   ],
   "source": [
    "from sklearn.linear_model import LogisticRegression as lg\n",
    "\n",
    "lr=lg(C=1.0,penalty='l2',solver='newton-cg',multi_class='multinomial')\n",
    "## 1、solver=‘newton_cg’可以指定优化方法（例子中指定为牛顿法），不指定时会有warning出现\n",
    "## 2、multi_class='multinomial'可以指定分类方法（例子中指定为多分类），不指定时会有warning出现\n",
    "\n",
    "lr"
   ]
  },
  {
   "cell_type": "code",
   "execution_count": 35,
   "metadata": {
    "ExecuteTime": {
     "end_time": "2019-05-25T03:33:26.219394Z",
     "start_time": "2019-05-25T03:32:56.084777Z"
    }
   },
   "outputs": [
    {
     "name": "stdout",
     "output_type": "stream",
     "text": [
      "(1707, 493) (427, 493)\n",
      "(1707, 493) (427, 493)\n",
      "(1707, 493) (427, 493)\n",
      "(1707, 493) (427, 493)\n",
      "(1708, 493) (426, 493)\n",
      "Training ndcg scoring is  0.8773705614469083\n",
      "Testing ndcg scoring is  0.6309297535714575\n"
     ]
    }
   ],
   "source": [
    "from sklearn.model_selection import KFold, train_test_split, cross_val_score\n",
    "\n",
    "randomstate=2019\n",
    "\n",
    "kf=KFold(n_splits=5,random_state=randomstate)\n",
    "\n",
    "train_score=[]\n",
    "cv_score=[]\n",
    "\n",
    "k_ndcg=11\n",
    "\n",
    "for train_index,test_index in kf.split(xtrain_new_stdsca,ytrain_le_new):\n",
    "    x_train,x_test=xtrain_new_stdsca[train_index,:],xtrain_new_stdsca[test_index,:]\n",
    "    y_train,y_test=ytrain_le_new[train_index],ytrain_le_new[test_index]\n",
    "    \n",
    "    print(x_train.shape,x_test.shape)\n",
    "    \n",
    "    lr.fit(x_train,y_train)\n",
    "    y_pred=lr.predict_proba(x_test)\n",
    "    \n",
    "    train_ndcg_score=ndcg(y_train,lr.predict_proba(x_train),k=k_ndcg)\n",
    "    test_ndcg_score=ndcg(y_test,y_pred,k=k_ndcg)\n",
    "    \n",
    "    train_score.append(train_ndcg_score)\n",
    "    cv_score.append(cv_ndcg_score)\n",
    "    \n",
    "print('Training ndcg scoring is ',np.mean(train_score))\n",
    "print('Testing ndcg scoring is ',np.mean(cv_score))"
   ]
  },
  {
   "cell_type": "markdown",
   "metadata": {},
   "source": [
    "#### 迭代次数对比"
   ]
  },
  {
   "cell_type": "code",
   "execution_count": 32,
   "metadata": {
    "ExecuteTime": {
     "end_time": "2019-05-24T11:18:44.578247Z",
     "start_time": "2019-05-24T11:16:16.842491Z"
    }
   },
   "outputs": [
    {
     "name": "stdout",
     "output_type": "stream",
     "text": [
      "The max_iter is 1\n"
     ]
    },
    {
     "name": "stderr",
     "output_type": "stream",
     "text": [
      "E:\\ProgramData\\Anaconda3\\envs\\tensorflow35\\lib\\site-packages\\sklearn\\utils\\optimize.py:203: ConvergenceWarning: newton-cg failed to converge. Increase the number of iterations.\n",
      "  \"number of iterations.\", ConvergenceWarning)\n",
      "E:\\ProgramData\\Anaconda3\\envs\\tensorflow35\\lib\\site-packages\\sklearn\\utils\\optimize.py:203: ConvergenceWarning: newton-cg failed to converge. Increase the number of iterations.\n",
      "  \"number of iterations.\", ConvergenceWarning)\n",
      "E:\\ProgramData\\Anaconda3\\envs\\tensorflow35\\lib\\site-packages\\sklearn\\utils\\optimize.py:203: ConvergenceWarning: newton-cg failed to converge. Increase the number of iterations.\n",
      "  \"number of iterations.\", ConvergenceWarning)\n",
      "E:\\ProgramData\\Anaconda3\\envs\\tensorflow35\\lib\\site-packages\\sklearn\\utils\\optimize.py:203: ConvergenceWarning: newton-cg failed to converge. Increase the number of iterations.\n",
      "  \"number of iterations.\", ConvergenceWarning)\n",
      "E:\\ProgramData\\Anaconda3\\envs\\tensorflow35\\lib\\site-packages\\sklearn\\utils\\optimize.py:203: ConvergenceWarning: newton-cg failed to converge. Increase the number of iterations.\n",
      "  \"number of iterations.\", ConvergenceWarning)\n"
     ]
    },
    {
     "name": "stdout",
     "output_type": "stream",
     "text": [
      "Training ndcg scoring is  0.8773705614469083\n",
      "Testing ndcg scoring is  0.3101848666921606 .\n",
      "\n",
      "The max_iter is 20\n"
     ]
    },
    {
     "name": "stderr",
     "output_type": "stream",
     "text": [
      "E:\\ProgramData\\Anaconda3\\envs\\tensorflow35\\lib\\site-packages\\sklearn\\utils\\optimize.py:203: ConvergenceWarning: newton-cg failed to converge. Increase the number of iterations.\n",
      "  \"number of iterations.\", ConvergenceWarning)\n",
      "E:\\ProgramData\\Anaconda3\\envs\\tensorflow35\\lib\\site-packages\\sklearn\\utils\\optimize.py:203: ConvergenceWarning: newton-cg failed to converge. Increase the number of iterations.\n",
      "  \"number of iterations.\", ConvergenceWarning)\n",
      "E:\\ProgramData\\Anaconda3\\envs\\tensorflow35\\lib\\site-packages\\sklearn\\utils\\optimize.py:203: ConvergenceWarning: newton-cg failed to converge. Increase the number of iterations.\n",
      "  \"number of iterations.\", ConvergenceWarning)\n",
      "E:\\ProgramData\\Anaconda3\\envs\\tensorflow35\\lib\\site-packages\\sklearn\\utils\\optimize.py:203: ConvergenceWarning: newton-cg failed to converge. Increase the number of iterations.\n",
      "  \"number of iterations.\", ConvergenceWarning)\n"
     ]
    },
    {
     "name": "stdout",
     "output_type": "stream",
     "text": [
      "Training ndcg scoring is  0.8773705614469083\n",
      "Testing ndcg scoring is  0.7785578521428747 .\n",
      "\n",
      "The max_iter is 30\n",
      "Training ndcg scoring is  0.8773705614469083\n",
      "Testing ndcg scoring is  0.7785578521428747 .\n",
      "\n",
      "The max_iter is 40\n",
      "Training ndcg scoring is  0.8773705614469083\n",
      "Testing ndcg scoring is  0.7785578521428747 .\n",
      "\n",
      "The max_iter is 50\n",
      "Training ndcg scoring is  0.8773705614469083\n",
      "Testing ndcg scoring is  0.7785578521428747 .\n",
      "\n",
      "The max_iter is 100\n",
      "Training ndcg scoring is  0.8773705614469083\n",
      "Testing ndcg scoring is  0.7785578521428747 .\n",
      "\n"
     ]
    }
   ],
   "source": [
    "from sklearn.linear_model import LogisticRegression as lg\n",
    "\n",
    "iteration=[1,20,30,40,50,100]\n",
    "\n",
    "train_score=[]\n",
    "cv_score=[]\n",
    "\n",
    "kf=KFold(n_splits=5,random_state=2017)\n",
    "\n",
    "k_ndcg=11\n",
    "\n",
    "for max_iter in iteration:\n",
    "    lr=lg(solver='newton-cg',multi_class='multinomial',max_iter=max_iter)\n",
    "    \n",
    "    train_iter_score=[]\n",
    "    cv_iter_score=[]\n",
    "    \n",
    "    print('The max_iter is %s'%(max_iter))\n",
    "    \n",
    "    for train_index,test_index in kf.split(xtrain_new_stdsca,ytrain_le_new):\n",
    "        x_train,x_test=xtrain_new_stdsca[train_index,:],xtrain_new_stdsca[test_index,:]\n",
    "        y_train,y_test=ytrain_le_new[train_index],ytrain_le_new[test_index]\n",
    "\n",
    "        lr.fit(x_train,y_train)\n",
    "        y_pred=lr.predict_proba(x_test)\n",
    "    \n",
    "        train_ndcg_score=ndcg(y_train,lr.predict_proba(x_train),k=k_ndcg)\n",
    "        cv_ndcg_score=ndcg(y_test,y_pred,k=k_ndcg)\n",
    "    \n",
    "        train_iter_score.append(train_ndcg_score)\n",
    "        cv_iter_score.append(cv_ndcg_score)\n",
    "    \n",
    "    train_score.append(np.mean(train_iter_score))\n",
    "    cv_score.append(np.mean(cv_iter_score))\n",
    "    print('Training ndcg scoring is ',np.mean(train_iter_score))\n",
    "    print('Testing ndcg scoring is ',np.mean(cv_iter_score),'.\\n')\n",
    "    ##加上\\n可以换行，方便查看"
   ]
  },
  {
   "cell_type": "code",
   "execution_count": 40,
   "metadata": {
    "ExecuteTime": {
     "end_time": "2019-05-24T11:23:50.558355Z",
     "start_time": "2019-05-24T11:23:50.232886Z"
    }
   },
   "outputs": [
    {
     "data": {
      "image/png": "[encoded data removed]",
      "text/plain": [
       "<Figure size 432x288 with 1 Axes>"
      ]
     },
     "metadata": {},
     "output_type": "display_data"
    }
   ],
   "source": [
    "ymin=np.min(cv_score)-0.05\n",
    "ymax=1\n",
    "\n",
    "plt.plot(iteration,train_score,'ro-',label='training')\n",
    "plt.plot(iteration,cv_score,'b*-',label='cross-validation')\n",
    "plt.ylabel('Score')\n",
    "plt.xlabel('iterations')\n",
    "plt.plot(np.linspace(20,20,50),np.linspace(ymin,ymax,50),'g--')\n",
    "plt.xlim(-5,np.max(iteration)+5)\n",
    "plt.ylim(ymin,ymax)\n",
    "plt.legend(loc='lower right',fontsize=12)\n",
    "plt.title('Learning Curve')\n",
    "for a,b in zip(iteration,train_score):\n",
    "    plt.text(a, b+0.025, '%.1f'%(b), ha='center', va= 'bottom',fontsize=12)\n",
    "for a,b in zip(iteration,cv_score):\n",
    "    plt.text(a,b+0.025,'%.1f'%(b),ha='center',va='bottom',fontsize=12)\n",
    "##  ha='center', va= 'bottom'代表 horizontalalignment（水平对齐）、verticalalignment（垂直对齐）的方式\n",
    "plt.tight_layout()"
   ]
  },
  {
   "cell_type": "markdown",
   "metadata": {},
   "source": [
    "### Tree method"
   ]
  },
  {
   "cell_type": "markdown",
   "metadata": {},
   "source": [
    "#### 随机森林模型不同数量分类器效果对比"
   ]
  },
  {
   "cell_type": "code",
   "execution_count": 22,
   "metadata": {
    "ExecuteTime": {
     "end_time": "2019-05-25T03:20:16.554865Z",
     "start_time": "2019-05-25T03:18:29.552501Z"
    }
   },
   "outputs": [
    {
     "name": "stdout",
     "output_type": "stream",
     "text": [
      "RandomForestClassifier(bootstrap=True, class_weight=None, criterion='gini',\n",
      "            max_depth=9, max_features='auto', max_leaf_nodes=None,\n",
      "            min_impurity_decrease=0.0, min_impurity_split=None,\n",
      "            min_samples_leaf=1, min_samples_split=2,\n",
      "            min_weight_fraction_leaf=0.0, n_estimators=100, n_jobs=None,\n",
      "            oob_score=False, random_state=2019, verbose=0,\n",
      "            warm_start=False)\n",
      "Training_score is 0.8666666666666666.\n",
      "Cv_score is 0.8523719014285831.\n",
      "\n",
      "RandomForestClassifier(bootstrap=True, class_weight=None, criterion='gini',\n",
      "            max_depth=9, max_features='auto', max_leaf_nodes=None,\n",
      "            min_impurity_decrease=0.0, min_impurity_split=None,\n",
      "            min_samples_leaf=1, min_samples_split=2,\n",
      "            min_weight_fraction_leaf=0.0, n_estimators=200, n_jobs=None,\n",
      "            oob_score=False, random_state=2019, verbose=0,\n",
      "            warm_start=False)\n",
      "Training_score is 0.8689540520441354.\n",
      "Cv_score is 0.7785578521428745.\n",
      "\n",
      "RandomForestClassifier(bootstrap=True, class_weight=None, criterion='gini',\n",
      "            max_depth=9, max_features='auto', max_leaf_nodes=None,\n",
      "            min_impurity_decrease=0.0, min_impurity_split=None,\n",
      "            min_samples_leaf=1, min_samples_split=2,\n",
      "            min_weight_fraction_leaf=0.0, n_estimators=300, n_jobs=None,\n",
      "            oob_score=False, random_state=2019, verbose=0,\n",
      "            warm_start=False)\n",
      "Training_score is 0.871759555178393.\n",
      "Cv_score is 0.7539531690476383.\n",
      "\n",
      "RandomForestClassifier(bootstrap=True, class_weight=None, criterion='gini',\n",
      "            max_depth=9, max_features='auto', max_leaf_nodes=None,\n",
      "            min_impurity_decrease=0.0, min_impurity_split=None,\n",
      "            min_samples_leaf=1, min_samples_split=2,\n",
      "            min_weight_fraction_leaf=0.0, n_estimators=400, n_jobs=None,\n",
      "            oob_score=False, random_state=2019, verbose=0,\n",
      "            warm_start=False)\n",
      "Training_score is 0.8704863330504614.\n",
      "Cv_score is 0.7416508275000202.\n",
      "\n",
      "RandomForestClassifier(bootstrap=True, class_weight=None, criterion='gini',\n",
      "            max_depth=9, max_features='auto', max_leaf_nodes=None,\n",
      "            min_impurity_decrease=0.0, min_impurity_split=None,\n",
      "            min_samples_leaf=1, min_samples_split=2,\n",
      "            min_weight_fraction_leaf=0.0, n_estimators=500, n_jobs=None,\n",
      "            oob_score=False, random_state=2019, verbose=0,\n",
      "            warm_start=False)\n",
      "Training_score is 0.8697223997737025.\n",
      "Cv_score is 0.7342694225714494.\n",
      "\n",
      "RandomForestClassifier(bootstrap=True, class_weight=None, criterion='gini',\n",
      "            max_depth=9, max_features='auto', max_leaf_nodes=None,\n",
      "            min_impurity_decrease=0.0, min_impurity_split=None,\n",
      "            min_samples_leaf=1, min_samples_split=2,\n",
      "            min_weight_fraction_leaf=0.0, n_estimators=600, n_jobs=None,\n",
      "            oob_score=False, random_state=2019, verbose=0,\n",
      "            warm_start=False)\n",
      "Training_score is 0.8692131109225297.\n",
      "Cv_score is 0.7293484859524022.\n",
      "\n",
      "RandomForestClassifier(bootstrap=True, class_weight=None, criterion='gini',\n",
      "            max_depth=9, max_features='auto', max_leaf_nodes=None,\n",
      "            min_impurity_decrease=0.0, min_impurity_split=None,\n",
      "            min_samples_leaf=1, min_samples_split=2,\n",
      "            min_weight_fraction_leaf=0.0, n_estimators=700, n_jobs=None,\n",
      "            oob_score=False, random_state=2019, verbose=0,\n",
      "            warm_start=False)\n",
      "Training_score is 0.8688493331716921.\n",
      "Cv_score is 0.7258335312245113.\n",
      "\n",
      "RandomForestClassifier(bootstrap=True, class_weight=None, criterion='gini',\n",
      "            max_depth=9, max_features='auto', max_leaf_nodes=None,\n",
      "            min_impurity_decrease=0.0, min_impurity_split=None,\n",
      "            min_samples_leaf=1, min_samples_split=2,\n",
      "            min_weight_fraction_leaf=0.0, n_estimators=800, n_jobs=None,\n",
      "            oob_score=False, random_state=2019, verbose=0,\n",
      "            warm_start=False)\n",
      "Training_score is 0.868576499858564.\n",
      "Cv_score is 0.7139705590178795.\n",
      "\n",
      "RandomForestClassifier(bootstrap=True, class_weight=None, criterion='gini',\n",
      "            max_depth=9, max_features='auto', max_leaf_nodes=None,\n",
      "            min_impurity_decrease=0.0, min_impurity_split=None,\n",
      "            min_samples_leaf=1, min_samples_split=2,\n",
      "            min_weight_fraction_leaf=0.0, n_estimators=900, n_jobs=None,\n",
      "            oob_score=False, random_state=2019, verbose=0,\n",
      "            warm_start=False)\n",
      "Training_score is 0.8683642961705753.\n",
      "Cv_score is 0.7129453638889114.\n",
      "\n",
      "RandomForestClassifier(bootstrap=True, class_weight=None, criterion='gini',\n",
      "            max_depth=9, max_features='auto', max_leaf_nodes=None,\n",
      "            min_impurity_decrease=0.0, min_impurity_split=None,\n",
      "            min_samples_leaf=1, min_samples_split=2,\n",
      "            min_weight_fraction_leaf=0.0, n_estimators=1000, n_jobs=None,\n",
      "            oob_score=False, random_state=2019, verbose=0,\n",
      "            warm_start=False)\n",
      "Training_score is 0.8681945332201846.\n",
      "Cv_score is 0.7121252077857368.\n",
      "\n"
     ]
    }
   ],
   "source": [
    "##learning_rate=0.1只用于boost方法\n",
    "max_depth=9\n",
    "random_state=2019\n",
    "num_estimators=100+np.arange(0,1000,100)\n",
    "\n",
    "from sklearn.ensemble import RandomForestClassifier as RF\n",
    "from sklearn.model_selection import KFold\n",
    "\n",
    "kf=KFold(n_splits=5,random_state=random_state)\n",
    "\n",
    "train_score=[]\n",
    "cv_score=[]\n",
    "\n",
    "k_ndcg=11\n",
    "\n",
    "for n_estimators in num_estimators:\n",
    "    clf=RF(max_depth=max_depth,n_estimators=n_estimators,random_state=random_state)\n",
    "    print(clf)\n",
    "    \n",
    "    train_nes_score=[]\n",
    "    cv_nes_score=[]\n",
    "    \n",
    "    for train_index,test_index in kf.split(xtrain_new_stdsca,ytrain_le_new):\n",
    "        x_train,x_test=xtrain_new_stdsca[train_index,:],xtrain_new_stdsca[test_index,:]\n",
    "        y_train,y_test=ytrain_le_new[train_index],ytrain_le_new[test_index]\n",
    "    \n",
    "        clf.fit(x_train,y_train)\n",
    "        y_pred=clf.predict_proba(x_test)\n",
    "        \n",
    "        train_ndcg_score=ndcg(y_train,clf.predict_proba(x_train),k=k_ndcg)\n",
    "        cv_ndcg_score=ndcg(y_test,y_pred,k=k_ndcg)\n",
    "        \n",
    "        train_nes_score.append(train_ndcg_score)\n",
    "        cv_nes_score.append(cv_ndcg_score)\n",
    "        \n",
    "    train_score.append(np.mean(train_nes_score))\n",
    "    cv_score.append(np.mean(cv_nes_score))\n",
    "    \n",
    "    print('Training_score is %s.'%(np.mean(train_score)))\n",
    "    print('Cv_score is %s.\\n'%(np.mean(cv_score)))"
   ]
  },
  {
   "cell_type": "code",
   "execution_count": 33,
   "metadata": {
    "ExecuteTime": {
     "end_time": "2019-05-25T03:30:25.124863Z",
     "start_time": "2019-05-25T03:30:24.761797Z"
    }
   },
   "outputs": [
    {
     "data": {
      "image/png": "[encoded data removed]",
      "text/plain": [
       "<Figure size 432x288 with 1 Axes>"
      ]
     },
     "metadata": {},
     "output_type": "display_data"
    }
   ],
   "source": [
    "plt.plot(num_estimators,train_score,'ro-',label='training score')\n",
    "plt.plot(num_estimators,cv_score,'b*-',label='cross-validation score')\n",
    "plt.xlabel('The number of estimators')\n",
    "plt.ylabel('Scoring')\n",
    "plt.xlim(np.min(num_estimators)-100,np.max(num_estimators)+100)\n",
    "plt.ylim(np.min(cv_score)-0.05,np.max(train_score)+0.05)\n",
    "plt.title('Different nums of estimators')\n",
    "plt.legend(loc='best',fontsize=12)\n",
    "for a,b in zip(num_estimators,train_score):\n",
    "    plt.text(a,b+0.025,'%.3f'%(b),ha='center',va='bottom',fontsize=8)\n",
    "for a,b in zip(num_estimators,cv_score):\n",
    "    plt.text(a,b-0.025,'%.3f'%(b),ha='center',va='bottom',fontsize=8)\n",
    "plt.tight_layout()"
   ]
  },
  {
   "cell_type": "markdown",
   "metadata": {},
   "source": [
    "#### 各种树模型拟合效果对比"
   ]
  },
  {
   "cell_type": "code",
   "execution_count": 83,
   "metadata": {
    "ExecuteTime": {
     "end_time": "2019-05-25T05:44:08.070651Z",
     "start_time": "2019-05-25T05:44:07.988596Z"
    }
   },
   "outputs": [],
   "source": [
    "from sklearn.ensemble import AdaBoostClassifier,GradientBoostingClassifier,ExtraTreesClassifier,RandomForestClassifier,BaggingClassifier\n",
    "from sklearn.tree import DecisionTreeClassifier\n",
    "\n",
    "learning_rate=0.1\n",
    "n_estimators=50\n",
    "random_state=2019\n",
    "max_depth=9\n",
    "\n",
    "clf_tree={\n",
    "    'DTree':DecisionTreeClassifier(max_depth=max_depth,\n",
    "                                  random_state=random_state),\n",
    "    'Bagging':BaggingClassifier(n_estimators=n_estimators,\n",
    "                               random_state=random_state),\n",
    "    'RF':RandomForestClassifier(max_depth=max_depth,\n",
    "                               random_state=random_state,\n",
    "                               n_estimators=n_estimators),\n",
    "    'ExtraTree':ExtraTreesClassifier(max_depth=max_depth,\n",
    "                                   n_estimators=n_estimators,\n",
    "                                   random_state=random_state),\n",
    "    'AdaBoost':AdaBoostClassifier(n_estimators=n_estimators,\n",
    "                                 random_state=random_state,\n",
    "                                 learning_rate=learning_rate),\n",
    "    'GraBoost':GradientBoostingClassifier(n_estimators=n_estimators,\n",
    "                                      random_state=random_state,\n",
    "                                      learning_rate=learning_rate,\n",
    "                                      max_depth=max_depth)\n",
    "}"
   ]
  },
  {
   "cell_type": "code",
   "execution_count": 84,
   "metadata": {
    "ExecuteTime": {
     "end_time": "2019-05-25T05:44:08.726086Z",
     "start_time": "2019-05-25T05:44:08.713078Z"
    }
   },
   "outputs": [
    {
     "name": "stdout",
     "output_type": "stream",
     "text": [
      "DecisionTreeClassifier(class_weight=None, criterion='gini', max_depth=9,\n",
      "            max_features=None, max_leaf_nodes=None,\n",
      "            min_impurity_decrease=0.0, min_impurity_split=None,\n",
      "            min_samples_leaf=1, min_samples_split=2,\n",
      "            min_weight_fraction_leaf=0.0, presort=False, random_state=2019,\n",
      "            splitter='best')\n",
      "AdaBoostClassifier(algorithm='SAMME.R', base_estimator=None,\n",
      "          learning_rate=0.1, n_estimators=50, random_state=2019)\n",
      "GradientBoostingClassifier(criterion='friedman_mse', init=None,\n",
      "              learning_rate=0.1, loss='deviance', max_depth=9,\n",
      "              max_features=None, max_leaf_nodes=None,\n",
      "              min_impurity_decrease=0.0, min_impurity_split=None,\n",
      "              min_samples_leaf=1, min_samples_split=2,\n",
      "              min_weight_fraction_leaf=0.0, n_estimators=50,\n",
      "              n_iter_no_change=None, presort='auto', random_state=2019,\n",
      "              subsample=1.0, tol=0.0001, validation_fraction=0.1,\n",
      "              verbose=0, warm_start=False)\n",
      "ExtraTreesClassifier(bootstrap=False, class_weight=None, criterion='gini',\n",
      "           max_depth=9, max_features='auto', max_leaf_nodes=None,\n",
      "           min_impurity_decrease=0.0, min_impurity_split=None,\n",
      "           min_samples_leaf=1, min_samples_split=2,\n",
      "           min_weight_fraction_leaf=0.0, n_estimators=50, n_jobs=None,\n",
      "           oob_score=False, random_state=2019, verbose=0, warm_start=False)\n",
      "BaggingClassifier(base_estimator=None, bootstrap=True,\n",
      "         bootstrap_features=False, max_features=1.0, max_samples=1.0,\n",
      "         n_estimators=50, n_jobs=None, oob_score=False, random_state=2019,\n",
      "         verbose=0, warm_start=False)\n",
      "RandomForestClassifier(bootstrap=True, class_weight=None, criterion='gini',\n",
      "            max_depth=9, max_features='auto', max_leaf_nodes=None,\n",
      "            min_impurity_decrease=0.0, min_impurity_split=None,\n",
      "            min_samples_leaf=1, min_samples_split=2,\n",
      "            min_weight_fraction_leaf=0.0, n_estimators=50, n_jobs=None,\n",
      "            oob_score=False, random_state=2019, verbose=0,\n",
      "            warm_start=False)\n"
     ]
    }
   ],
   "source": [
    "for keys in clf_tree.keys():\n",
    "    print(clf_tree[keys])"
   ]
  },
  {
   "cell_type": "code",
   "execution_count": 85,
   "metadata": {
    "ExecuteTime": {
     "end_time": "2019-05-25T05:46:29.823592Z",
     "start_time": "2019-05-25T05:44:09.372521Z"
    }
   },
   "outputs": [
    {
     "name": "stdout",
     "output_type": "stream",
     "text": [
      "DecisionTreeClassifier(class_weight=None, criterion='gini', max_depth=9,\n",
      "            max_features=None, max_leaf_nodes=None,\n",
      "            min_impurity_decrease=0.0, min_impurity_split=None,\n",
      "            min_samples_leaf=1, min_samples_split=2,\n",
      "            min_weight_fraction_leaf=0.0, presort=False, random_state=2019,\n",
      "            splitter='best')\n",
      "The train_score is 0.8712414374216044.\n",
      "The cv_socre is 0.6071130243223998.\n",
      "\n",
      "AdaBoostClassifier(algorithm='SAMME.R', base_estimator=None,\n",
      "          learning_rate=0.1, n_estimators=50, random_state=2019)\n",
      "The train_score is 0.5649498019899623.\n",
      "The cv_socre is 0.704743802857166.\n",
      "\n",
      "GradientBoostingClassifier(criterion='friedman_mse', init=None,\n",
      "              learning_rate=0.1, loss='deviance', max_depth=9,\n",
      "              max_features=None, max_leaf_nodes=None,\n",
      "              min_impurity_decrease=0.0, min_impurity_split=None,\n",
      "              min_samples_leaf=1, min_samples_split=2,\n",
      "              min_weight_fraction_leaf=0.0, n_estimators=50,\n",
      "              n_iter_no_change=None, presort='auto', random_state=2019,\n",
      "              subsample=1.0, tol=0.0001, validation_fraction=0.1,\n",
      "              verbose=0, warm_start=False)\n",
      "The train_score is 0.9.\n",
      "The cv_socre is 0.7785578521428747.\n",
      "\n",
      "ExtraTreesClassifier(bootstrap=False, class_weight=None, criterion='gini',\n",
      "           max_depth=9, max_features='auto', max_leaf_nodes=None,\n",
      "           min_impurity_decrease=0.0, min_impurity_split=None,\n",
      "           min_samples_leaf=1, min_samples_split=2,\n",
      "           min_weight_fraction_leaf=0.0, n_estimators=50, n_jobs=None,\n",
      "           oob_score=False, random_state=2019, verbose=0, warm_start=False)\n",
      "The train_score is 0.8773705614469083.\n",
      "The cv_socre is 0.704743802857166.\n",
      "\n",
      "BaggingClassifier(base_estimator=None, bootstrap=True,\n",
      "         bootstrap_features=False, max_features=1.0, max_samples=1.0,\n",
      "         n_estimators=50, n_jobs=None, oob_score=False, random_state=2019,\n",
      "         verbose=0, warm_start=False)\n",
      "The train_score is 0.8773705614469083.\n",
      "The cv_socre is 0.7785578521428744.\n",
      "\n",
      "RandomForestClassifier(bootstrap=True, class_weight=None, criterion='gini',\n",
      "            max_depth=9, max_features='auto', max_leaf_nodes=None,\n",
      "            min_impurity_decrease=0.0, min_impurity_split=None,\n",
      "            min_samples_leaf=1, min_samples_split=2,\n",
      "            min_weight_fraction_leaf=0.0, n_estimators=50, n_jobs=None,\n",
      "            oob_score=False, random_state=2019, verbose=0,\n",
      "            warm_start=False)\n",
      "The train_score is 0.8666666666666666.\n",
      "The cv_socre is 0.7785578521428744.\n",
      "\n"
     ]
    }
   ],
   "source": [
    "train_score=[]\n",
    "cv_score=[]\n",
    "\n",
    "k_ndcg=11\n",
    "\n",
    "kf=KFold(n_splits=5,random_state=2019)\n",
    "\n",
    "for keys in clf_tree.keys():\n",
    "    clf=clf_tree[keys]\n",
    "    print('%s'%(clf))\n",
    "    train_iter_score=[]\n",
    "    cv_iter_score=[]\n",
    "    for train_index,test_index in kf.split(xtrain_new_stdsca,ytrain_le_new):\n",
    "        x_train,x_test=xtrain_new_stdsca[train_index,:],xtrain_new_stdsca[test_index]\n",
    "        y_train,y_test=ytrain_le_new[train_index],ytrain_le_new[test_index]\n",
    "        \n",
    "        clf.fit(x_train,y_train)\n",
    "        y_pred=clf.predict_proba(x_test)\n",
    "        \n",
    "        train_ndcg_score=ndcg(y_train,clf.predict_proba(x_train),k=k_ndcg)\n",
    "        ##这里不能写ndcg(y_train,y_train)\n",
    "        cv_ndcg_score=ndcg(y_test,y_pred,k=k_ndcg)\n",
    "        \n",
    "        train_iter_score.append(train_ndcg_score)\n",
    "        cv_iter_score.append(cv_ndcg_score)\n",
    "        \n",
    "    train_score.append(np.mean(train_iter_score))\n",
    "    cv_score.append(np.mean(cv_iter_score))\n",
    "    \n",
    "    print('The train_score is %s.'%(np.mean(train_iter_score)))\n",
    "    print('The cv_socre is %s.\\n'%(np.mean(cv_iter_score)))"
   ]
  },
  {
   "cell_type": "code",
   "execution_count": 87,
   "metadata": {
    "ExecuteTime": {
     "end_time": "2019-05-25T05:48:41.692680Z",
     "start_time": "2019-05-25T05:48:41.350455Z"
    }
   },
   "outputs": [
    {
     "data": {
      "image/png": "[encoded data removed]",
      "text/plain": [
       "<Figure size 432x288 with 1 Axes>"
      ]
     },
     "metadata": {},
     "output_type": "display_data"
    }
   ],
   "source": [
    "plt.plot(clf_tree.keys(),train_score,'ro-',label='training')\n",
    "plt.plot(clf_tree.keys(),cv_score,'b*-',label='cross-validation')\n",
    "plt.xlabel('Tree-methods')\n",
    "plt.ylabel('Scoring')\n",
    "plt.ylim(np.min(train_score)-0.05,np.max(train_score)+0.05)\n",
    "plt.title('Different tree methods')\n",
    "plt.legend(loc='best',fontsize=12)\n",
    "for a,b in zip(clf_tree.keys(),train_score):\n",
    "    plt.text(a,b+0.025,'%.4f'%(b),ha='center',va='bottom',fontsize=8)\n",
    "for a,b in zip(clf_tree.keys(),cv_score):\n",
    "    plt.text(a,b+0.025,'%.4f'%(b),ha='center',va='bottom',fontsize=8)\n",
    "plt.tight_layout()\n",
    "##Bagging默认就是决策树做基分类器"
   ]
  },
  {
   "cell_type": "markdown",
   "metadata": {},
   "source": [
    "由图可以看出，RF和Bagging分数一样，因为Bagging默认也使用决策树做基分类器，即还是此时的Bagging就是一个RF"
   ]
  },
  {
   "cell_type": "markdown",
   "metadata": {},
   "source": [
    "### SVM"
   ]
  },
  {
   "cell_type": "code",
   "execution_count": 32,
   "metadata": {
    "ExecuteTime": {
     "end_time": "2019-05-27T18:01:37.797424Z",
     "start_time": "2019-05-27T18:01:37.755398Z"
    }
   },
   "outputs": [],
   "source": [
    "from sklearn.svm import SVC,LinearSVC,NuSVC\n",
    "\n",
    "tol=1e-4\n",
    "max_iter=1000\n",
    "random_state=2019\n",
    "\n",
    "clf_svm={'SVM-rbf':SVC(kernel='rbf',\n",
    "                       gamma='auto',\n",
    "                       max_iter=max_iter,\n",
    "                       tol=tol,\n",
    "                       random_state=random_state,\n",
    "                       decision_function_shape='ovr'),\n",
    "         'SVM-poly':SVC(kernel='poly',\n",
    "                        gamma='auto',\n",
    "                       max_iter=max_iter,\n",
    "                       tol=tol,\n",
    "                       random_state=random_state,\n",
    "                       decision_function_shape='ovr'),\n",
    "         'SVM-linear':SVC(kernel='linear',\n",
    "                          gamma='auto',\n",
    "                         max_iter=max_iter,\n",
    "                         tol=tol,\n",
    "                         random_state=random_state,\n",
    "                         decision_function_shape='ovr'),\n",
    "         'LinearSVC':LinearSVC(max_iter=max_iter,\n",
    "                              tol=tol,\n",
    "                              random_state=random_state,\n",
    "                              multi_class='ovr')#,\n",
    "#         'NuSVC':NuSVC(nu=0.5,\n",
    " #                      tol=tol,\n",
    "  #                     gamma='auto',\n",
    "   #                    random_state=random_state,\n",
    "    #                   decision_function_shape='ovr',\n",
    "     #                  max_iter =max_iter)\n",
    "}\n",
    "##ovr是依次选定一类后，将剩下的所有类归为一类，依次输出分类概率，概率较大的在最后作为分类结果\n",
    "##ovo是每两个类做一次分类输出分类概率（两两组合），依次按概率选出并叠加各个分类结果，最终选出次数最高的结果\n",
    "##poly是多项式核函数，其参数比高斯核要多！"
   ]
  },
  {
   "cell_type": "code",
   "execution_count": 34,
   "metadata": {
    "ExecuteTime": {
     "end_time": "2019-05-27T18:01:40.026945Z",
     "start_time": "2019-05-27T18:01:40.015939Z"
    }
   },
   "outputs": [
    {
     "name": "stdout",
     "output_type": "stream",
     "text": [
      "SVC(C=1.0, cache_size=200, class_weight=None, coef0=0.0,\n",
      "  decision_function_shape='ovr', degree=3, gamma='auto', kernel='poly',\n",
      "  max_iter=1000, probability=False, random_state=2019, shrinking=True,\n",
      "  tol=0.0001, verbose=False)\n",
      "LinearSVC(C=1.0, class_weight=None, dual=True, fit_intercept=True,\n",
      "     intercept_scaling=1, loss='squared_hinge', max_iter=1000,\n",
      "     multi_class='ovr', penalty='l2', random_state=2019, tol=0.0001,\n",
      "     verbose=0)\n",
      "SVC(C=1.0, cache_size=200, class_weight=None, coef0=0.0,\n",
      "  decision_function_shape='ovr', degree=3, gamma='auto', kernel='linear',\n",
      "  max_iter=1000, probability=False, random_state=2019, shrinking=True,\n",
      "  tol=0.0001, verbose=False)\n",
      "SVC(C=1.0, cache_size=200, class_weight=None, coef0=0.0,\n",
      "  decision_function_shape='ovr', degree=3, gamma='auto', kernel='rbf',\n",
      "  max_iter=1000, probability=False, random_state=2019, shrinking=True,\n",
      "  tol=0.0001, verbose=False)\n"
     ]
    }
   ],
   "source": [
    "for key in clf_svm.keys():\n",
    "    print(clf_svm[key])"
   ]
  },
  {
   "cell_type": "code",
   "execution_count": 35,
   "metadata": {
    "ExecuteTime": {
     "end_time": "2019-05-27T18:03:17.933435Z",
     "start_time": "2019-05-27T18:01:40.794614Z"
    }
   },
   "outputs": [
    {
     "name": "stdout",
     "output_type": "stream",
     "text": [
      "SVC(C=1.0, cache_size=200, class_weight=None, coef0=0.0,\n",
      "  decision_function_shape='ovr', degree=3, gamma='auto', kernel='poly',\n",
      "  max_iter=1000, probability=False, random_state=2019, shrinking=True,\n",
      "  tol=0.0001, verbose=False)\n"
     ]
    },
    {
     "name": "stderr",
     "output_type": "stream",
     "text": [
      "E:\\ProgramData\\Anaconda3\\envs\\tensorflow35\\lib\\site-packages\\sklearn\\svm\\base.py:244: ConvergenceWarning: Solver terminated early (max_iter=1000).  Consider pre-processing your data with StandardScaler or MinMaxScaler.\n",
      "  % self.max_iter, ConvergenceWarning)\n"
     ]
    },
    {
     "name": "stdout",
     "output_type": "stream",
     "text": [
      "Training score is 0.8861353116146786.\n",
      "Cv score is 0.7785578521428744.\n",
      "LinearSVC(C=1.0, class_weight=None, dual=True, fit_intercept=True,\n",
      "     intercept_scaling=1, loss='squared_hinge', max_iter=1000,\n",
      "     multi_class='ovr', penalty='l2', random_state=2019, tol=0.0001,\n",
      "     verbose=0)\n"
     ]
    },
    {
     "name": "stderr",
     "output_type": "stream",
     "text": [
      "E:\\ProgramData\\Anaconda3\\envs\\tensorflow35\\lib\\site-packages\\sklearn\\svm\\base.py:922: ConvergenceWarning: Liblinear failed to converge, increase the number of iterations.\n",
      "  \"the number of iterations.\", ConvergenceWarning)\n",
      "E:\\ProgramData\\Anaconda3\\envs\\tensorflow35\\lib\\site-packages\\sklearn\\svm\\base.py:922: ConvergenceWarning: Liblinear failed to converge, increase the number of iterations.\n",
      "  \"the number of iterations.\", ConvergenceWarning)\n",
      "E:\\ProgramData\\Anaconda3\\envs\\tensorflow35\\lib\\site-packages\\sklearn\\svm\\base.py:922: ConvergenceWarning: Liblinear failed to converge, increase the number of iterations.\n",
      "  \"the number of iterations.\", ConvergenceWarning)\n",
      "E:\\ProgramData\\Anaconda3\\envs\\tensorflow35\\lib\\site-packages\\sklearn\\svm\\base.py:922: ConvergenceWarning: Liblinear failed to converge, increase the number of iterations.\n",
      "  \"the number of iterations.\", ConvergenceWarning)\n",
      "E:\\ProgramData\\Anaconda3\\envs\\tensorflow35\\lib\\site-packages\\sklearn\\svm\\base.py:922: ConvergenceWarning: Liblinear failed to converge, increase the number of iterations.\n",
      "  \"the number of iterations.\", ConvergenceWarning)\n"
     ]
    },
    {
     "name": "stdout",
     "output_type": "stream",
     "text": [
      "Training score is 0.8773705614469083.\n",
      "Cv score is 0.5785578521428745.\n",
      "SVC(C=1.0, cache_size=200, class_weight=None, coef0=0.0,\n",
      "  decision_function_shape='ovr', degree=3, gamma='auto', kernel='linear',\n",
      "  max_iter=1000, probability=False, random_state=2019, shrinking=True,\n",
      "  tol=0.0001, verbose=False)\n"
     ]
    },
    {
     "name": "stderr",
     "output_type": "stream",
     "text": [
      "E:\\ProgramData\\Anaconda3\\envs\\tensorflow35\\lib\\site-packages\\sklearn\\svm\\base.py:244: ConvergenceWarning: Solver terminated early (max_iter=1000).  Consider pre-processing your data with StandardScaler or MinMaxScaler.\n",
      "  % self.max_iter, ConvergenceWarning)\n",
      "E:\\ProgramData\\Anaconda3\\envs\\tensorflow35\\lib\\site-packages\\sklearn\\svm\\base.py:244: ConvergenceWarning: Solver terminated early (max_iter=1000).  Consider pre-processing your data with StandardScaler or MinMaxScaler.\n",
      "  % self.max_iter, ConvergenceWarning)\n",
      "E:\\ProgramData\\Anaconda3\\envs\\tensorflow35\\lib\\site-packages\\sklearn\\svm\\base.py:244: ConvergenceWarning: Solver terminated early (max_iter=1000).  Consider pre-processing your data with StandardScaler or MinMaxScaler.\n",
      "  % self.max_iter, ConvergenceWarning)\n",
      "E:\\ProgramData\\Anaconda3\\envs\\tensorflow35\\lib\\site-packages\\sklearn\\svm\\base.py:244: ConvergenceWarning: Solver terminated early (max_iter=1000).  Consider pre-processing your data with StandardScaler or MinMaxScaler.\n",
      "  % self.max_iter, ConvergenceWarning)\n",
      "E:\\ProgramData\\Anaconda3\\envs\\tensorflow35\\lib\\site-packages\\sklearn\\svm\\base.py:244: ConvergenceWarning: Solver terminated early (max_iter=1000).  Consider pre-processing your data with StandardScaler or MinMaxScaler.\n",
      "  % self.max_iter, ConvergenceWarning)\n"
     ]
    },
    {
     "name": "stdout",
     "output_type": "stream",
     "text": [
      "Training score is 0.652371901428583.\n",
      "Cv score is 0.6785578521428745.\n",
      "SVC(C=1.0, cache_size=200, class_weight=None, coef0=0.0,\n",
      "  decision_function_shape='ovr', degree=3, gamma='auto', kernel='rbf',\n",
      "  max_iter=1000, probability=False, random_state=2019, shrinking=True,\n",
      "  tol=0.0001, verbose=False)\n"
     ]
    },
    {
     "name": "stderr",
     "output_type": "stream",
     "text": [
      "E:\\ProgramData\\Anaconda3\\envs\\tensorflow35\\lib\\site-packages\\sklearn\\svm\\base.py:244: ConvergenceWarning: Solver terminated early (max_iter=1000).  Consider pre-processing your data with StandardScaler or MinMaxScaler.\n",
      "  % self.max_iter, ConvergenceWarning)\n",
      "E:\\ProgramData\\Anaconda3\\envs\\tensorflow35\\lib\\site-packages\\sklearn\\svm\\base.py:244: ConvergenceWarning: Solver terminated early (max_iter=1000).  Consider pre-processing your data with StandardScaler or MinMaxScaler.\n",
      "  % self.max_iter, ConvergenceWarning)\n",
      "E:\\ProgramData\\Anaconda3\\envs\\tensorflow35\\lib\\site-packages\\sklearn\\svm\\base.py:244: ConvergenceWarning: Solver terminated early (max_iter=1000).  Consider pre-processing your data with StandardScaler or MinMaxScaler.\n",
      "  % self.max_iter, ConvergenceWarning)\n",
      "E:\\ProgramData\\Anaconda3\\envs\\tensorflow35\\lib\\site-packages\\sklearn\\svm\\base.py:244: ConvergenceWarning: Solver terminated early (max_iter=1000).  Consider pre-processing your data with StandardScaler or MinMaxScaler.\n",
      "  % self.max_iter, ConvergenceWarning)\n",
      "E:\\ProgramData\\Anaconda3\\envs\\tensorflow35\\lib\\site-packages\\sklearn\\svm\\base.py:244: ConvergenceWarning: Solver terminated early (max_iter=1000).  Consider pre-processing your data with StandardScaler or MinMaxScaler.\n",
      "  % self.max_iter, ConvergenceWarning)\n"
     ]
    },
    {
     "name": "stdout",
     "output_type": "stream",
     "text": [
      "Training score is 0.8861353116146786.\n",
      "Cv score is 0.8523719014285831.\n"
     ]
    }
   ],
   "source": [
    "from sklearn.model_selection import KFold\n",
    "\n",
    "train_score=[]\n",
    "cv_score=[]\n",
    "\n",
    "kf=KFold(n_splits=5,random_state=random_state)\n",
    "\n",
    "k_ndcg=5\n",
    "\n",
    "for key in clf_svm.keys():\n",
    "    clf=clf_svm[key]\n",
    "    print(clf_svm[key])\n",
    "    \n",
    "    train_ndcg_score=[]\n",
    "    cv_ndcg_score=[]\n",
    "    \n",
    "    for train_index,test_index in kf.split(xtrain_new_stdsca,ytrain_le_new):\n",
    "        x_train,x_test=xtrain_new_stdsca[train_index,:],xtrain_new_stdsca[test_index,:]\n",
    "        y_train,y_test=ytrain_le_new[train_index],ytrain_le_new[test_index]\n",
    "        \n",
    "        clf.fit(x_train,y_train)\n",
    "        y_pred=clf.decision_function(x_test)\n",
    "        \n",
    "        train_ndcg=ndcg(y_train,clf.decision_function(x_train),k=k_ndcg)\n",
    "        cv_ndcg=ndcg(y_test,y_pred,k=k_ndcg)\n",
    "        \n",
    "        train_ndcg_score.append(train_ndcg)\n",
    "        cv_ndcg_score.append(cv_ndcg)\n",
    "        \n",
    "    print('Training score is %s.'%(np.mean(train_ndcg_score)))\n",
    "    print('Cv score is %s.'%(np.mean(cv_ndcg_score)))\n",
    "    \n",
    "    train_ndcg_score.append(np.mean(train_ndcg_score))\n",
    "    cv_ndcg_score.append(np.mean(cv_ndcg_score))"
   ]
  },
  {
   "cell_type": "code",
   "execution_count": null,
   "metadata": {},
   "outputs": [],
   "source": []
  },
  {
   "cell_type": "markdown",
   "metadata": {},
   "source": [
    "### XGBOOST"
   ]
  },
  {
   "cell_type": "code",
   "execution_count": 90,
   "metadata": {
    "ExecuteTime": {
     "end_time": "2019-05-25T10:47:46.666895Z",
     "start_time": "2019-05-25T10:47:45.250029Z"
    }
   },
   "outputs": [],
   "source": [
    "import xgboost as xgb"
   ]
  }
 ],
 "metadata": {
  "kernelspec": {
   "display_name": "tensorflow35",
   "language": "python",
   "name": "tensorflow35"
  },
  "language_info": {
   "codemirror_mode": {
    "name": "ipython",
    "version": 3
   },
   "file_extension": ".py",
   "mimetype": "text/x-python",
   "name": "python",
   "nbconvert_exporter": "python",
   "pygments_lexer": "ipython3",
   "version": "3.5.4"
  },
  "latex_envs": {
   "LaTeX_envs_menu_present": true,
   "autoclose": false,
   "autocomplete": true,
   "bibliofile": "biblio.bib",
   "cite_by": "apalike",
   "current_citInitial": 1,
   "eqLabelWithNumbers": true,
   "eqNumInitial": 1,
   "hotkeys": {
    "equation": "Ctrl-E",
    "itemize": "Ctrl-I"
   },
   "labels_anchors": false,
   "latex_user_defs": false,
   "report_style_numbering": false,
   "user_envs_cfg": false
  },
  "toc": {
   "base_numbering": 1,
   "nav_menu": {},
   "number_sections": true,
   "sideBar": true,
   "skip_h1_title": false,
   "title_cell": "Table of Contents",
   "title_sidebar": "Contents",
   "toc_cell": true,
   "toc_position": {
    "height": "calc(100% - 180px)",
    "left": "10px",
    "top": "150px",
    "width": "273.188px"
   },
   "toc_section_display": true,
   "toc_window_display": false
  },
  "varInspector": {
   "cols": {
    "lenName": 16,
    "lenType": 16,
    "lenVar": 40
   },
   "kernels_config": {
    "python": {
     "delete_cmd_postfix": "",
     "delete_cmd_prefix": "del ",
     "library": "var_list.py",
     "varRefreshCmd": "print(var_dic_list())"
    },
    "r": {
     "delete_cmd_postfix": ") ",
     "delete_cmd_prefix": "rm(",
     "library": "var_list.r",
     "varRefreshCmd": "cat(var_dic_list()) "
    }
   },
   "types_to_exclude": [
    "module",
    "function",
    "builtin_function_or_method",
    "instance",
    "_Feature"
   ],
   "window_display": false
  }
 },
 "nbformat": 4,
 "nbformat_minor": 2
}
